{
  "cells": [
    {
      "cell_type": "markdown",
      "metadata": {
        "id": "kEhPeV6rQX-R"
      },
      "source": [
        "Data source:\n",
        "https://www.kaggle.com/c/jigsaw-toxic-comment-classification-challenge\n",
        "\n",
        "Objectives:\n",
        "Build a multi-headed model capable of detecting and assigning probabilities for different types of of toxicity such as:\n",
        "1. toxic\n",
        "2. severe toxic\n",
        "3. obscene\n",
        "4. threat\n",
        "5. insult\n",
        "6. identity hate\n",
        "\n",
        "The dataset comprises of comments from Wikipedia's talk page (ie. discussion) pages."
      ]
    },
    {
      "cell_type": "markdown",
      "metadata": {
        "id": "-DRK_BgdQX-T"
      },
      "source": [
        "### Import relevant libraries and load the data"
      ]
    },
    {
      "cell_type": "code",
      "execution_count": null,
      "metadata": {
        "id": "DBxjsgB-QX-T"
      },
      "outputs": [],
      "source": [
        "# Import relevant packages\n",
        "import matplotlib.pyplot as plt\n",
        "import nltk\n",
        "import numpy as np\n",
        "import re\n",
        "import pandas as pd\n",
        "import string\n",
        "import seaborn as sns\n",
        "\n",
        "from nltk.corpus import stopwords  # Remove useless words\n",
        "from nltk.stem.lancaster import LancasterStemmer  # Convert words to base form; aggressive\n",
        "\n",
        "# Import packages that help us to create document-term matrix\n",
        "from sklearn.feature_extraction.text import CountVectorizer, TfidfVectorizer"
      ]
    },
    {
      "cell_type": "code",
      "execution_count": null,
      "metadata": {
        "execution": {
          "iopub.execute_input": "2022-04-30T10:05:06.292651Z",
          "iopub.status.busy": "2022-04-30T10:05:06.291508Z",
          "iopub.status.idle": "2022-04-30T10:05:13.078747Z",
          "shell.execute_reply": "2022-04-30T10:05:13.077839Z",
          "shell.execute_reply.started": "2022-04-30T10:05:06.292598Z"
        },
        "trusted": true,
        "id": "wkxy9_9uQX-U"
      },
      "outputs": [],
      "source": [
        "import sys, os, re, csv, codecs, numpy as np, pandas as pd\n",
        "import matplotlib.pyplot as plt\n",
        "%matplotlib inline\n",
        "import string\n",
        "from keras.preprocessing.text import Tokenizer\n",
        "from keras.preprocessing.sequence import pad_sequences\n",
        "from keras.layers import Dense, Input, LSTM, Embedding, Dropout, Activation\n",
        "from keras.layers import Bidirectional, GlobalMaxPool1D\n",
        "from keras.models import Model\n",
        "from keras import initializers, regularizers, constraints, optimizers, layers"
      ]
    },
    {
      "cell_type": "markdown",
      "metadata": {
        "id": "H6yl7eCBQX-U"
      },
      "source": [
        "* NOTE: each function will be explained when used.\n"
      ]
    },
    {
      "cell_type": "code",
      "execution_count": null,
      "metadata": {
        "id": "QrMjPcVXQX-V",
        "outputId": "17bd9ad8-900e-4fa4-fca1-62bedb238035"
      },
      "outputs": [
        {
          "name": "stderr",
          "output_type": "stream",
          "text": [
            "[nltk_data] Downloading package stopwords to\n",
            "[nltk_data]     C:\\Users\\raksh\\AppData\\Roaming\\nltk_data...\n",
            "[nltk_data]   Package stopwords is already up-to-date!\n"
          ]
        },
        {
          "data": {
            "text/plain": [
              "True"
            ]
          },
          "execution_count": 33,
          "metadata": {},
          "output_type": "execute_result"
        }
      ],
      "source": [
        "nltk.download('stopwords')"
      ]
    },
    {
      "cell_type": "code",
      "execution_count": null,
      "metadata": {
        "id": "mVDyXXGxQX-V",
        "outputId": "5a8a4df5-0d60-4b24-c5f6-6e3173f834ef"
      },
      "outputs": [
        {
          "data": {
            "text/plain": [
              "{'a',\n",
              " 'about',\n",
              " 'above',\n",
              " 'after',\n",
              " 'again',\n",
              " 'against',\n",
              " 'ain',\n",
              " 'all',\n",
              " 'am',\n",
              " 'an',\n",
              " 'and',\n",
              " 'any',\n",
              " 'are',\n",
              " 'aren',\n",
              " \"aren't\",\n",
              " 'as',\n",
              " 'at',\n",
              " 'be',\n",
              " 'because',\n",
              " 'been',\n",
              " 'before',\n",
              " 'being',\n",
              " 'below',\n",
              " 'between',\n",
              " 'both',\n",
              " 'but',\n",
              " 'by',\n",
              " 'can',\n",
              " 'couldn',\n",
              " \"couldn't\",\n",
              " 'd',\n",
              " 'did',\n",
              " 'didn',\n",
              " \"didn't\",\n",
              " 'do',\n",
              " 'does',\n",
              " 'doesn',\n",
              " \"doesn't\",\n",
              " 'doing',\n",
              " 'don',\n",
              " \"don't\",\n",
              " 'down',\n",
              " 'during',\n",
              " 'each',\n",
              " 'few',\n",
              " 'for',\n",
              " 'from',\n",
              " 'further',\n",
              " 'had',\n",
              " 'hadn',\n",
              " \"hadn't\",\n",
              " 'has',\n",
              " 'hasn',\n",
              " \"hasn't\",\n",
              " 'have',\n",
              " 'haven',\n",
              " \"haven't\",\n",
              " 'having',\n",
              " 'he',\n",
              " 'her',\n",
              " 'here',\n",
              " 'hers',\n",
              " 'herself',\n",
              " 'him',\n",
              " 'himself',\n",
              " 'his',\n",
              " 'how',\n",
              " 'i',\n",
              " 'if',\n",
              " 'in',\n",
              " 'into',\n",
              " 'is',\n",
              " 'isn',\n",
              " \"isn't\",\n",
              " 'it',\n",
              " \"it's\",\n",
              " 'its',\n",
              " 'itself',\n",
              " 'just',\n",
              " 'll',\n",
              " 'm',\n",
              " 'ma',\n",
              " 'me',\n",
              " 'mightn',\n",
              " \"mightn't\",\n",
              " 'more',\n",
              " 'most',\n",
              " 'mustn',\n",
              " \"mustn't\",\n",
              " 'my',\n",
              " 'myself',\n",
              " 'needn',\n",
              " \"needn't\",\n",
              " 'no',\n",
              " 'nor',\n",
              " 'not',\n",
              " 'now',\n",
              " 'o',\n",
              " 'of',\n",
              " 'off',\n",
              " 'on',\n",
              " 'once',\n",
              " 'only',\n",
              " 'or',\n",
              " 'other',\n",
              " 'our',\n",
              " 'ours',\n",
              " 'ourselves',\n",
              " 'out',\n",
              " 'over',\n",
              " 'own',\n",
              " 're',\n",
              " 's',\n",
              " 'same',\n",
              " 'shan',\n",
              " \"shan't\",\n",
              " 'she',\n",
              " \"she's\",\n",
              " 'should',\n",
              " \"should've\",\n",
              " 'shouldn',\n",
              " \"shouldn't\",\n",
              " 'so',\n",
              " 'some',\n",
              " 'such',\n",
              " 't',\n",
              " 'than',\n",
              " 'that',\n",
              " \"that'll\",\n",
              " 'the',\n",
              " 'their',\n",
              " 'theirs',\n",
              " 'them',\n",
              " 'themselves',\n",
              " 'then',\n",
              " 'there',\n",
              " 'these',\n",
              " 'they',\n",
              " 'this',\n",
              " 'those',\n",
              " 'through',\n",
              " 'to',\n",
              " 'too',\n",
              " 'under',\n",
              " 'until',\n",
              " 'up',\n",
              " 've',\n",
              " 'very',\n",
              " 'was',\n",
              " 'wasn',\n",
              " \"wasn't\",\n",
              " 'we',\n",
              " 'were',\n",
              " 'weren',\n",
              " \"weren't\",\n",
              " 'what',\n",
              " 'when',\n",
              " 'where',\n",
              " 'which',\n",
              " 'while',\n",
              " 'who',\n",
              " 'whom',\n",
              " 'why',\n",
              " 'will',\n",
              " 'with',\n",
              " 'won',\n",
              " \"won't\",\n",
              " 'wouldn',\n",
              " \"wouldn't\",\n",
              " 'y',\n",
              " 'you',\n",
              " \"you'd\",\n",
              " \"you'll\",\n",
              " \"you're\",\n",
              " \"you've\",\n",
              " 'your',\n",
              " 'yours',\n",
              " 'yourself',\n",
              " 'yourselves'}"
            ]
          },
          "execution_count": 34,
          "metadata": {},
          "output_type": "execute_result"
        }
      ],
      "source": [
        "# Stopwords are a list of 'useless' words\n",
        "set(stopwords.words('english'))"
      ]
    },
    {
      "cell_type": "markdown",
      "metadata": {
        "id": "qmC5gXtgQX-V"
      },
      "source": [
        "### Loading the train and test files and take a peek at 1st 5 rows."
      ]
    },
    {
      "cell_type": "code",
      "execution_count": null,
      "metadata": {
        "execution": {
          "iopub.execute_input": "2022-04-30T10:05:13.081197Z",
          "iopub.status.busy": "2022-04-30T10:05:13.080319Z",
          "iopub.status.idle": "2022-04-30T10:05:17.203611Z",
          "shell.execute_reply": "2022-04-30T10:05:17.202327Z",
          "shell.execute_reply.started": "2022-04-30T10:05:13.081142Z"
        },
        "trusted": true,
        "id": "QngIeJPUQX-V"
      },
      "outputs": [],
      "source": [
        "train = pd.read_csv('Dataset/train.csv')\n",
        "test = pd.read_csv('Dataset/test.csv')"
      ]
    },
    {
      "cell_type": "code",
      "execution_count": null,
      "metadata": {
        "execution": {
          "iopub.execute_input": "2022-04-30T10:05:17.205306Z",
          "iopub.status.busy": "2022-04-30T10:05:17.205038Z",
          "iopub.status.idle": "2022-04-30T10:05:17.231957Z",
          "shell.execute_reply": "2022-04-30T10:05:17.230830Z",
          "shell.execute_reply.started": "2022-04-30T10:05:17.205275Z"
        },
        "trusted": true,
        "id": "a5G85rEIQX-W",
        "outputId": "95b8208e-2224-496e-e9d7-946fe128dc2b"
      },
      "outputs": [
        {
          "data": {
            "text/html": [
              "<div>\n",
              "<style scoped>\n",
              "    .dataframe tbody tr th:only-of-type {\n",
              "        vertical-align: middle;\n",
              "    }\n",
              "\n",
              "    .dataframe tbody tr th {\n",
              "        vertical-align: top;\n",
              "    }\n",
              "\n",
              "    .dataframe thead th {\n",
              "        text-align: right;\n",
              "    }\n",
              "</style>\n",
              "<table border=\"1\" class=\"dataframe\">\n",
              "  <thead>\n",
              "    <tr style=\"text-align: right;\">\n",
              "      <th></th>\n",
              "      <th>id</th>\n",
              "      <th>comment_text</th>\n",
              "      <th>toxic</th>\n",
              "      <th>severe_toxic</th>\n",
              "      <th>obscene</th>\n",
              "      <th>threat</th>\n",
              "      <th>insult</th>\n",
              "      <th>identity_hate</th>\n",
              "    </tr>\n",
              "  </thead>\n",
              "  <tbody>\n",
              "    <tr>\n",
              "      <th>0</th>\n",
              "      <td>0000997932d777bf</td>\n",
              "      <td>Explanation\\nWhy the edits made under my usern...</td>\n",
              "      <td>0</td>\n",
              "      <td>0</td>\n",
              "      <td>0</td>\n",
              "      <td>0</td>\n",
              "      <td>0</td>\n",
              "      <td>0</td>\n",
              "    </tr>\n",
              "    <tr>\n",
              "      <th>1</th>\n",
              "      <td>000103f0d9cfb60f</td>\n",
              "      <td>D'aww! He matches this background colour I'm s...</td>\n",
              "      <td>0</td>\n",
              "      <td>0</td>\n",
              "      <td>0</td>\n",
              "      <td>0</td>\n",
              "      <td>0</td>\n",
              "      <td>0</td>\n",
              "    </tr>\n",
              "    <tr>\n",
              "      <th>2</th>\n",
              "      <td>000113f07ec002fd</td>\n",
              "      <td>Hey man, I'm really not trying to edit war. It...</td>\n",
              "      <td>0</td>\n",
              "      <td>0</td>\n",
              "      <td>0</td>\n",
              "      <td>0</td>\n",
              "      <td>0</td>\n",
              "      <td>0</td>\n",
              "    </tr>\n",
              "    <tr>\n",
              "      <th>3</th>\n",
              "      <td>0001b41b1c6bb37e</td>\n",
              "      <td>\"\\nMore\\nI can't make any real suggestions on ...</td>\n",
              "      <td>0</td>\n",
              "      <td>0</td>\n",
              "      <td>0</td>\n",
              "      <td>0</td>\n",
              "      <td>0</td>\n",
              "      <td>0</td>\n",
              "    </tr>\n",
              "    <tr>\n",
              "      <th>4</th>\n",
              "      <td>0001d958c54c6e35</td>\n",
              "      <td>You, sir, are my hero. Any chance you remember...</td>\n",
              "      <td>0</td>\n",
              "      <td>0</td>\n",
              "      <td>0</td>\n",
              "      <td>0</td>\n",
              "      <td>0</td>\n",
              "      <td>0</td>\n",
              "    </tr>\n",
              "  </tbody>\n",
              "</table>\n",
              "</div>"
            ],
            "text/plain": [
              "                 id                                       comment_text  toxic  \\\n",
              "0  0000997932d777bf  Explanation\\nWhy the edits made under my usern...      0   \n",
              "1  000103f0d9cfb60f  D'aww! He matches this background colour I'm s...      0   \n",
              "2  000113f07ec002fd  Hey man, I'm really not trying to edit war. It...      0   \n",
              "3  0001b41b1c6bb37e  \"\\nMore\\nI can't make any real suggestions on ...      0   \n",
              "4  0001d958c54c6e35  You, sir, are my hero. Any chance you remember...      0   \n",
              "\n",
              "   severe_toxic  obscene  threat  insult  identity_hate  \n",
              "0             0        0       0       0              0  \n",
              "1             0        0       0       0              0  \n",
              "2             0        0       0       0              0  \n",
              "3             0        0       0       0              0  \n",
              "4             0        0       0       0              0  "
            ]
          },
          "execution_count": 36,
          "metadata": {},
          "output_type": "execute_result"
        }
      ],
      "source": [
        "train.head()"
      ]
    },
    {
      "cell_type": "markdown",
      "metadata": {
        "id": "uIF_XCSQQX-W"
      },
      "source": [
        "Entries with all 0 under the 6 categories are neutral and considered as non-toxic."
      ]
    },
    {
      "cell_type": "code",
      "execution_count": null,
      "metadata": {
        "execution": {
          "iopub.execute_input": "2022-04-30T10:05:17.234503Z",
          "iopub.status.busy": "2022-04-30T10:05:17.234185Z",
          "iopub.status.idle": "2022-04-30T10:05:17.246560Z",
          "shell.execute_reply": "2022-04-30T10:05:17.245539Z",
          "shell.execute_reply.started": "2022-04-30T10:05:17.234466Z"
        },
        "trusted": true,
        "id": "49XNwdZIQX-W",
        "outputId": "35925790-6c82-47c4-a4f1-4b50029e1d10"
      },
      "outputs": [
        {
          "data": {
            "text/html": [
              "<div>\n",
              "<style scoped>\n",
              "    .dataframe tbody tr th:only-of-type {\n",
              "        vertical-align: middle;\n",
              "    }\n",
              "\n",
              "    .dataframe tbody tr th {\n",
              "        vertical-align: top;\n",
              "    }\n",
              "\n",
              "    .dataframe thead th {\n",
              "        text-align: right;\n",
              "    }\n",
              "</style>\n",
              "<table border=\"1\" class=\"dataframe\">\n",
              "  <thead>\n",
              "    <tr style=\"text-align: right;\">\n",
              "      <th></th>\n",
              "      <th>id</th>\n",
              "      <th>comment_text</th>\n",
              "    </tr>\n",
              "  </thead>\n",
              "  <tbody>\n",
              "    <tr>\n",
              "      <th>0</th>\n",
              "      <td>00001cee341fdb12</td>\n",
              "      <td>Yo bitch Ja Rule is more succesful then you'll...</td>\n",
              "    </tr>\n",
              "    <tr>\n",
              "      <th>1</th>\n",
              "      <td>0000247867823ef7</td>\n",
              "      <td>== From RfC == \\n\\n The title is fine as it is...</td>\n",
              "    </tr>\n",
              "    <tr>\n",
              "      <th>2</th>\n",
              "      <td>00013b17ad220c46</td>\n",
              "      <td>\" \\n\\n == Sources == \\n\\n * Zawe Ashton on Lap...</td>\n",
              "    </tr>\n",
              "    <tr>\n",
              "      <th>3</th>\n",
              "      <td>00017563c3f7919a</td>\n",
              "      <td>:If you have a look back at the source, the in...</td>\n",
              "    </tr>\n",
              "    <tr>\n",
              "      <th>4</th>\n",
              "      <td>00017695ad8997eb</td>\n",
              "      <td>I don't anonymously edit articles at all.</td>\n",
              "    </tr>\n",
              "  </tbody>\n",
              "</table>\n",
              "</div>"
            ],
            "text/plain": [
              "                 id                                       comment_text\n",
              "0  00001cee341fdb12  Yo bitch Ja Rule is more succesful then you'll...\n",
              "1  0000247867823ef7  == From RfC == \\n\\n The title is fine as it is...\n",
              "2  00013b17ad220c46  \" \\n\\n == Sources == \\n\\n * Zawe Ashton on Lap...\n",
              "3  00017563c3f7919a  :If you have a look back at the source, the in...\n",
              "4  00017695ad8997eb          I don't anonymously edit articles at all."
            ]
          },
          "execution_count": 37,
          "metadata": {},
          "output_type": "execute_result"
        }
      ],
      "source": [
        "test.head()"
      ]
    },
    {
      "cell_type": "markdown",
      "metadata": {
        "id": "E23O60eFQX-W"
      },
      "source": [
        "A common preprocessing step is to check for nulls, and fill the null values with something before proceeding to the next steps. If you leave the null values intact, it will affect the model results"
      ]
    },
    {
      "cell_type": "code",
      "execution_count": null,
      "metadata": {
        "execution": {
          "iopub.execute_input": "2022-04-30T10:05:17.249152Z",
          "iopub.status.busy": "2022-04-30T10:05:17.248692Z",
          "iopub.status.idle": "2022-04-30T10:05:17.370417Z",
          "shell.execute_reply": "2022-04-30T10:05:17.369608Z",
          "shell.execute_reply.started": "2022-04-30T10:05:17.249104Z"
        },
        "trusted": true,
        "id": "1mBsGV4aQX-W",
        "outputId": "0fa76ec9-dd84-47a2-982a-18d94b4d906f"
      },
      "outputs": [
        {
          "data": {
            "text/plain": [
              "(id               False\n",
              " comment_text     False\n",
              " toxic            False\n",
              " severe_toxic     False\n",
              " obscene          False\n",
              " threat           False\n",
              " insult           False\n",
              " identity_hate    False\n",
              " dtype: bool,\n",
              " id              False\n",
              " comment_text    False\n",
              " dtype: bool)"
            ]
          },
          "execution_count": 38,
          "metadata": {},
          "output_type": "execute_result"
        }
      ],
      "source": [
        "train.isnull().any(),test.isnull().any()"
      ]
    },
    {
      "cell_type": "markdown",
      "metadata": {
        "id": "lfBtZ6KWQX-W"
      },
      "source": [
        "Looks like we don't need to deal with the null values.  Sweet!"
      ]
    },
    {
      "cell_type": "markdown",
      "metadata": {
        "id": "XKgviOFqQX-X"
      },
      "source": [
        "### Let's see how the 1st 3 comments look like"
      ]
    },
    {
      "cell_type": "code",
      "execution_count": null,
      "metadata": {
        "id": "U9dyvMW4QX-X",
        "outputId": "7474443e-6da9-46cb-9a3b-1b124957a03d"
      },
      "outputs": [
        {
          "data": {
            "text/plain": [
              "\"Explanation\\nWhy the edits made under my username Hardcore Metallica Fan were reverted? They weren't vandalisms, just closure on some GAs after I voted at New York Dolls FAC. And please don't remove the template from the talk page since I'm retired now.89.205.38.27\""
            ]
          },
          "execution_count": 39,
          "metadata": {},
          "output_type": "execute_result"
        }
      ],
      "source": [
        "train['comment_text'][0]"
      ]
    },
    {
      "cell_type": "code",
      "execution_count": null,
      "metadata": {
        "id": "v84wQeGoQX-X",
        "outputId": "dec48aac-73a1-4ccc-a5aa-f39977f76ed6"
      },
      "outputs": [
        {
          "data": {
            "text/plain": [
              "\"D'aww! He matches this background colour I'm seemingly stuck with. Thanks.  (talk) 21:51, January 11, 2016 (UTC)\""
            ]
          },
          "execution_count": 40,
          "metadata": {},
          "output_type": "execute_result"
        }
      ],
      "source": [
        "train['comment_text'][1]"
      ]
    },
    {
      "cell_type": "code",
      "execution_count": null,
      "metadata": {
        "id": "WZBi6ArZQX-X",
        "outputId": "5b9b88c3-93b3-4f2b-9843-bc81f691416c"
      },
      "outputs": [
        {
          "data": {
            "text/plain": [
              "\"Hey man, I'm really not trying to edit war. It's just that this guy is constantly removing relevant information and talking to me through edits instead of my talk page. He seems to care more about the formatting than the actual info.\""
            ]
          },
          "execution_count": 41,
          "metadata": {},
          "output_type": "execute_result"
        }
      ],
      "source": [
        "train['comment_text'][2]"
      ]
    },
    {
      "cell_type": "markdown",
      "metadata": {
        "id": "d6S9_Bn6QX-X"
      },
      "source": [
        "### Exploratory Data Analysis"
      ]
    },
    {
      "cell_type": "code",
      "execution_count": null,
      "metadata": {
        "id": "kEfzksmqQX-X",
        "outputId": "04878b6e-3b29-4bb9-c440-a7dc80203cd8"
      },
      "outputs": [
        {
          "data": {
            "text/plain": [
              "0    0.904156\n",
              "1    0.095844\n",
              "Name: toxic, dtype: float64"
            ]
          },
          "execution_count": 42,
          "metadata": {},
          "output_type": "execute_result"
        }
      ],
      "source": [
        "# Check percentage of comments that are toxic compared to normal comments\n",
        "train.toxic.value_counts(normalize=True)"
      ]
    },
    {
      "cell_type": "markdown",
      "metadata": {
        "id": "4gmHlOE8QX-X"
      },
      "source": [
        "Cool. It seems that 90% of the comments fall in the toxic category."
      ]
    },
    {
      "cell_type": "code",
      "execution_count": null,
      "metadata": {
        "id": "39C1nq4WQX-Y",
        "outputId": "e20bf4be-67c8-4eb9-9530-bec25a576f79"
      },
      "outputs": [
        {
          "data": {
            "text/plain": [
              "toxic            15294\n",
              "severe_toxic      1595\n",
              "obscene           8449\n",
              "threat             478\n",
              "insult            7877\n",
              "identity_hate     1405\n",
              "dtype: int64"
            ]
          },
          "execution_count": 43,
          "metadata": {},
          "output_type": "execute_result"
        }
      ],
      "source": [
        "#Create a new subset of the data by only taking the 2nd column onwards (comments and categories)\n",
        "data_count=train.iloc[:,2:].sum()\n",
        "data_count"
      ]
    },
    {
      "cell_type": "code",
      "execution_count": null,
      "metadata": {
        "id": "GixbkiQ-QX-Y",
        "outputId": "7b0145eb-bb5c-488f-d6ac-b9d9b966313b"
      },
      "outputs": [
        {
          "name": "stderr",
          "output_type": "stream",
          "text": [
            "C:\\Python\\Python38\\lib\\site-packages\\seaborn\\_decorators.py:36: FutureWarning: Pass the following variables as keyword args: x, y. From version 0.12, the only valid positional argument will be `data`, and passing other arguments without an explicit keyword will result in an error or misinterpretation.\n",
            "  warnings.warn(\n"
          ]
        },
        {
          "data": {
            "image/png": "[encoded data removed]",
            "text/plain": [
              "<Figure size 576x288 with 1 Axes>"
            ]
          },
          "metadata": {
            "needs_background": "light"
          },
          "output_type": "display_data"
        }
      ],
      "source": [
        "# Plot a chart with the following size\n",
        "plt.figure(figsize=(8,4))\n",
        "\n",
        "# Plot a bar chart using the index (category values) and the count of each category. alpha = 0.8 to make the bars more translucent\n",
        "ax = sns.barplot(data_count.index, data_count.values, alpha=0.8)\n",
        "\n",
        "plt.title(\"No. of comments per class\")\n",
        "plt.ylabel('No. of Occurrences', fontsize=12)\n",
        "plt.xlabel('Type ', fontsize=12)\n",
        "\n",
        "#adding the text labels for each bar\n",
        "rects = ax.patches\n",
        "labels = data_count.values\n",
        "for rect, label in zip(rects, labels):\n",
        "    height = rect.get_height()\n",
        "    ax.text(rect.get_x() + rect.get_width()/2, height + 5, label, ha='center', va='bottom')\n",
        "\n",
        "plt.show()"
      ]
    },
    {
      "cell_type": "code",
      "execution_count": null,
      "metadata": {
        "id": "Sri0c0v5QX-Y",
        "outputId": "29da35de-6b91-4fa5-895a-ad767787f686"
      },
      "outputs": [
        {
          "name": "stdout",
          "output_type": "stream",
          "text": [
            "159571\n"
          ]
        }
      ],
      "source": [
        "num_rows = len(train)\n",
        "print(num_rows)"
      ]
    },
    {
      "cell_type": "code",
      "execution_count": null,
      "metadata": {
        "id": "SzT_dGl8QX-Y",
        "outputId": "63521d91-cd2b-48f4-f673-df8f6e67dfe9"
      },
      "outputs": [
        {
          "data": {
            "image/png": "[encoded data removed]",
            "text/plain": [
              "<Figure size 432x288 with 1 Axes>"
            ]
          },
          "metadata": {
            "needs_background": "light"
          },
          "output_type": "display_data"
        }
      ],
      "source": [
        "# Create a bar graph\n",
        "sum_tox = train['toxic'].sum() / num_rows * 100\n",
        "sum_sev = train['severe_toxic'].sum() / num_rows * 100\n",
        "sum_obs = train['obscene'].sum() / num_rows * 100\n",
        "sum_thr = train['threat'].sum() / num_rows * 100\n",
        "sum_ins = train['insult'].sum() / num_rows * 100\n",
        "sum_ide = train['identity_hate'].sum() / num_rows * 100\n",
        "\n",
        "# Initiate a list of 6 values that represent the 6 x-axis values for the categories\n",
        "ind = np.arange(6)\n",
        "\n",
        "# Let the ind variable be the x-axis, whereas the % of toxicity for each category be the y-axis.\n",
        "# Sequence of % have been sorted manually. This method cannot be done if there are large numbers of categories.\n",
        "ax = plt.barh(ind, [sum_tox, sum_obs, sum_ins, sum_sev, sum_ide, sum_thr])\n",
        "plt.xlabel('Percentage (%)', size=20)\n",
        "plt.xticks(np.arange(0, 30, 5), size=20)\n",
        "plt.title('% of comments in various categories', size=22)\n",
        "plt.yticks(ind, ('Toxic', 'Obscene', 'Insult', 'Severe Toxic', 'Identity Hate', 'Threat', ), size=15)\n",
        "\n",
        "# Invert the graph so that it is in descending order.\n",
        "plt.gca().invert_yaxis()\n",
        "plt.show()\n"
      ]
    },
    {
      "cell_type": "markdown",
      "metadata": {
        "id": "N_YIm1yYQX-Y"
      },
      "source": [
        "### Preprocess the text"
      ]
    },
    {
      "cell_type": "code",
      "execution_count": null,
      "metadata": {
        "id": "ke7-HVkLQX-Y"
      },
      "outputs": [],
      "source": [
        "data = train"
      ]
    },
    {
      "cell_type": "code",
      "execution_count": null,
      "metadata": {
        "id": "dDJqs3AOQX-Y",
        "outputId": "3d717f56-f3ae-4363-8149-eaa2e20e3395"
      },
      "outputs": [
        {
          "data": {
            "text/plain": [
              "'explanation why the edits made under my username hardcore metallica fan were reverted  they weren t vandalisms  just closure on some gas after i voted at new york dolls fac  and please don t remove the template from the talk page since i m retired now        '"
            ]
          },
          "execution_count": 51,
          "metadata": {},
          "output_type": "execute_result"
        }
      ],
      "source": [
        "# Text preprocessing steps - remove numbers, capital letters, punctuation, '\\n'\n",
        "import re\n",
        "import string\n",
        "\n",
        "# remove all numbers with letters attached to them\n",
        "alphanumeric = lambda x: re.sub('\\w*\\d\\w*', ' ', x)\n",
        "\n",
        "# '[%s]' % re.escape(string.punctuation),' ' - replace punctuation with white space\n",
        "# .lower() - convert all strings to lowercase\n",
        "punc_lower = lambda x: re.sub('[%s]' % re.escape(string.punctuation), ' ', x.lower())\n",
        "\n",
        "# Remove all '\\n' in the string and replace it with a space\n",
        "remove_n = lambda x: re.sub(\"\\n\", \" \", x)\n",
        "\n",
        "# Remove all non-ascii characters\n",
        "remove_non_ascii = lambda x: re.sub(r'[^\\x00-\\x7f]',r' ', x)\n",
        "\n",
        "# Apply all the lambda functions wrote previously through .map on the comments column\n",
        "data['comment_text'] = data['comment_text'].map(alphanumeric).map(punc_lower).map(remove_n).map(remove_non_ascii)\n",
        "\n",
        "data['comment_text'][0]"
      ]
    },
    {
      "cell_type": "markdown",
      "metadata": {
        "id": "j1V1hxJ-QX-Y"
      },
      "source": [
        "Separate our dataset into 6 sections. Each section is comment + 1 category."
      ]
    },
    {
      "cell_type": "code",
      "execution_count": null,
      "metadata": {
        "id": "SNBQaBUFQX-Y",
        "outputId": "9ab3e988-40f6-4c34-db2d-f94eecfa2fb3"
      },
      "outputs": [
        {
          "name": "stdout",
          "output_type": "stream",
          "text": [
            "explanation why the edits made under my username hardcore metallica fan were reverted  they weren t vandalisms  just closure on some gas after i voted at new york dolls fac  and please don t remove the template from the talk page since i m retired now        \n"
          ]
        }
      ],
      "source": [
        "data_tox = data.loc[:,['id','comment_text','toxic']]\n",
        "print(data_tox['comment_text'][0])"
      ]
    },
    {
      "cell_type": "code",
      "execution_count": null,
      "metadata": {
        "id": "oL7LRgXqQX-Y"
      },
      "outputs": [],
      "source": [
        "data_sev = data.loc[:,['id','comment_text','severe_toxic']]\n",
        "data_obs = data.loc[:,['id','comment_text','obscene']]\n",
        "data_thr = data.loc[:,['id','comment_text','threat']]\n",
        "data_ins = data.loc[:,['id','comment_text','insult']]\n",
        "data_ide = data.loc[:,['id','comment_text','identity_hate']]"
      ]
    },
    {
      "cell_type": "markdown",
      "metadata": {
        "id": "igliSaWkQX-Y"
      },
      "source": [
        "### Creating WordCloud\n",
        "Useful to show the words which occur most frequently for each category."
      ]
    },
    {
      "cell_type": "code",
      "execution_count": null,
      "metadata": {
        "id": "FMRsp7aQQX-Y"
      },
      "outputs": [],
      "source": [
        "import wordcloud\n",
        "from PIL import Image\n",
        "from wordcloud import WordCloud, STOPWORDS, ImageColorGenerator\n",
        "from nltk.corpus import stopwords"
      ]
    },
    {
      "cell_type": "code",
      "execution_count": null,
      "metadata": {
        "id": "W81EX-nHQX-Z"
      },
      "outputs": [],
      "source": [
        "def wordcloud(df, label):\n",
        "\n",
        "    # Print only rows where the toxic category label value is 1 (ie. the comment is toxic)\n",
        "    subset=df[df[label]==1]\n",
        "    text=subset.comment_text.values\n",
        "    wc= WordCloud(background_color=\"black\",max_words=4000)\n",
        "\n",
        "    wc.generate(\" \".join(text))\n",
        "\n",
        "    plt.figure(figsize=(20,20))\n",
        "    plt.subplot(221)\n",
        "    plt.axis(\"off\")\n",
        "    plt.title(\"Words frequented in {}\".format(label), fontsize=20)\n",
        "    plt.imshow(wc.recolor(colormap= 'gist_earth' , random_state=244), alpha=0.98)"
      ]
    },
    {
      "cell_type": "code",
      "execution_count": null,
      "metadata": {
        "id": "LGHrXx6HQX-Z",
        "outputId": "bec5e72e-a884-4e23-c7ec-0a8f510ef148"
      },
      "outputs": [
        {
          "data": {
            "image/png": "[encoded data removed]",
            "text/plain": [
              "<Figure size 1440x1440 with 1 Axes>"
            ]
          },
          "metadata": {
            "needs_background": "light"
          },
          "output_type": "display_data"
        }
      ],
      "source": [
        "wordcloud(data_ide,'identity_hate')"
      ]
    },
    {
      "cell_type": "code",
      "execution_count": null,
      "metadata": {
        "id": "j83HOeO5QX-Z",
        "outputId": "e9f8580b-fd0b-4885-e354-58cfc0c0806a"
      },
      "outputs": [
        {
          "data": {
            "image/png": "[encoded data removed]",
            "text/plain": [
              "<Figure size 1440x1440 with 1 Axes>"
            ]
          },
          "metadata": {
            "needs_background": "light"
          },
          "output_type": "display_data"
        }
      ],
      "source": [
        "wordcloud(data_ins, 'insult')"
      ]
    },
    {
      "cell_type": "markdown",
      "metadata": {
        "id": "jDy4Ir7wQX-Z"
      },
      "source": [
        "- Earlier, we saw that comments that are toxic (and other forms of toxicity) make up less than 10% of the comments in the data. This leads to the issue of class imbalance.\n",
        "\n",
        "- We can deal with class imbalance by taking a subset of the data where the proportion of the toxic comments are at least 20% (ideally 50%) in relation to non-toxic comments.\n",
        "\n",
        "- For a start, we can take 5000 rows of comments that are toxic and concatenate them row-wise with those that are not toxic so that we have a balanced dataset."
      ]
    },
    {
      "cell_type": "code",
      "execution_count": null,
      "metadata": {
        "id": "_1Qhj5XwQX-Z",
        "outputId": "c615bdf2-d637-47b7-afa8-a571bbd8b0c0"
      },
      "outputs": [
        {
          "data": {
            "text/html": [
              "<div>\n",
              "<style scoped>\n",
              "    .dataframe tbody tr th:only-of-type {\n",
              "        vertical-align: middle;\n",
              "    }\n",
              "\n",
              "    .dataframe tbody tr th {\n",
              "        vertical-align: top;\n",
              "    }\n",
              "\n",
              "    .dataframe thead th {\n",
              "        text-align: right;\n",
              "    }\n",
              "</style>\n",
              "<table border=\"1\" class=\"dataframe\">\n",
              "  <thead>\n",
              "    <tr style=\"text-align: right;\">\n",
              "      <th></th>\n",
              "      <th>id</th>\n",
              "      <th>comment_text</th>\n",
              "      <th>toxic</th>\n",
              "    </tr>\n",
              "  </thead>\n",
              "  <tbody>\n",
              "    <tr>\n",
              "      <th>0</th>\n",
              "      <td>0000997932d777bf</td>\n",
              "      <td>explanation why the edits made under my userna...</td>\n",
              "      <td>0</td>\n",
              "    </tr>\n",
              "    <tr>\n",
              "      <th>1</th>\n",
              "      <td>000103f0d9cfb60f</td>\n",
              "      <td>d aww  he matches this background colour i m s...</td>\n",
              "      <td>0</td>\n",
              "    </tr>\n",
              "    <tr>\n",
              "      <th>2</th>\n",
              "      <td>000113f07ec002fd</td>\n",
              "      <td>hey man  i m really not trying to edit war  it...</td>\n",
              "      <td>0</td>\n",
              "    </tr>\n",
              "    <tr>\n",
              "      <th>3</th>\n",
              "      <td>0001b41b1c6bb37e</td>\n",
              "      <td>more i can t make any real suggestions on im...</td>\n",
              "      <td>0</td>\n",
              "    </tr>\n",
              "    <tr>\n",
              "      <th>4</th>\n",
              "      <td>0001d958c54c6e35</td>\n",
              "      <td>you  sir  are my hero  any chance you remember...</td>\n",
              "      <td>0</td>\n",
              "    </tr>\n",
              "  </tbody>\n",
              "</table>\n",
              "</div>"
            ],
            "text/plain": [
              "                 id                                       comment_text  toxic\n",
              "0  0000997932d777bf  explanation why the edits made under my userna...      0\n",
              "1  000103f0d9cfb60f  d aww  he matches this background colour i m s...      0\n",
              "2  000113f07ec002fd  hey man  i m really not trying to edit war  it...      0\n",
              "3  0001b41b1c6bb37e    more i can t make any real suggestions on im...      0\n",
              "4  0001d958c54c6e35  you  sir  are my hero  any chance you remember...      0"
            ]
          },
          "execution_count": 61,
          "metadata": {},
          "output_type": "execute_result"
        }
      ],
      "source": [
        "data_tox.head()"
      ]
    },
    {
      "cell_type": "code",
      "execution_count": null,
      "metadata": {
        "id": "OxidkqWSQX-Z",
        "outputId": "ad354814-cc87-4ff6-e9b3-48153369a4d6"
      },
      "outputs": [
        {
          "data": {
            "text/plain": [
              "(5000, 3)"
            ]
          },
          "execution_count": 62,
          "metadata": {},
          "output_type": "execute_result"
        }
      ],
      "source": [
        "# toxic comments with value 1\n",
        "data_tox_1 = data_tox[data_tox['toxic'] == 1].iloc[0:5000,:]\n",
        "data_tox_1.shape"
      ]
    },
    {
      "cell_type": "code",
      "execution_count": null,
      "metadata": {
        "id": "Ee7Qv_HNQX-a"
      },
      "outputs": [],
      "source": [
        "# toxic comments with value 0\n",
        "data_tox_0 = data_tox[data_tox['toxic'] == 0].iloc[0:5000,:]"
      ]
    },
    {
      "cell_type": "code",
      "execution_count": null,
      "metadata": {
        "id": "8sGCbUH3QX-a",
        "outputId": "45e4866e-7fd6-4bda-a7e4-894de3c97cdc"
      },
      "outputs": [
        {
          "data": {
            "text/plain": [
              "(10000, 3)"
            ]
          },
          "execution_count": 82,
          "metadata": {},
          "output_type": "execute_result"
        }
      ],
      "source": [
        "# Balanced data toxic\n",
        "data_tox_done = pd.concat([data_tox_1, data_tox_0], axis=0)\n",
        "data_tox_done.shape"
      ]
    },
    {
      "cell_type": "markdown",
      "metadata": {
        "id": "D_Ftk3-sQX-a"
      },
      "source": [
        "### Not all categories have 5000 rows. So we should count them first and make them balanced."
      ]
    },
    {
      "cell_type": "code",
      "execution_count": null,
      "metadata": {
        "id": "AVibD8hXQX-a",
        "outputId": "a44ed591-98eb-460c-cf21-0416e17878f2"
      },
      "outputs": [
        {
          "data": {
            "text/plain": [
              "id              1595\n",
              "comment_text    1595\n",
              "severe_toxic    1595\n",
              "dtype: int64"
            ]
          },
          "execution_count": 65,
          "metadata": {},
          "output_type": "execute_result"
        }
      ],
      "source": [
        "data_sev[data_sev['severe_toxic'] == 1].count()"
      ]
    },
    {
      "cell_type": "code",
      "execution_count": null,
      "metadata": {
        "id": "ukYEOqY6QX-a",
        "outputId": "7d73af63-fd75-45d9-99d9-bc1b28325045"
      },
      "outputs": [
        {
          "data": {
            "text/plain": [
              "(3190, 3)"
            ]
          },
          "execution_count": 66,
          "metadata": {},
          "output_type": "execute_result"
        }
      ],
      "source": [
        "data_sev_1 = data_sev[data_sev['severe_toxic'] == 1].iloc[0:1595,:]\n",
        "data_sev_0 = data_sev[data_sev['severe_toxic'] == 0].iloc[0:1595,:]\n",
        "data_sev_done = pd.concat([data_sev_1, data_sev_0], axis=0)\n",
        "data_sev_done.shape"
      ]
    },
    {
      "cell_type": "markdown",
      "metadata": {
        "id": "iOKvCtl4QX-a"
      },
      "source": [
        "Cool. We only had 1,595 comments that are severely toxic. We combine it together with another 1,595 comments that are not toxic to form a new dataset that is balanced. We repeat this for all other categories."
      ]
    },
    {
      "cell_type": "code",
      "execution_count": null,
      "metadata": {
        "id": "UQvLKbIpQX-a",
        "outputId": "f042a6fb-c7d0-43c6-8491-99efeee1fcf2"
      },
      "outputs": [
        {
          "data": {
            "text/plain": [
              "id              8449\n",
              "comment_text    8449\n",
              "obscene         8449\n",
              "dtype: int64"
            ]
          },
          "execution_count": 68,
          "metadata": {},
          "output_type": "execute_result"
        }
      ],
      "source": [
        "data_obs[data_obs['obscene'] == 1].count()"
      ]
    },
    {
      "cell_type": "code",
      "execution_count": null,
      "metadata": {
        "id": "udu9AbmoQX-a",
        "outputId": "a845233a-3f8e-44d5-a63f-0cde427e3ba8"
      },
      "outputs": [
        {
          "data": {
            "text/plain": [
              "(10000, 3)"
            ]
          },
          "execution_count": 69,
          "metadata": {},
          "output_type": "execute_result"
        }
      ],
      "source": [
        "data_obs_1 = data_obs[data_obs['obscene'] == 1].iloc[0:5000,:]\n",
        "data_obs_0 = data_obs[data_obs['obscene'] == 0].iloc[0:5000,:]\n",
        "data_obs_done = pd.concat([data_obs_1, data_obs_0], axis=0)\n",
        "data_obs_done.shape"
      ]
    },
    {
      "cell_type": "code",
      "execution_count": null,
      "metadata": {
        "id": "rZsCT5IWQX-a",
        "outputId": "67c97851-97f1-4e6b-e2fe-67c5c67dbc25"
      },
      "outputs": [
        {
          "data": {
            "text/plain": [
              "id              478\n",
              "comment_text    478\n",
              "threat          478\n",
              "dtype: int64"
            ]
          },
          "execution_count": 70,
          "metadata": {},
          "output_type": "execute_result"
        }
      ],
      "source": [
        "data_thr[data_thr['threat'] == 1].count()"
      ]
    },
    {
      "cell_type": "markdown",
      "metadata": {
        "id": "VCzzX4gJQX-a"
      },
      "source": [
        "The number of threat comments of 478 is too miniscule when addded with another 478 clean comments for a proper analysis. We decided that the clean comments will comprise 80% at the most of the dataset, as shown below."
      ]
    },
    {
      "cell_type": "code",
      "execution_count": null,
      "metadata": {
        "id": "urWcgRCSQX-a",
        "outputId": "0467a45c-0357-4db0-e8d6-faffdca39cdd"
      },
      "outputs": [
        {
          "data": {
            "text/plain": [
              "(2390, 3)"
            ]
          },
          "execution_count": 72,
          "metadata": {},
          "output_type": "execute_result"
        }
      ],
      "source": [
        "data_thr_1 = data_thr[data_thr['threat'] == 1].iloc[0:478,:]\n",
        "\n",
        "# We include 1912 comments that have no threat so that the data with threat (478) will represent 20% of the dataset.\n",
        "data_thr_0 = data_thr[data_thr['threat'] == 0].iloc[0:1912,:]\n",
        "data_thr_done = pd.concat([data_thr_1, data_thr_0], axis=0)\n",
        "data_thr_done.shape"
      ]
    },
    {
      "cell_type": "code",
      "execution_count": null,
      "metadata": {
        "id": "higfFDgNQX-a",
        "outputId": "3b6dc085-af39-459c-e32a-bcbcc9e72826"
      },
      "outputs": [
        {
          "data": {
            "text/plain": [
              "id              7877\n",
              "comment_text    7877\n",
              "insult          7877\n",
              "dtype: int64"
            ]
          },
          "execution_count": 73,
          "metadata": {},
          "output_type": "execute_result"
        }
      ],
      "source": [
        "data_ins[data_ins['insult'] == 1].count()"
      ]
    },
    {
      "cell_type": "code",
      "execution_count": null,
      "metadata": {
        "id": "IdSQ0SRkQX-a",
        "outputId": "1f71e502-6aa1-4ef6-fd0f-6d45d383eb8c"
      },
      "outputs": [
        {
          "data": {
            "text/plain": [
              "(10000, 3)"
            ]
          },
          "execution_count": 74,
          "metadata": {},
          "output_type": "execute_result"
        }
      ],
      "source": [
        "data_ins_1 = data_ins[data_ins['insult'] == 1].iloc[0:5000,:]\n",
        "data_ins_0 = data_ins[data_ins['insult'] == 0].iloc[0:5000,:]\n",
        "data_ins_done = pd.concat([data_ins_1, data_ins_0], axis=0)\n",
        "data_ins_done.shape"
      ]
    },
    {
      "cell_type": "code",
      "execution_count": null,
      "metadata": {
        "id": "2MstbvtLQX-b",
        "outputId": "c6693591-9dde-435e-b28d-e73dfd02a0b6"
      },
      "outputs": [
        {
          "data": {
            "text/plain": [
              "id               1405\n",
              "comment_text     1405\n",
              "identity_hate    1405\n",
              "dtype: int64"
            ]
          },
          "execution_count": 75,
          "metadata": {},
          "output_type": "execute_result"
        }
      ],
      "source": [
        "data_ide[data_ide['identity_hate'] == 1].count()"
      ]
    },
    {
      "cell_type": "code",
      "execution_count": null,
      "metadata": {
        "id": "-69qwPtZQX-b",
        "outputId": "4feec99f-bae4-4a53-c40f-4d64a5088155"
      },
      "outputs": [
        {
          "data": {
            "text/plain": [
              "(7025, 3)"
            ]
          },
          "execution_count": 76,
          "metadata": {},
          "output_type": "execute_result"
        }
      ],
      "source": [
        "data_ide_1 = data_ide[data_ide['identity_hate'] == 1].iloc[0:1405,:] # 20%\n",
        "data_ide_0 = data_ide[data_ide['identity_hate'] == 0].iloc[0:5620,:] # 80%\n",
        "data_ide_done = pd.concat([data_ide_1, data_ide_0], axis=0)\n",
        "data_ide_done.shape"
      ]
    },
    {
      "cell_type": "markdown",
      "metadata": {
        "id": "0GgOwqXMQX-b"
      },
      "source": [
        "Reminder: Number of comments that fall into the following categories:\n",
        "\n",
        "- Toxic (14,000+)\n",
        "- Severe Toxic (1595)\n",
        "- Obscene (8449)\n",
        "- Threat (478)\n",
        "- Insult (7877)\n",
        "- Identity Hate (1405)"
      ]
    },
    {
      "cell_type": "markdown",
      "metadata": {
        "id": "Ll2He0BrQX-b"
      },
      "source": [
        "#### df_****_done refers to the dataframes of each class that has been balanced (at least 20/80 proportion)"
      ]
    },
    {
      "cell_type": "markdown",
      "metadata": {
        "id": "eMsRVNW9QX-b"
      },
      "source": [
        "|                      | DF name       | No. of pts (1) | No. of pts (0) | Total data pts |\n",
        "|----------------------|---------------|----------------|----------------|----------------|\n",
        "| Toxic                | data_tox_done | 5000           | 5000           | 10000          |\n",
        "| Severe Toxic         | data_sev_done | 1595           | 1595           | 3190           |\n",
        "| Obscene (8449)       | data_obs_done | 5000           | 5000           | 10000          |\n",
        "| Threat (478)         | data_thr_done | 478            | 1912           | 2390           |\n",
        "| Insult (7877)        | data_ins_done | 5000           | 5000           | 10000          |\n",
        "| Identity Hate (1405) | data_ide_done | 1405           | 5620           | 7025           |"
      ]
    },
    {
      "cell_type": "markdown",
      "metadata": {
        "id": "RAN1BJd4QX-b"
      },
      "source": [
        "### Import relevant packages for modelling"
      ]
    },
    {
      "cell_type": "code",
      "execution_count": null,
      "metadata": {
        "id": "goRmKMloQX-b"
      },
      "outputs": [],
      "source": [
        "# Import packages for pre-processing\n",
        "from sklearn import preprocessing\n",
        "from sklearn.feature_selection import SelectFromModel\n",
        "\n",
        "# Import tools to split data and evaluate model performance\n",
        "from sklearn.model_selection import train_test_split, KFold, cross_val_score\n",
        "from sklearn.metrics import f1_score, precision_score, recall_score, precision_recall_curve, fbeta_score, confusion_matrix\n",
        "from sklearn.metrics import roc_auc_score, roc_curve\n",
        "\n",
        "# Import ML algos\n",
        "from sklearn.linear_model import LogisticRegression\n",
        "from sklearn.neighbors import KNeighborsClassifier\n",
        "from sklearn.naive_bayes import MultinomialNB, BernoulliNB\n",
        "from sklearn.svm import LinearSVC\n",
        "from sklearn.ensemble import RandomForestClassifier\n"
      ]
    },
    {
      "cell_type": "markdown",
      "metadata": {
        "id": "Ijlrh2_LQX-b"
      },
      "source": [
        "Create simple function that takes in a dataset and allows user to choose dataset, toxicity label, vectorizer and number of ngrams"
      ]
    },
    {
      "cell_type": "code",
      "execution_count": null,
      "metadata": {
        "id": "xcJvP2mzQX-b"
      },
      "outputs": [],
      "source": [
        "def cv_tf_train_test(df_done,label,vectorizer,ngram):\n",
        "\n",
        "    ''' Train/Test split'''\n",
        "    # Split the data into X and y data sets\n",
        "    X = df_done.comment_text\n",
        "    y = df_done[label]\n",
        "\n",
        "    # Split our data into training and test data\n",
        "    X_train, X_test, y_train, y_test = train_test_split(X, y, test_size=0.3, random_state=42)\n",
        "\n",
        "    ''' Count Vectorizer/TF-IDF '''\n",
        "\n",
        "    # Create a Vectorizer object and remove stopwords from the table\n",
        "    cv1 = vectorizer(ngram_range=(ngram), stop_words='english')\n",
        "\n",
        "    X_train_cv1 = cv1.fit_transform(X_train) # Learn the vocabulary dictionary and return term-document matrix\n",
        "    X_test_cv1  = cv1.transform(X_test)      # Learn a vocabulary dictionary of all tokens in the raw documents.\n",
        "\n",
        "    # Output a Dataframe of the CountVectorizer with unique words as the labels\n",
        "    # test = pd.DataFrame(X_train_cv1.toarray(), columns=cv1.get_feature_names())\n",
        "\n",
        "    ''' Initialize all model objects and fit the models on the training data '''\n",
        "    lr = LogisticRegression()\n",
        "    lr.fit(X_train_cv1, y_train)\n",
        "    print('lr done')\n",
        "\n",
        "    knn = KNeighborsClassifier(n_neighbors=5)\n",
        "    knn.fit(X_train_cv1, y_train)\n",
        "\n",
        "    bnb = BernoulliNB()\n",
        "    bnb.fit(X_train_cv1, y_train)\n",
        "    print('bnb done')\n",
        "\n",
        "    mnb = MultinomialNB()\n",
        "    mnb.fit(X_train_cv1, y_train)\n",
        "    print('mnb done')\n",
        "\n",
        "    svm_model = LinearSVC()\n",
        "    svm_model.fit(X_train_cv1, y_train)\n",
        "\n",
        "    randomforest = RandomForestClassifier(n_estimators=100, random_state=42)\n",
        "    randomforest.fit(X_train_cv1, y_train)\n",
        "    print('rdf done')\n",
        "\n",
        "    # Create a list of F1 score of all models\n",
        "    f1_score_data = {'F1 Score':[f1_score(lr.predict(X_test_cv1), y_test), f1_score(knn.predict(X_test_cv1), y_test),\n",
        "                                f1_score(bnb.predict(X_test_cv1), y_test), f1_score(mnb.predict(X_test_cv1), y_test),\n",
        "                                f1_score(svm_model.predict(X_test_cv1), y_test), f1_score(randomforest.predict(X_test_cv1), y_test)]}\n",
        "\n",
        "    # Create DataFrame with the model names as column labels\n",
        "    df_f1 = pd.DataFrame(f1_score_data, index=['Log Regression','KNN', 'BernoulliNB', 'MultinomialNB', 'SVM', 'Random Forest'])\n",
        "\n",
        "    return df_f1\n"
      ]
    },
    {
      "cell_type": "markdown",
      "metadata": {
        "id": "d69woJbQQX-c"
      },
      "source": [
        "Let's create a TF-IDF vectorizer object for each category and calculate the F1 scores across all models"
      ]
    },
    {
      "cell_type": "code",
      "execution_count": null,
      "metadata": {
        "id": "ln1qFrARQX-c",
        "outputId": "082976bf-4c7f-4876-8f2c-0927a0aad271"
      },
      "outputs": [
        {
          "name": "stdout",
          "output_type": "stream",
          "text": [
            "lr done\n",
            "bnb done\n",
            "mnb done\n",
            "rdf done\n",
            "Time taken: 10.968498229980469 seconds\n"
          ]
        },
        {
          "data": {
            "text/html": [
              "<div>\n",
              "<style scoped>\n",
              "    .dataframe tbody tr th:only-of-type {\n",
              "        vertical-align: middle;\n",
              "    }\n",
              "\n",
              "    .dataframe tbody tr th {\n",
              "        vertical-align: top;\n",
              "    }\n",
              "\n",
              "    .dataframe thead th {\n",
              "        text-align: right;\n",
              "    }\n",
              "</style>\n",
              "<table border=\"1\" class=\"dataframe\">\n",
              "  <thead>\n",
              "    <tr style=\"text-align: right;\">\n",
              "      <th></th>\n",
              "      <th>F1 Score(toxic)</th>\n",
              "    </tr>\n",
              "  </thead>\n",
              "  <tbody>\n",
              "    <tr>\n",
              "      <th>Log Regression</th>\n",
              "      <td>0.861234</td>\n",
              "    </tr>\n",
              "    <tr>\n",
              "      <th>KNN</th>\n",
              "      <td>0.185120</td>\n",
              "    </tr>\n",
              "    <tr>\n",
              "      <th>BernoulliNB</th>\n",
              "      <td>0.776521</td>\n",
              "    </tr>\n",
              "    <tr>\n",
              "      <th>MultinomialNB</th>\n",
              "      <td>0.874958</td>\n",
              "    </tr>\n",
              "    <tr>\n",
              "      <th>SVM</th>\n",
              "      <td>0.876133</td>\n",
              "    </tr>\n",
              "    <tr>\n",
              "      <th>Random Forest</th>\n",
              "      <td>0.838055</td>\n",
              "    </tr>\n",
              "  </tbody>\n",
              "</table>\n",
              "</div>"
            ],
            "text/plain": [
              "                F1 Score(toxic)\n",
              "Log Regression         0.861234\n",
              "KNN                    0.185120\n",
              "BernoulliNB            0.776521\n",
              "MultinomialNB          0.874958\n",
              "SVM                    0.876133\n",
              "Random Forest          0.838055"
            ]
          },
          "execution_count": 83,
          "metadata": {},
          "output_type": "execute_result"
        }
      ],
      "source": [
        "import time\n",
        "\n",
        "t0 = time.time()\n",
        "\n",
        "df_tox_cv = cv_tf_train_test(data_tox_done, 'toxic', TfidfVectorizer, (1,1))\n",
        "df_tox_cv.rename(columns={'F1 Score': 'F1 Score(toxic)'}, inplace=True)\n",
        "\n",
        "t1 = time.time()\n",
        "\n",
        "total = 'Time taken: {} seconds'.format(t1-t0)\n",
        "print(total)\n",
        "\n",
        "df_tox_cv"
      ]
    },
    {
      "cell_type": "code",
      "execution_count": null,
      "metadata": {
        "id": "EkOfB1vDQX-c",
        "outputId": "b1a4d5dc-15d3-471a-bfae-7b95bb155828"
      },
      "outputs": [
        {
          "name": "stdout",
          "output_type": "stream",
          "text": [
            "lr done\n",
            "bnb done\n",
            "mnb done\n",
            "rdf done\n",
            "Time taken: 1.7197201251983643 seconds\n"
          ]
        },
        {
          "data": {
            "text/html": [
              "<div>\n",
              "<style scoped>\n",
              "    .dataframe tbody tr th:only-of-type {\n",
              "        vertical-align: middle;\n",
              "    }\n",
              "\n",
              "    .dataframe tbody tr th {\n",
              "        vertical-align: top;\n",
              "    }\n",
              "\n",
              "    .dataframe thead th {\n",
              "        text-align: right;\n",
              "    }\n",
              "</style>\n",
              "<table border=\"1\" class=\"dataframe\">\n",
              "  <thead>\n",
              "    <tr style=\"text-align: right;\">\n",
              "      <th></th>\n",
              "      <th>F1 Score(severe_toxic)</th>\n",
              "    </tr>\n",
              "  </thead>\n",
              "  <tbody>\n",
              "    <tr>\n",
              "      <th>Log Regression</th>\n",
              "      <td>0.927879</td>\n",
              "    </tr>\n",
              "    <tr>\n",
              "      <th>KNN</th>\n",
              "      <td>0.857416</td>\n",
              "    </tr>\n",
              "    <tr>\n",
              "      <th>BernoulliNB</th>\n",
              "      <td>0.803707</td>\n",
              "    </tr>\n",
              "    <tr>\n",
              "      <th>MultinomialNB</th>\n",
              "      <td>0.936170</td>\n",
              "    </tr>\n",
              "    <tr>\n",
              "      <th>SVM</th>\n",
              "      <td>0.926004</td>\n",
              "    </tr>\n",
              "    <tr>\n",
              "      <th>Random Forest</th>\n",
              "      <td>0.934874</td>\n",
              "    </tr>\n",
              "  </tbody>\n",
              "</table>\n",
              "</div>"
            ],
            "text/plain": [
              "                F1 Score(severe_toxic)\n",
              "Log Regression                0.927879\n",
              "KNN                           0.857416\n",
              "BernoulliNB                   0.803707\n",
              "MultinomialNB                 0.936170\n",
              "SVM                           0.926004\n",
              "Random Forest                 0.934874"
            ]
          },
          "execution_count": 84,
          "metadata": {},
          "output_type": "execute_result"
        }
      ],
      "source": [
        "t0 = time.time()\n",
        "\n",
        "df_sev_cv = cv_tf_train_test(data_sev_done, 'severe_toxic', TfidfVectorizer, (1,1))\n",
        "df_sev_cv.rename(columns={'F1 Score': 'F1 Score(severe_toxic)'}, inplace=True)\n",
        "\n",
        "t1 = time.time()\n",
        "\n",
        "total = 'Time taken: {} seconds'.format(t1-t0)\n",
        "print(total)\n",
        "df_sev_cv"
      ]
    },
    {
      "cell_type": "code",
      "execution_count": null,
      "metadata": {
        "id": "su9HbvdwQX-c",
        "outputId": "063944c6-2852-4c38-b5c3-b3e3ecc598e3"
      },
      "outputs": [
        {
          "name": "stdout",
          "output_type": "stream",
          "text": [
            "lr done\n",
            "bnb done\n",
            "mnb done\n",
            "rdf done\n",
            "Time taken: 8.15196704864502 seconds\n"
          ]
        },
        {
          "data": {
            "text/html": [
              "<div>\n",
              "<style scoped>\n",
              "    .dataframe tbody tr th:only-of-type {\n",
              "        vertical-align: middle;\n",
              "    }\n",
              "\n",
              "    .dataframe tbody tr th {\n",
              "        vertical-align: top;\n",
              "    }\n",
              "\n",
              "    .dataframe thead th {\n",
              "        text-align: right;\n",
              "    }\n",
              "</style>\n",
              "<table border=\"1\" class=\"dataframe\">\n",
              "  <thead>\n",
              "    <tr style=\"text-align: right;\">\n",
              "      <th></th>\n",
              "      <th>F1 Score(obscene)</th>\n",
              "    </tr>\n",
              "  </thead>\n",
              "  <tbody>\n",
              "    <tr>\n",
              "      <th>Log Regression</th>\n",
              "      <td>0.908655</td>\n",
              "    </tr>\n",
              "    <tr>\n",
              "      <th>KNN</th>\n",
              "      <td>0.519056</td>\n",
              "    </tr>\n",
              "    <tr>\n",
              "      <th>BernoulliNB</th>\n",
              "      <td>0.787830</td>\n",
              "    </tr>\n",
              "    <tr>\n",
              "      <th>MultinomialNB</th>\n",
              "      <td>0.901463</td>\n",
              "    </tr>\n",
              "    <tr>\n",
              "      <th>SVM</th>\n",
              "      <td>0.921378</td>\n",
              "    </tr>\n",
              "    <tr>\n",
              "      <th>Random Forest</th>\n",
              "      <td>0.909091</td>\n",
              "    </tr>\n",
              "  </tbody>\n",
              "</table>\n",
              "</div>"
            ],
            "text/plain": [
              "                F1 Score(obscene)\n",
              "Log Regression           0.908655\n",
              "KNN                      0.519056\n",
              "BernoulliNB              0.787830\n",
              "MultinomialNB            0.901463\n",
              "SVM                      0.921378\n",
              "Random Forest            0.909091"
            ]
          },
          "execution_count": 85,
          "metadata": {},
          "output_type": "execute_result"
        }
      ],
      "source": [
        "t0 = time.time()\n",
        "\n",
        "df_obs_cv = cv_tf_train_test(data_obs_done, 'obscene', TfidfVectorizer, (1,1))\n",
        "df_obs_cv.rename(columns={'F1 Score': 'F1 Score(obscene)'}, inplace=True)\n",
        "\n",
        "t1 = time.time()\n",
        "\n",
        "total = 'Time taken: {} seconds'.format(t1-t0)\n",
        "print(total)\n",
        "\n",
        "df_obs_cv"
      ]
    },
    {
      "cell_type": "code",
      "execution_count": null,
      "metadata": {
        "id": "K3XFsNJpQX-c",
        "outputId": "e07c34ac-128d-40b0-ea5d-180dce0832ee"
      },
      "outputs": [
        {
          "name": "stdout",
          "output_type": "stream",
          "text": [
            "lr done\n",
            "bnb done\n",
            "mnb done\n",
            "rdf done\n",
            "Time taken: 1.2882466316223145 seconds\n"
          ]
        },
        {
          "data": {
            "text/html": [
              "<div>\n",
              "<style scoped>\n",
              "    .dataframe tbody tr th:only-of-type {\n",
              "        vertical-align: middle;\n",
              "    }\n",
              "\n",
              "    .dataframe tbody tr th {\n",
              "        vertical-align: top;\n",
              "    }\n",
              "\n",
              "    .dataframe thead th {\n",
              "        text-align: right;\n",
              "    }\n",
              "</style>\n",
              "<table border=\"1\" class=\"dataframe\">\n",
              "  <thead>\n",
              "    <tr style=\"text-align: right;\">\n",
              "      <th></th>\n",
              "      <th>F1 Score(threat)</th>\n",
              "    </tr>\n",
              "  </thead>\n",
              "  <tbody>\n",
              "    <tr>\n",
              "      <th>Log Regression</th>\n",
              "      <td>0.628821</td>\n",
              "    </tr>\n",
              "    <tr>\n",
              "      <th>KNN</th>\n",
              "      <td>0.720000</td>\n",
              "    </tr>\n",
              "    <tr>\n",
              "      <th>BernoulliNB</th>\n",
              "      <td>0.311828</td>\n",
              "    </tr>\n",
              "    <tr>\n",
              "      <th>MultinomialNB</th>\n",
              "      <td>0.504762</td>\n",
              "    </tr>\n",
              "    <tr>\n",
              "      <th>SVM</th>\n",
              "      <td>0.786765</td>\n",
              "    </tr>\n",
              "    <tr>\n",
              "      <th>Random Forest</th>\n",
              "      <td>0.795539</td>\n",
              "    </tr>\n",
              "  </tbody>\n",
              "</table>\n",
              "</div>"
            ],
            "text/plain": [
              "                F1 Score(threat)\n",
              "Log Regression          0.628821\n",
              "KNN                     0.720000\n",
              "BernoulliNB             0.311828\n",
              "MultinomialNB           0.504762\n",
              "SVM                     0.786765\n",
              "Random Forest           0.795539"
            ]
          },
          "execution_count": 86,
          "metadata": {},
          "output_type": "execute_result"
        }
      ],
      "source": [
        "t0 = time.time()\n",
        "\n",
        "df_thr_cv = cv_tf_train_test(data_thr_done, 'threat', TfidfVectorizer, (1,1))\n",
        "df_thr_cv.rename(columns={'F1 Score': 'F1 Score(threat)'}, inplace=True)\n",
        "\n",
        "t1 = time.time()\n",
        "\n",
        "total = 'Time taken: {} seconds'.format(t1-t0)\n",
        "print(total)\n",
        "\n",
        "df_thr_cv"
      ]
    },
    {
      "cell_type": "code",
      "execution_count": null,
      "metadata": {
        "id": "2k_8mZGUQX-c",
        "outputId": "8c2dd35b-29f6-4d15-a5b1-a790c37a7692"
      },
      "outputs": [
        {
          "name": "stdout",
          "output_type": "stream",
          "text": [
            "lr done\n",
            "bnb done\n",
            "mnb done\n",
            "rdf done\n",
            "Time taken: 9.424309253692627 seconds\n"
          ]
        },
        {
          "data": {
            "text/html": [
              "<div>\n",
              "<style scoped>\n",
              "    .dataframe tbody tr th:only-of-type {\n",
              "        vertical-align: middle;\n",
              "    }\n",
              "\n",
              "    .dataframe tbody tr th {\n",
              "        vertical-align: top;\n",
              "    }\n",
              "\n",
              "    .dataframe thead th {\n",
              "        text-align: right;\n",
              "    }\n",
              "</style>\n",
              "<table border=\"1\" class=\"dataframe\">\n",
              "  <thead>\n",
              "    <tr style=\"text-align: right;\">\n",
              "      <th></th>\n",
              "      <th>F1 Score(insult)</th>\n",
              "    </tr>\n",
              "  </thead>\n",
              "  <tbody>\n",
              "    <tr>\n",
              "      <th>Log Regression</th>\n",
              "      <td>0.896599</td>\n",
              "    </tr>\n",
              "    <tr>\n",
              "      <th>KNN</th>\n",
              "      <td>0.257992</td>\n",
              "    </tr>\n",
              "    <tr>\n",
              "      <th>BernoulliNB</th>\n",
              "      <td>0.783762</td>\n",
              "    </tr>\n",
              "    <tr>\n",
              "      <th>MultinomialNB</th>\n",
              "      <td>0.897411</td>\n",
              "    </tr>\n",
              "    <tr>\n",
              "      <th>SVM</th>\n",
              "      <td>0.902619</td>\n",
              "    </tr>\n",
              "    <tr>\n",
              "      <th>Random Forest</th>\n",
              "      <td>0.883993</td>\n",
              "    </tr>\n",
              "  </tbody>\n",
              "</table>\n",
              "</div>"
            ],
            "text/plain": [
              "                F1 Score(insult)\n",
              "Log Regression          0.896599\n",
              "KNN                     0.257992\n",
              "BernoulliNB             0.783762\n",
              "MultinomialNB           0.897411\n",
              "SVM                     0.902619\n",
              "Random Forest           0.883993"
            ]
          },
          "execution_count": 87,
          "metadata": {},
          "output_type": "execute_result"
        }
      ],
      "source": [
        "t0 = time.time()\n",
        "\n",
        "df_ins_cv = cv_tf_train_test(data_ins_done, 'insult', TfidfVectorizer, (1,1))\n",
        "df_ins_cv.rename(columns={'F1 Score': 'F1 Score(insult)'}, inplace=True)\n",
        "\n",
        "t1 = time.time()\n",
        "\n",
        "total = 'Time taken: {} seconds'.format(t1-t0)\n",
        "print(total)\n",
        "\n",
        "df_ins_cv"
      ]
    },
    {
      "cell_type": "code",
      "execution_count": null,
      "metadata": {
        "id": "MQevQTusQX-c",
        "outputId": "14a7306f-51c7-4ad6-aa7e-d8604fea0f66"
      },
      "outputs": [
        {
          "name": "stdout",
          "output_type": "stream",
          "text": [
            "lr done\n",
            "bnb done\n",
            "mnb done\n",
            "rdf done\n",
            "Time taken: 5.166263818740845 seconds\n"
          ]
        },
        {
          "data": {
            "text/html": [
              "<div>\n",
              "<style scoped>\n",
              "    .dataframe tbody tr th:only-of-type {\n",
              "        vertical-align: middle;\n",
              "    }\n",
              "\n",
              "    .dataframe tbody tr th {\n",
              "        vertical-align: top;\n",
              "    }\n",
              "\n",
              "    .dataframe thead th {\n",
              "        text-align: right;\n",
              "    }\n",
              "</style>\n",
              "<table border=\"1\" class=\"dataframe\">\n",
              "  <thead>\n",
              "    <tr style=\"text-align: right;\">\n",
              "      <th></th>\n",
              "      <th>F1 Score(identity_hate)</th>\n",
              "    </tr>\n",
              "  </thead>\n",
              "  <tbody>\n",
              "    <tr>\n",
              "      <th>Log Regression</th>\n",
              "      <td>0.699029</td>\n",
              "    </tr>\n",
              "    <tr>\n",
              "      <th>KNN</th>\n",
              "      <td>0.230159</td>\n",
              "    </tr>\n",
              "    <tr>\n",
              "      <th>BernoulliNB</th>\n",
              "      <td>0.549206</td>\n",
              "    </tr>\n",
              "    <tr>\n",
              "      <th>MultinomialNB</th>\n",
              "      <td>0.485857</td>\n",
              "    </tr>\n",
              "    <tr>\n",
              "      <th>SVM</th>\n",
              "      <td>0.797516</td>\n",
              "    </tr>\n",
              "    <tr>\n",
              "      <th>Random Forest</th>\n",
              "      <td>0.768448</td>\n",
              "    </tr>\n",
              "  </tbody>\n",
              "</table>\n",
              "</div>"
            ],
            "text/plain": [
              "                F1 Score(identity_hate)\n",
              "Log Regression                 0.699029\n",
              "KNN                            0.230159\n",
              "BernoulliNB                    0.549206\n",
              "MultinomialNB                  0.485857\n",
              "SVM                            0.797516\n",
              "Random Forest                  0.768448"
            ]
          },
          "execution_count": 88,
          "metadata": {},
          "output_type": "execute_result"
        }
      ],
      "source": [
        "t0 = time.time()\n",
        "\n",
        "df_ide_cv = cv_tf_train_test(data_ide_done, 'identity_hate', TfidfVectorizer, (1,1))\n",
        "df_ide_cv.rename(columns={'F1 Score': 'F1 Score(identity_hate)'}, inplace=True)\n",
        "\n",
        "t1 = time.time()\n",
        "\n",
        "total = 'Time taken: {} seconds'.format(t1-t0)\n",
        "print(total)\n",
        "\n",
        "df_ide_cv"
      ]
    },
    {
      "cell_type": "code",
      "execution_count": null,
      "metadata": {
        "id": "E5AJxnEWQX-c",
        "outputId": "1966f15f-c556-4020-cee2-3b28b677dc55"
      },
      "outputs": [
        {
          "data": {
            "text/html": [
              "<div>\n",
              "<style scoped>\n",
              "    .dataframe tbody tr th:only-of-type {\n",
              "        vertical-align: middle;\n",
              "    }\n",
              "\n",
              "    .dataframe tbody tr th {\n",
              "        vertical-align: top;\n",
              "    }\n",
              "\n",
              "    .dataframe thead th {\n",
              "        text-align: right;\n",
              "    }\n",
              "</style>\n",
              "<table border=\"1\" class=\"dataframe\">\n",
              "  <thead>\n",
              "    <tr style=\"text-align: right;\">\n",
              "      <th></th>\n",
              "      <th>Log Regression</th>\n",
              "      <th>KNN</th>\n",
              "      <th>BernoulliNB</th>\n",
              "      <th>MultinomialNB</th>\n",
              "      <th>SVM</th>\n",
              "      <th>Random Forest</th>\n",
              "    </tr>\n",
              "  </thead>\n",
              "  <tbody>\n",
              "    <tr>\n",
              "      <th>F1 Score(toxic)</th>\n",
              "      <td>0.861234</td>\n",
              "      <td>0.185120</td>\n",
              "      <td>0.776521</td>\n",
              "      <td>0.874958</td>\n",
              "      <td>0.876133</td>\n",
              "      <td>0.838055</td>\n",
              "    </tr>\n",
              "    <tr>\n",
              "      <th>F1 Score(severe_toxic)</th>\n",
              "      <td>0.927879</td>\n",
              "      <td>0.857416</td>\n",
              "      <td>0.803707</td>\n",
              "      <td>0.936170</td>\n",
              "      <td>0.926004</td>\n",
              "      <td>0.934874</td>\n",
              "    </tr>\n",
              "    <tr>\n",
              "      <th>F1 Score(obscene)</th>\n",
              "      <td>0.908655</td>\n",
              "      <td>0.519056</td>\n",
              "      <td>0.787830</td>\n",
              "      <td>0.901463</td>\n",
              "      <td>0.921378</td>\n",
              "      <td>0.909091</td>\n",
              "    </tr>\n",
              "    <tr>\n",
              "      <th>F1 Score(insult)</th>\n",
              "      <td>0.896599</td>\n",
              "      <td>0.257992</td>\n",
              "      <td>0.783762</td>\n",
              "      <td>0.897411</td>\n",
              "      <td>0.902619</td>\n",
              "      <td>0.883993</td>\n",
              "    </tr>\n",
              "    <tr>\n",
              "      <th>F1 Score(threat)</th>\n",
              "      <td>0.628821</td>\n",
              "      <td>0.720000</td>\n",
              "      <td>0.311828</td>\n",
              "      <td>0.504762</td>\n",
              "      <td>0.786765</td>\n",
              "      <td>0.795539</td>\n",
              "    </tr>\n",
              "    <tr>\n",
              "      <th>F1 Score(identity_hate)</th>\n",
              "      <td>0.699029</td>\n",
              "      <td>0.230159</td>\n",
              "      <td>0.549206</td>\n",
              "      <td>0.485857</td>\n",
              "      <td>0.797516</td>\n",
              "      <td>0.768448</td>\n",
              "    </tr>\n",
              "  </tbody>\n",
              "</table>\n",
              "</div>"
            ],
            "text/plain": [
              "                         Log Regression       KNN  BernoulliNB  MultinomialNB  \\\n",
              "F1 Score(toxic)                0.861234  0.185120     0.776521       0.874958   \n",
              "F1 Score(severe_toxic)         0.927879  0.857416     0.803707       0.936170   \n",
              "F1 Score(obscene)              0.908655  0.519056     0.787830       0.901463   \n",
              "F1 Score(insult)               0.896599  0.257992     0.783762       0.897411   \n",
              "F1 Score(threat)               0.628821  0.720000     0.311828       0.504762   \n",
              "F1 Score(identity_hate)        0.699029  0.230159     0.549206       0.485857   \n",
              "\n",
              "                              SVM  Random Forest  \n",
              "F1 Score(toxic)          0.876133       0.838055  \n",
              "F1 Score(severe_toxic)   0.926004       0.934874  \n",
              "F1 Score(obscene)        0.921378       0.909091  \n",
              "F1 Score(insult)         0.902619       0.883993  \n",
              "F1 Score(threat)         0.786765       0.795539  \n",
              "F1 Score(identity_hate)  0.797516       0.768448  "
            ]
          },
          "execution_count": 90,
          "metadata": {},
          "output_type": "execute_result"
        }
      ],
      "source": [
        "# Let's combine the dataframes into a master dataframe to compare F1 scores across all categories.\n",
        "f1_all = pd.concat([df_tox_cv, df_sev_cv, df_obs_cv, df_ins_cv, df_thr_cv, df_ide_cv], axis=1)\n",
        "\n",
        "#Transpose the combined F1 dataframe to make it suitable for presentation on a graph\n",
        "f1_all_trp = f1_all.transpose()\n",
        "f1_all_trp"
      ]
    },
    {
      "cell_type": "code",
      "execution_count": null,
      "metadata": {
        "id": "5sAM1B68QX-c",
        "outputId": "22bc7d3d-dd30-478d-da18-0e00cff62567"
      },
      "outputs": [
        {
          "data": {
            "text/plain": [
              "Text(0.5, 1.0, 'F1 Score of ML models (TF-IDF)')"
            ]
          },
          "execution_count": 93,
          "metadata": {},
          "output_type": "execute_result"
        },
        {
          "data": {
            "image/png": "[encoded data removed]",
            "text/plain": [
              "<Figure size 432x288 with 1 Axes>"
            ]
          },
          "metadata": {
            "needs_background": "light"
          },
          "output_type": "display_data"
        }
      ],
      "source": [
        "sns.lineplot(data=f1_all_trp, markers=True)\n",
        "plt.xticks(rotation='90', fontsize=14)\n",
        "plt.yticks(fontsize=14)\n",
        "plt.legend(loc='best')\n",
        "plt.title('F1 Score of ML models (TF-IDF)', fontsize=20)"
      ]
    },
    {
      "cell_type": "markdown",
      "metadata": {
        "id": "ajqDi2waQX-c"
      },
      "source": [
        "LinearSVC and Random Forest models perform best (purple and brown lines seem to be the highest)."
      ]
    },
    {
      "cell_type": "markdown",
      "metadata": {
        "id": "Bo_ZrLrxQX-d"
      },
      "source": [
        "### Testing. Probability of the comment falling in various categories should be output."
      ]
    },
    {
      "cell_type": "code",
      "execution_count": null,
      "metadata": {
        "id": "CWgXq8cEQX-d",
        "outputId": "e90f1666-2a25-410f-88bd-844f953198cd"
      },
      "outputs": [
        {
          "data": {
            "text/plain": [
              "array([0, 1, 1, ..., 1, 1, 1], dtype=int64)"
            ]
          },
          "execution_count": 95,
          "metadata": {},
          "output_type": "execute_result"
        }
      ],
      "source": [
        "X = data_tox_done.comment_text\n",
        "y = data_tox_done['toxic']\n",
        "\n",
        "X_train, X_test, y_train, y_test = train_test_split(X, y, test_size=0.3, random_state=42)\n",
        "\n",
        "# Initiate a Tfidf vectorizer\n",
        "tfv = TfidfVectorizer(ngram_range=(1,1), stop_words='english')\n",
        "\n",
        "X_train_fit = tfv.fit_transform(X_train)  # Convert the X data into a document term matrix dataframe\n",
        "X_test_fit = tfv.transform(X_test)  # Converts the X_test comments into Vectorized format\n",
        "\n",
        "randomforest = RandomForestClassifier(n_estimators=100, random_state=42)\n",
        "\n",
        "# Train our SVM model with the X training data converted into Count Vectorized format with the Y training data\n",
        "randomforest.fit(X_train_fit, y_train)\n",
        "randomforest.predict(X_test_fit)"
      ]
    },
    {
      "cell_type": "code",
      "execution_count": null,
      "metadata": {
        "id": "EKOSojbfQX-d",
        "outputId": "f1862164-6ac9-4c1f-84c0-d13d20a80003"
      },
      "outputs": [
        {
          "data": {
            "text/plain": [
              "array([1.])"
            ]
          },
          "execution_count": 112,
          "metadata": {},
          "output_type": "execute_result"
        }
      ],
      "source": [
        "# Sample Prediction\n",
        "comment1 = ['You piece of shit']\n",
        "comment2 = ['What is up garden apple doing']\n",
        "\n",
        "comment1_vect = tfv.transform(comment1)\n",
        "randomforest.predict_proba(comment1_vect)[:,1]"
      ]
    },
    {
      "cell_type": "code",
      "execution_count": null,
      "metadata": {
        "id": "erxp-3TuQX-d",
        "outputId": "8bb8383e-abd1-4942-e5bf-9729ace99091"
      },
      "outputs": [
        {
          "data": {
            "text/plain": [
              "array([[0., 1.]])"
            ]
          },
          "execution_count": 113,
          "metadata": {},
          "output_type": "execute_result"
        }
      ],
      "source": [
        "randomforest.predict_proba(comment1_vect)"
      ]
    },
    {
      "cell_type": "code",
      "execution_count": null,
      "metadata": {
        "id": "7ASBPAoMQX-d",
        "outputId": "445979a3-2936-4b59-fc9c-df5454ff73c3"
      },
      "outputs": [
        {
          "data": {
            "text/plain": [
              "array([0.16036935])"
            ]
          },
          "execution_count": 97,
          "metadata": {},
          "output_type": "execute_result"
        }
      ],
      "source": [
        "comment2_vect = tfv.transform(comment2)\n",
        "randomforest.predict_proba(comment2_vect)[:,1]"
      ]
    },
    {
      "cell_type": "markdown",
      "metadata": {
        "id": "r-z1xkk0QX-d"
      },
      "source": [
        "Random forest has assigned a probability of 1 that comment 1 ('you piece of shit') is toxic. Comment 2 has only a low toxicity probability of 0.16."
      ]
    },
    {
      "cell_type": "markdown",
      "metadata": {
        "id": "5uKg36RhQX-d"
      },
      "source": [
        "Produce result and submission to kaggle"
      ]
    },
    {
      "cell_type": "code",
      "execution_count": null,
      "metadata": {
        "id": "rV1r77jGQX-d",
        "outputId": "ee07b909-6627-43e0-f434-7369edcf5ca4"
      },
      "outputs": [
        {
          "data": {
            "text/html": [
              "<div>\n",
              "<style scoped>\n",
              "    .dataframe tbody tr th:only-of-type {\n",
              "        vertical-align: middle;\n",
              "    }\n",
              "\n",
              "    .dataframe tbody tr th {\n",
              "        vertical-align: top;\n",
              "    }\n",
              "\n",
              "    .dataframe thead th {\n",
              "        text-align: right;\n",
              "    }\n",
              "</style>\n",
              "<table border=\"1\" class=\"dataframe\">\n",
              "  <thead>\n",
              "    <tr style=\"text-align: right;\">\n",
              "      <th></th>\n",
              "      <th>id</th>\n",
              "      <th>toxic</th>\n",
              "      <th>severe_toxic</th>\n",
              "      <th>obscene</th>\n",
              "      <th>threat</th>\n",
              "      <th>insult</th>\n",
              "      <th>identity_hate</th>\n",
              "    </tr>\n",
              "  </thead>\n",
              "  <tbody>\n",
              "    <tr>\n",
              "      <th>0</th>\n",
              "      <td>00001cee341fdb12</td>\n",
              "      <td>0.5</td>\n",
              "      <td>0.5</td>\n",
              "      <td>0.5</td>\n",
              "      <td>0.5</td>\n",
              "      <td>0.5</td>\n",
              "      <td>0.5</td>\n",
              "    </tr>\n",
              "    <tr>\n",
              "      <th>1</th>\n",
              "      <td>0000247867823ef7</td>\n",
              "      <td>0.5</td>\n",
              "      <td>0.5</td>\n",
              "      <td>0.5</td>\n",
              "      <td>0.5</td>\n",
              "      <td>0.5</td>\n",
              "      <td>0.5</td>\n",
              "    </tr>\n",
              "    <tr>\n",
              "      <th>2</th>\n",
              "      <td>00013b17ad220c46</td>\n",
              "      <td>0.5</td>\n",
              "      <td>0.5</td>\n",
              "      <td>0.5</td>\n",
              "      <td>0.5</td>\n",
              "      <td>0.5</td>\n",
              "      <td>0.5</td>\n",
              "    </tr>\n",
              "    <tr>\n",
              "      <th>3</th>\n",
              "      <td>00017563c3f7919a</td>\n",
              "      <td>0.5</td>\n",
              "      <td>0.5</td>\n",
              "      <td>0.5</td>\n",
              "      <td>0.5</td>\n",
              "      <td>0.5</td>\n",
              "      <td>0.5</td>\n",
              "    </tr>\n",
              "    <tr>\n",
              "      <th>4</th>\n",
              "      <td>00017695ad8997eb</td>\n",
              "      <td>0.5</td>\n",
              "      <td>0.5</td>\n",
              "      <td>0.5</td>\n",
              "      <td>0.5</td>\n",
              "      <td>0.5</td>\n",
              "      <td>0.5</td>\n",
              "    </tr>\n",
              "  </tbody>\n",
              "</table>\n",
              "</div>"
            ],
            "text/plain": [
              "                 id  toxic  severe_toxic  obscene  threat  insult  \\\n",
              "0  00001cee341fdb12    0.5           0.5      0.5     0.5     0.5   \n",
              "1  0000247867823ef7    0.5           0.5      0.5     0.5     0.5   \n",
              "2  00013b17ad220c46    0.5           0.5      0.5     0.5     0.5   \n",
              "3  00017563c3f7919a    0.5           0.5      0.5     0.5     0.5   \n",
              "4  00017695ad8997eb    0.5           0.5      0.5     0.5     0.5   \n",
              "\n",
              "   identity_hate  \n",
              "0            0.5  \n",
              "1            0.5  \n",
              "2            0.5  \n",
              "3            0.5  \n",
              "4            0.5  "
            ]
          },
          "execution_count": 101,
          "metadata": {},
          "output_type": "execute_result"
        }
      ],
      "source": [
        "sample_sub=pd.read_csv('Dataset/sample_submission.csv')\n",
        "sample_sub.head()"
      ]
    },
    {
      "cell_type": "code",
      "execution_count": null,
      "metadata": {
        "id": "f_CrlqoZQX-d"
      },
      "outputs": [],
      "source": [
        "column_list = ['toxic','severe_toxic','obscene','threat','insult','identity_hate']\n",
        "data_list = [data_tox_done, data_sev_done, data_obs_done, data_thr_done, data_ins_done, data_ide_done]"
      ]
    },
    {
      "cell_type": "code",
      "execution_count": null,
      "metadata": {
        "id": "-7bWWUt6QX-d"
      },
      "outputs": [],
      "source": [
        "\n",
        "for i in range(len(data_list)):\n",
        "    X = data_list[i].comment_text\n",
        "    y = data_list[i][column_list[i]]\n",
        "\n",
        "    X_test = test.comment_text\n",
        "\n",
        "    tfv = TfidfVectorizer(ngram_range=(1,1), stop_words='english')\n",
        "    X = tfv.fit_transform(X)  # Convert the X data into a document term matrix dataframe\n",
        "    X_test = tfv.transform(X_test)\n",
        "    randomforest = RandomForestClassifier(n_estimators=100, random_state=42)\n",
        "    randomforest.fit(X, y)\n",
        "    probability = randomforest.predict_proba(X_test)[:,1]\n",
        "    sample_sub[column_list[i]] = probability\n",
        "\n"
      ]
    },
    {
      "cell_type": "code",
      "execution_count": null,
      "metadata": {
        "id": "zx5sj1KpQX-d",
        "outputId": "dde64614-4dd9-4dd4-8250-d621e591dcd0"
      },
      "outputs": [
        {
          "data": {
            "text/html": [
              "<div>\n",
              "<style scoped>\n",
              "    .dataframe tbody tr th:only-of-type {\n",
              "        vertical-align: middle;\n",
              "    }\n",
              "\n",
              "    .dataframe tbody tr th {\n",
              "        vertical-align: top;\n",
              "    }\n",
              "\n",
              "    .dataframe thead th {\n",
              "        text-align: right;\n",
              "    }\n",
              "</style>\n",
              "<table border=\"1\" class=\"dataframe\">\n",
              "  <thead>\n",
              "    <tr style=\"text-align: right;\">\n",
              "      <th></th>\n",
              "      <th>id</th>\n",
              "      <th>toxic</th>\n",
              "      <th>severe_toxic</th>\n",
              "      <th>obscene</th>\n",
              "      <th>threat</th>\n",
              "      <th>insult</th>\n",
              "      <th>identity_hate</th>\n",
              "    </tr>\n",
              "  </thead>\n",
              "  <tbody>\n",
              "    <tr>\n",
              "      <th>0</th>\n",
              "      <td>00001cee341fdb12</td>\n",
              "      <td>0.940000</td>\n",
              "      <td>0.890000</td>\n",
              "      <td>0.920000</td>\n",
              "      <td>0.67</td>\n",
              "      <td>0.940000</td>\n",
              "      <td>0.810000</td>\n",
              "    </tr>\n",
              "    <tr>\n",
              "      <th>1</th>\n",
              "      <td>0000247867823ef7</td>\n",
              "      <td>0.244523</td>\n",
              "      <td>0.265595</td>\n",
              "      <td>0.158281</td>\n",
              "      <td>0.11</td>\n",
              "      <td>0.102650</td>\n",
              "      <td>0.098724</td>\n",
              "    </tr>\n",
              "    <tr>\n",
              "      <th>2</th>\n",
              "      <td>00013b17ad220c46</td>\n",
              "      <td>0.059251</td>\n",
              "      <td>0.098286</td>\n",
              "      <td>0.127924</td>\n",
              "      <td>0.01</td>\n",
              "      <td>0.195705</td>\n",
              "      <td>0.093902</td>\n",
              "    </tr>\n",
              "    <tr>\n",
              "      <th>3</th>\n",
              "      <td>00017563c3f7919a</td>\n",
              "      <td>0.100000</td>\n",
              "      <td>0.130000</td>\n",
              "      <td>0.070000</td>\n",
              "      <td>0.03</td>\n",
              "      <td>0.100000</td>\n",
              "      <td>0.010000</td>\n",
              "    </tr>\n",
              "    <tr>\n",
              "      <th>4</th>\n",
              "      <td>00017695ad8997eb</td>\n",
              "      <td>0.250000</td>\n",
              "      <td>0.220000</td>\n",
              "      <td>0.440000</td>\n",
              "      <td>0.16</td>\n",
              "      <td>0.350000</td>\n",
              "      <td>0.050000</td>\n",
              "    </tr>\n",
              "  </tbody>\n",
              "</table>\n",
              "</div>"
            ],
            "text/plain": [
              "                 id     toxic  severe_toxic   obscene  threat    insult  \\\n",
              "0  00001cee341fdb12  0.940000      0.890000  0.920000    0.67  0.940000   \n",
              "1  0000247867823ef7  0.244523      0.265595  0.158281    0.11  0.102650   \n",
              "2  00013b17ad220c46  0.059251      0.098286  0.127924    0.01  0.195705   \n",
              "3  00017563c3f7919a  0.100000      0.130000  0.070000    0.03  0.100000   \n",
              "4  00017695ad8997eb  0.250000      0.220000  0.440000    0.16  0.350000   \n",
              "\n",
              "   identity_hate  \n",
              "0       0.810000  \n",
              "1       0.098724  \n",
              "2       0.093902  \n",
              "3       0.010000  \n",
              "4       0.050000  "
            ]
          },
          "execution_count": 118,
          "metadata": {},
          "output_type": "execute_result"
        }
      ],
      "source": [
        "sample_sub.head()"
      ]
    },
    {
      "cell_type": "code",
      "execution_count": null,
      "metadata": {
        "id": "ETWhV4F3QX-d"
      },
      "outputs": [],
      "source": [
        "sample_sub.to_csv('ml_approach_sub.csv', index=False)"
      ]
    },
    {
      "cell_type": "markdown",
      "metadata": {
        "id": "dQzDJHNcQX-e"
      },
      "source": [
        "# Deep Learning Approach"
      ]
    },
    {
      "cell_type": "markdown",
      "metadata": {
        "id": "2JrokvRfQX-e"
      },
      "source": [
        "Let's clean the text"
      ]
    },
    {
      "cell_type": "code",
      "execution_count": null,
      "metadata": {
        "id": "d4O40nv0QX-e"
      },
      "outputs": [],
      "source": [
        "train = pd.read_csv('Dataset/train.csv')\n",
        "test = pd.read_csv('Dataset/test.csv')"
      ]
    },
    {
      "cell_type": "markdown",
      "metadata": {
        "id": "wExRRbIDQX-e"
      },
      "source": [
        "* Punctuation remove"
      ]
    },
    {
      "cell_type": "code",
      "execution_count": null,
      "metadata": {
        "execution": {
          "iopub.execute_input": "2022-04-30T10:05:17.372504Z",
          "iopub.status.busy": "2022-04-30T10:05:17.371641Z",
          "iopub.status.idle": "2022-04-30T10:05:17.376691Z",
          "shell.execute_reply": "2022-04-30T10:05:17.375775Z",
          "shell.execute_reply.started": "2022-04-30T10:05:17.372453Z"
        },
        "trusted": true,
        "id": "CpES2ZjYQX-e"
      },
      "outputs": [],
      "source": [
        "#string.punctuation\n"
      ]
    },
    {
      "cell_type": "code",
      "execution_count": null,
      "metadata": {
        "execution": {
          "iopub.execute_input": "2022-04-30T10:05:17.378686Z",
          "iopub.status.busy": "2022-04-30T10:05:17.378410Z",
          "iopub.status.idle": "2022-04-30T10:05:17.403256Z",
          "shell.execute_reply": "2022-04-30T10:05:17.402118Z",
          "shell.execute_reply.started": "2022-04-30T10:05:17.378654Z"
        },
        "trusted": true,
        "id": "xptNh1-3QX-e"
      },
      "outputs": [],
      "source": [
        "#def remove_punct(text):\n",
        "#    text  = \"\".join([char for char in text if char not in string.punctuation])\n",
        " #   text = re.sub('[0-9]+', '', text)\n",
        "  #  text = re.sub('\\n', '', text)\n",
        "   # text = re.sub('\\t', '', text)\n",
        "    #return text\n",
        "\n",
        "\n",
        "#train['comment_text'] = train['comment_text'].apply(lambda x: remove_punct(x))\n",
        "#test['comment_text'] = test['comment_text'].apply(lambda x: remove_punct(x))\n",
        "\n",
        "\n"
      ]
    },
    {
      "cell_type": "markdown",
      "metadata": {
        "id": "2-L3F9FrQX-e"
      },
      "source": [
        "* removing uppercases"
      ]
    },
    {
      "cell_type": "code",
      "execution_count": null,
      "metadata": {
        "execution": {
          "iopub.execute_input": "2022-04-30T10:05:17.405875Z",
          "iopub.status.busy": "2022-04-30T10:05:17.404929Z",
          "iopub.status.idle": "2022-04-30T10:05:17.423146Z",
          "shell.execute_reply": "2022-04-30T10:05:17.421778Z",
          "shell.execute_reply.started": "2022-04-30T10:05:17.405813Z"
        },
        "trusted": true,
        "id": "7f_34pTZQX-e"
      },
      "outputs": [],
      "source": [
        "# def lower(text):\n",
        "#     lowercase_text = [word.lower() for word in text.split()]\n",
        "#     text=\" \".join(lowercase_text)\n",
        "#     return text"
      ]
    },
    {
      "cell_type": "code",
      "execution_count": null,
      "metadata": {
        "execution": {
          "iopub.execute_input": "2022-04-30T10:05:17.425832Z",
          "iopub.status.busy": "2022-04-30T10:05:17.425156Z",
          "iopub.status.idle": "2022-04-30T10:05:22.177118Z",
          "shell.execute_reply": "2022-04-30T10:05:22.176095Z",
          "shell.execute_reply.started": "2022-04-30T10:05:17.425774Z"
        },
        "trusted": true,
        "id": "UFsjKhwRQX-e"
      },
      "outputs": [],
      "source": [
        "# train['comment_text'] = train['comment_text'].apply(lambda x: lower(x))\n",
        "# test['comment_text'] = test['comment_text'].apply(lambda x: lower(x))\n"
      ]
    },
    {
      "cell_type": "markdown",
      "metadata": {
        "id": "RW8UH2b7QX-e"
      },
      "source": [
        "## Insight\n",
        "\n",
        "Removing punctuations and lower cases will lower the score after checking the data more i found out that the punctuations are used to express such bad words for example s#$t\n"
      ]
    },
    {
      "cell_type": "code",
      "execution_count": null,
      "metadata": {
        "execution": {
          "iopub.execute_input": "2022-04-30T10:05:22.180877Z",
          "iopub.status.busy": "2022-04-30T10:05:22.180328Z",
          "iopub.status.idle": "2022-04-30T10:05:22.195452Z",
          "shell.execute_reply": "2022-04-30T10:05:22.194270Z",
          "shell.execute_reply.started": "2022-04-30T10:05:22.180828Z"
        },
        "trusted": true,
        "id": "en1nx92lQX-e",
        "outputId": "f8a6e0a3-a1fe-4640-cb71-4b52a61f889d"
      },
      "outputs": [
        {
          "data": {
            "text/html": [
              "<div>\n",
              "<style scoped>\n",
              "    .dataframe tbody tr th:only-of-type {\n",
              "        vertical-align: middle;\n",
              "    }\n",
              "\n",
              "    .dataframe tbody tr th {\n",
              "        vertical-align: top;\n",
              "    }\n",
              "\n",
              "    .dataframe thead th {\n",
              "        text-align: right;\n",
              "    }\n",
              "</style>\n",
              "<table border=\"1\" class=\"dataframe\">\n",
              "  <thead>\n",
              "    <tr style=\"text-align: right;\">\n",
              "      <th></th>\n",
              "      <th>id</th>\n",
              "      <th>comment_text</th>\n",
              "      <th>toxic</th>\n",
              "      <th>severe_toxic</th>\n",
              "      <th>obscene</th>\n",
              "      <th>threat</th>\n",
              "      <th>insult</th>\n",
              "      <th>identity_hate</th>\n",
              "    </tr>\n",
              "  </thead>\n",
              "  <tbody>\n",
              "    <tr>\n",
              "      <th>0</th>\n",
              "      <td>0000997932d777bf</td>\n",
              "      <td>Explanation\\nWhy the edits made under my usern...</td>\n",
              "      <td>0</td>\n",
              "      <td>0</td>\n",
              "      <td>0</td>\n",
              "      <td>0</td>\n",
              "      <td>0</td>\n",
              "      <td>0</td>\n",
              "    </tr>\n",
              "    <tr>\n",
              "      <th>1</th>\n",
              "      <td>000103f0d9cfb60f</td>\n",
              "      <td>D'aww! He matches this background colour I'm s...</td>\n",
              "      <td>0</td>\n",
              "      <td>0</td>\n",
              "      <td>0</td>\n",
              "      <td>0</td>\n",
              "      <td>0</td>\n",
              "      <td>0</td>\n",
              "    </tr>\n",
              "    <tr>\n",
              "      <th>2</th>\n",
              "      <td>000113f07ec002fd</td>\n",
              "      <td>Hey man, I'm really not trying to edit war. It...</td>\n",
              "      <td>0</td>\n",
              "      <td>0</td>\n",
              "      <td>0</td>\n",
              "      <td>0</td>\n",
              "      <td>0</td>\n",
              "      <td>0</td>\n",
              "    </tr>\n",
              "    <tr>\n",
              "      <th>3</th>\n",
              "      <td>0001b41b1c6bb37e</td>\n",
              "      <td>\"\\nMore\\nI can't make any real suggestions on ...</td>\n",
              "      <td>0</td>\n",
              "      <td>0</td>\n",
              "      <td>0</td>\n",
              "      <td>0</td>\n",
              "      <td>0</td>\n",
              "      <td>0</td>\n",
              "    </tr>\n",
              "    <tr>\n",
              "      <th>4</th>\n",
              "      <td>0001d958c54c6e35</td>\n",
              "      <td>You, sir, are my hero. Any chance you remember...</td>\n",
              "      <td>0</td>\n",
              "      <td>0</td>\n",
              "      <td>0</td>\n",
              "      <td>0</td>\n",
              "      <td>0</td>\n",
              "      <td>0</td>\n",
              "    </tr>\n",
              "  </tbody>\n",
              "</table>\n",
              "</div>"
            ],
            "text/plain": [
              "                 id                                       comment_text  toxic  \\\n",
              "0  0000997932d777bf  Explanation\\nWhy the edits made under my usern...      0   \n",
              "1  000103f0d9cfb60f  D'aww! He matches this background colour I'm s...      0   \n",
              "2  000113f07ec002fd  Hey man, I'm really not trying to edit war. It...      0   \n",
              "3  0001b41b1c6bb37e  \"\\nMore\\nI can't make any real suggestions on ...      0   \n",
              "4  0001d958c54c6e35  You, sir, are my hero. Any chance you remember...      0   \n",
              "\n",
              "   severe_toxic  obscene  threat  insult  identity_hate  \n",
              "0             0        0       0       0              0  \n",
              "1             0        0       0       0              0  \n",
              "2             0        0       0       0              0  \n",
              "3             0        0       0       0              0  \n",
              "4             0        0       0       0              0  "
            ]
          },
          "execution_count": 122,
          "metadata": {},
          "output_type": "execute_result"
        }
      ],
      "source": [
        "train.head()"
      ]
    },
    {
      "cell_type": "code",
      "execution_count": null,
      "metadata": {
        "execution": {
          "iopub.execute_input": "2022-04-30T10:05:22.197834Z",
          "iopub.status.busy": "2022-04-30T10:05:22.197525Z",
          "iopub.status.idle": "2022-04-30T10:05:22.219021Z",
          "shell.execute_reply": "2022-04-30T10:05:22.217891Z",
          "shell.execute_reply.started": "2022-04-30T10:05:22.197800Z"
        },
        "trusted": true,
        "id": "w9tSRAJiQX-e"
      },
      "outputs": [],
      "source": [
        "list_classes = [\"toxic\", \"severe_toxic\", \"obscene\", \"threat\", \"insult\", \"identity_hate\"]\n",
        "y = train[list_classes].values\n",
        "list_sentences_train = train[\"comment_text\"]\n",
        "list_sentences_test = test[\"comment_text\"]"
      ]
    },
    {
      "cell_type": "markdown",
      "metadata": {
        "id": "6mqT4H65QX-e"
      },
      "source": [
        "the dependent variables are in the training set itself so we need to split them up, into X and Y sets."
      ]
    },
    {
      "cell_type": "markdown",
      "metadata": {
        "id": "TAfr7po9QX-e"
      },
      "source": [
        "we going to  feed the comments into the LSTM as part of the neural network but we can't just feed the words as it is.\n",
        "\n",
        "So we are going to do a natural language processing to the comments which are simply explained as :\n",
        "\n",
        "1. Tokenization - We need to break down the sentence into unique words. For eg, \"I love cats and love dogs\" will become [\"I\",\"love\",\"cats\",\"and\",\"dogs\"]\n",
        "2. Indexing - We put the words in a dictionary-like structure and give them an index each For eg, {1:\"I\",2:\"love\",3:\"cats\",4:\"and\",5:\"dogs\"}\n",
        "3. Index Representation- We could represent the sequence of words in the comments in the form of index, and feed this chain of index into our LSTM. For eg, [1,2,3,4,2,5]"
      ]
    },
    {
      "cell_type": "markdown",
      "metadata": {
        "id": "Uax2HhhsQX-e"
      },
      "source": [
        "Note that we have to define the number of unique words in our dictionary when tokenizing the sentences\n",
        "* we picked 20000"
      ]
    },
    {
      "cell_type": "code",
      "execution_count": null,
      "metadata": {
        "execution": {
          "iopub.execute_input": "2022-04-30T10:05:22.221120Z",
          "iopub.status.busy": "2022-04-30T10:05:22.220433Z",
          "iopub.status.idle": "2022-04-30T10:05:57.405409Z",
          "shell.execute_reply": "2022-04-30T10:05:57.404609Z",
          "shell.execute_reply.started": "2022-04-30T10:05:22.221076Z"
        },
        "trusted": true,
        "id": "o7Xi4M0BQX-e"
      },
      "outputs": [],
      "source": [
        "max_features = 20000\n",
        "tokenizer = Tokenizer(num_words=max_features)\n",
        "tokenizer.fit_on_texts(list(list_sentences_train))\n",
        "list_tokenized_train = tokenizer.texts_to_sequences(list_sentences_train)\n",
        "list_tokenized_test = tokenizer.texts_to_sequences(list_sentences_test)"
      ]
    },
    {
      "cell_type": "markdown",
      "metadata": {
        "id": "6wVb0WktQX-e"
      },
      "source": [
        "the occurrence and the index of each words in the dictionary:\n",
        "it takes alot of time to execute and alot of output is shown uncomment to check"
      ]
    },
    {
      "cell_type": "code",
      "execution_count": null,
      "metadata": {
        "execution": {
          "iopub.execute_input": "2022-04-30T10:05:57.408604Z",
          "iopub.status.busy": "2022-04-30T10:05:57.407993Z",
          "iopub.status.idle": "2022-04-30T10:05:57.415065Z",
          "shell.execute_reply": "2022-04-30T10:05:57.413767Z",
          "shell.execute_reply.started": "2022-04-30T10:05:57.408552Z"
        },
        "trusted": true,
        "id": "G6OapuDtQX-f"
      },
      "outputs": [],
      "source": [
        "#for occurence of words\n",
        "#tokenizer.word_counts\n",
        "#for index of words\n",
        "#tokenizer.word_index"
      ]
    },
    {
      "cell_type": "markdown",
      "metadata": {
        "id": "Tn3M4ccdQX-f"
      },
      "source": [
        "checking \"list_tokenized_train\"  you will see that Keras has turned our words into index representation for us\n",
        "\n"
      ]
    },
    {
      "cell_type": "code",
      "execution_count": null,
      "metadata": {
        "execution": {
          "iopub.execute_input": "2022-04-30T10:05:57.418055Z",
          "iopub.status.busy": "2022-04-30T10:05:57.417329Z",
          "iopub.status.idle": "2022-04-30T10:05:57.433248Z",
          "shell.execute_reply": "2022-04-30T10:05:57.432154Z",
          "shell.execute_reply.started": "2022-04-30T10:05:57.417989Z"
        },
        "trusted": true,
        "id": "uPekWgBEQX-f",
        "outputId": "abd97664-776f-4eb8-82bf-dd9612e5a783"
      },
      "outputs": [
        {
          "data": {
            "text/plain": [
              "[[688,\n",
              "  75,\n",
              "  1,\n",
              "  126,\n",
              "  130,\n",
              "  177,\n",
              "  29,\n",
              "  672,\n",
              "  4511,\n",
              "  12052,\n",
              "  1116,\n",
              "  86,\n",
              "  331,\n",
              "  51,\n",
              "  2278,\n",
              "  11448,\n",
              "  50,\n",
              "  6864,\n",
              "  15,\n",
              "  60,\n",
              "  2756,\n",
              "  148,\n",
              "  7,\n",
              "  2937,\n",
              "  34,\n",
              "  117,\n",
              "  1221,\n",
              "  15190,\n",
              "  2825,\n",
              "  4,\n",
              "  45,\n",
              "  59,\n",
              "  244,\n",
              "  1,\n",
              "  365,\n",
              "  31,\n",
              "  1,\n",
              "  38,\n",
              "  27,\n",
              "  143,\n",
              "  73,\n",
              "  3462,\n",
              "  89,\n",
              "  3085,\n",
              "  4583,\n",
              "  2273,\n",
              "  985]]"
            ]
          },
          "execution_count": 126,
          "metadata": {},
          "output_type": "execute_result"
        }
      ],
      "source": [
        "list_tokenized_train[:1]"
      ]
    },
    {
      "cell_type": "markdown",
      "metadata": {
        "id": "NKJv4THBQX-f"
      },
      "source": [
        "And we have to feed a stream of data that has a consistent length(fixed number of features)\n",
        "and here we will face a problem since the comments aren't all equal so\n",
        "example:\n",
        "\n",
        "Comment #1: [8,9,3,7,3,6,3,6,3,6,2,3,4,9]\n",
        "\n",
        "Comment #2: [1,2]\n",
        "\n",
        "as a solution we will use padding that will make all comments having the same length by filling with missing values with zeros to get :\n",
        "\n",
        "Comment #1: [8,9,3,7,3,6,3,6,3,6,2,3,4,9]\n",
        "\n",
        "Comment #2: [1,2,0,0,0,0,0,0,0,0,0,0,0,0]\n",
        "\n",
        "and now another problem how can we choose the fixed number of features since  if you put it too short, you might lose some useful feature that could cost you some accuracy points down the path.If you put it too long, your LSTM cell will have to be larger to store the possible values or states.\n",
        "\n",
        "\n"
      ]
    },
    {
      "cell_type": "markdown",
      "metadata": {
        "id": "Y60fmL3BQX-f"
      },
      "source": [
        "One of the ways to go about it is to see the distribution of the number of words in sentences."
      ]
    },
    {
      "cell_type": "code",
      "execution_count": null,
      "metadata": {
        "execution": {
          "iopub.execute_input": "2022-04-30T10:05:57.435330Z",
          "iopub.status.busy": "2022-04-30T10:05:57.435048Z",
          "iopub.status.idle": "2022-04-30T10:05:57.460912Z",
          "shell.execute_reply": "2022-04-30T10:05:57.459740Z",
          "shell.execute_reply.started": "2022-04-30T10:05:57.435300Z"
        },
        "trusted": true,
        "id": "PRvlm_vJQX-f"
      },
      "outputs": [],
      "source": [
        "totalNumWords = [len(one_comment) for one_comment in list_tokenized_train]"
      ]
    },
    {
      "cell_type": "code",
      "execution_count": null,
      "metadata": {
        "execution": {
          "iopub.execute_input": "2022-04-30T10:05:57.462971Z",
          "iopub.status.busy": "2022-04-30T10:05:57.462579Z",
          "iopub.status.idle": "2022-04-30T10:05:58.772838Z",
          "shell.execute_reply": "2022-04-30T10:05:58.771694Z",
          "shell.execute_reply.started": "2022-04-30T10:05:57.462921Z"
        },
        "trusted": true,
        "id": "ZZE2AGBiQX-f",
        "outputId": "6a39d650-931e-4a6e-92e1-317034c2851e"
      },
      "outputs": [
        {
          "data": {
            "image/png": "[encoded data removed]",
            "text/plain": [
              "<Figure size 432x288 with 1 Axes>"
            ]
          },
          "metadata": {
            "needs_background": "light"
          },
          "output_type": "display_data"
        }
      ],
      "source": [
        "plt.hist(totalNumWords,bins = np.arange(0,410,10))\n",
        "plt.show()"
      ]
    },
    {
      "cell_type": "markdown",
      "metadata": {
        "id": "r8pirV__QX-f"
      },
      "source": [
        "As we can see, most of the sentence length is about 30+. We could set the \"maxlen\" to about 50.\n",
        "and to avoid any kind of information loss we can extend it to 200"
      ]
    },
    {
      "cell_type": "code",
      "execution_count": null,
      "metadata": {
        "execution": {
          "iopub.execute_input": "2022-04-30T10:05:58.775155Z",
          "iopub.status.busy": "2022-04-30T10:05:58.774770Z",
          "iopub.status.idle": "2022-04-30T10:06:04.410319Z",
          "shell.execute_reply": "2022-04-30T10:06:04.409115Z",
          "shell.execute_reply.started": "2022-04-30T10:05:58.775106Z"
        },
        "trusted": true,
        "id": "WOwMAFOEQX-f"
      },
      "outputs": [],
      "source": [
        "maxlen = 200\n",
        "X_t = pad_sequences(list_tokenized_train, maxlen=maxlen)\n",
        "X_te = pad_sequences(list_tokenized_test, maxlen=maxlen)"
      ]
    },
    {
      "cell_type": "markdown",
      "metadata": {
        "id": "d8SOxWH7QX-f"
      },
      "source": [
        "our comments are now econded and ready to fed to the model\n"
      ]
    },
    {
      "cell_type": "markdown",
      "metadata": {
        "id": "4ldW5sbkQX-g"
      },
      "source": [
        "# Building model"
      ]
    },
    {
      "cell_type": "markdown",
      "metadata": {
        "id": "CnWlu7u5QX-g"
      },
      "source": [
        "General architecture of our model"
      ]
    },
    {
      "cell_type": "markdown",
      "metadata": {
        "id": "w34yhGwAQX-g"
      },
      "source": [
        "**Input Layer**\n",
        "* the inputs into our networks are our list of encoded sentences. We begin our defining an Input layer that accepts a list of sentences that has a dimension of 200."
      ]
    },
    {
      "cell_type": "code",
      "execution_count": null,
      "metadata": {
        "execution": {
          "iopub.execute_input": "2022-04-30T10:06:04.412954Z",
          "iopub.status.busy": "2022-04-30T10:06:04.412296Z",
          "iopub.status.idle": "2022-04-30T10:06:04.453127Z",
          "shell.execute_reply": "2022-04-30T10:06:04.452359Z",
          "shell.execute_reply.started": "2022-04-30T10:06:04.412896Z"
        },
        "trusted": true,
        "id": "2bdjLRzJQX-g"
      },
      "outputs": [],
      "source": [
        "inp = Input(shape=(maxlen, ))"
      ]
    },
    {
      "cell_type": "markdown",
      "metadata": {
        "id": "4s6bUo24QX-g"
      },
      "source": [
        "By indicating an empty space after comma, we are telling Keras to infer the number automatically."
      ]
    },
    {
      "cell_type": "markdown",
      "metadata": {
        "id": "X97XFf6TQX-g"
      },
      "source": [
        "**Embedding layer**"
      ]
    },
    {
      "cell_type": "markdown",
      "metadata": {
        "id": "eyPM8fKtQX-g"
      },
      "source": [
        "Next, we pass it to our Embedding layer, where we project the words to a defined vector space depending on the distance of the surrounding words in a sentence. Embedding allows us to reduce model size and most importantly the huge dimensions we have to deal with instead of  using one-hot encoding to represent the words in our sentence."
      ]
    },
    {
      "cell_type": "code",
      "execution_count": null,
      "metadata": {
        "execution": {
          "iopub.execute_input": "2022-04-30T10:06:04.454739Z",
          "iopub.status.busy": "2022-04-30T10:06:04.454311Z",
          "iopub.status.idle": "2022-04-30T10:06:04.555583Z",
          "shell.execute_reply": "2022-04-30T10:06:04.554547Z",
          "shell.execute_reply.started": "2022-04-30T10:06:04.454704Z"
        },
        "trusted": true,
        "id": "_io3RLTRQX-g"
      },
      "outputs": [],
      "source": [
        "embed_size = 128\n",
        "x = Embedding(max_features, embed_size)(inp)"
      ]
    },
    {
      "cell_type": "markdown",
      "metadata": {
        "id": "H2vRjp9wQX-g"
      },
      "source": [
        "*  the embedding size (vector size) is a parameter that you can tune and experiment\n",
        "*  embedding function will return us a  3-D tensor\n",
        "*  Tensors are simply mathematical objects that can be used to describe physical properties, just like   scalars and vectors. In fact tensors are merely a generalisation of scalars and vectors; a scalar  is a zero rank tensor, and a vector is a first rank tensor."
      ]
    },
    {
      "cell_type": "markdown",
      "metadata": {
        "id": "2sxbXLE4QX-g"
      },
      "source": [
        "* Next, we feed this Tensor into the LSTM layer. We set the LSTM to produce an output that has a dimension of 60 and want it to return the whole unrolled sequence of results\n",
        "* LSTM or RNN works by recursively feeding the output of a previous network into the input of the current network, and you would take the final output after X number of recursion. But depending on use cases, you might want to take the unrolled, or the outputs of each recursion as the result to pass to the next layer. And this is the case."
      ]
    },
    {
      "cell_type": "markdown",
      "metadata": {
        "id": "xWIFUw1UQX-g"
      },
      "source": [
        "LSTM takes in a tensor of [Batch Size, Time Steps, Number of Inputs]. Batch size is the number of samples in a batch, time steps is the number of recursion it runs for each input, or it could be pictured as the number of \"A\"s in the above picture. Lastly, number of inputs is the number of variables(number of words in each sentence in our case) you pass into LSTM as pictured in \"x\" above."
      ]
    },
    {
      "cell_type": "code",
      "execution_count": null,
      "metadata": {
        "execution": {
          "iopub.execute_input": "2022-04-30T10:06:04.558222Z",
          "iopub.status.busy": "2022-04-30T10:06:04.557219Z",
          "iopub.status.idle": "2022-04-30T10:06:04.922261Z",
          "shell.execute_reply": "2022-04-30T10:06:04.921453Z",
          "shell.execute_reply.started": "2022-04-30T10:06:04.558166Z"
        },
        "trusted": true,
        "id": "DDURUFz8QX-h"
      },
      "outputs": [],
      "source": [
        "x = LSTM(60, return_sequences=True,name='lstm_layer')(x)"
      ]
    },
    {
      "cell_type": "markdown",
      "metadata": {
        "id": "XWo6kV0MQX-h"
      },
      "source": [
        "What it does is going through the samples, recursively run the LSTM model for many time (depending on the values of the tensor passed from the last cell stocked in x) , passing in the coordinates of the words each time. And because we want the unrolled version, we will receive a Tensor shape of (None, 1, 1), where 60 is the output dimension we have defined."
      ]
    },
    {
      "cell_type": "markdown",
      "metadata": {
        "id": "vDdAL1e0QX-h"
      },
      "source": [
        "**Max Pooling**"
      ]
    },
    {
      "cell_type": "markdown",
      "metadata": {
        "id": "KdR3YQ1zQX-h"
      },
      "source": [
        "Before we could pass the output to a normal layer, we need to reshape the 3D tensor into a 2D one. We reshape carefully to avoid throwing away data that is important to us, and ideally we want the resulting data to be a good representative of the original data.\n",
        "\n",
        "Therefore, we use a Global Max Pooling layer which is traditionally used in CNN problems to reduce the dimensionality of image data. In simple terms, we go through each patch of data, and we take the maximum values of each patch. These collection of maximum values will be a new set of down-sized data we can use."
      ]
    },
    {
      "cell_type": "code",
      "execution_count": null,
      "metadata": {
        "execution": {
          "iopub.execute_input": "2022-04-30T10:06:04.924445Z",
          "iopub.status.busy": "2022-04-30T10:06:04.923727Z",
          "iopub.status.idle": "2022-04-30T10:06:04.937068Z",
          "shell.execute_reply": "2022-04-30T10:06:04.935932Z",
          "shell.execute_reply.started": "2022-04-30T10:06:04.924407Z"
        },
        "trusted": true,
        "id": "QmLvsKJfQX-h"
      },
      "outputs": [],
      "source": [
        "x = GlobalMaxPool1D()(x)"
      ]
    },
    {
      "cell_type": "markdown",
      "metadata": {
        "id": "HXiS6BELQX-h"
      },
      "source": [
        "Now we move to regularization our neurol network (to reduce overfitting by using dropout and dense layers)"
      ]
    },
    {
      "cell_type": "markdown",
      "metadata": {
        "id": "iRzicBtxQX-h"
      },
      "source": [
        "having a 2D tensor, we pass it to a Dropout layer which indiscriminately \"disable\" some nodes so that the nodes in the next layer is forced to handle the representation of the missing data and the whole network could result in better generalization.\n",
        "\n"
      ]
    },
    {
      "cell_type": "code",
      "execution_count": null,
      "metadata": {
        "execution": {
          "iopub.execute_input": "2022-04-30T10:06:04.939818Z",
          "iopub.status.busy": "2022-04-30T10:06:04.938720Z",
          "iopub.status.idle": "2022-04-30T10:06:04.950157Z",
          "shell.execute_reply": "2022-04-30T10:06:04.949202Z",
          "shell.execute_reply.started": "2022-04-30T10:06:04.939732Z"
        },
        "trusted": true,
        "id": "RrFJvL5_QX-h"
      },
      "outputs": [],
      "source": [
        "x = Dropout(0.1)(x)"
      ]
    },
    {
      "cell_type": "markdown",
      "metadata": {
        "id": "JEWWk0xRQX-h"
      },
      "source": [
        "We set the dropout layer to drop out 10% of the nodes."
      ]
    },
    {
      "cell_type": "markdown",
      "metadata": {
        "id": "8IXywP57QX-h"
      },
      "source": [
        "After a drop out layer, we connect the output of drop out layer to a densely connected layer and the output passes through a RELU function. In short, this is what it does:\n",
        "Activation( (Input X Weights) + Bias)\n",
        "\n",
        "\n",
        "The rectified linear activation function or ReLU for short is a piecewise linear function that will output the input directly if it is positive, otherwise, it will output zero. It has become the default activation function for many types of neural networks because a model that uses it is easier to train and often achieves better performance."
      ]
    },
    {
      "cell_type": "code",
      "execution_count": null,
      "metadata": {
        "execution": {
          "iopub.execute_input": "2022-04-30T10:06:04.954255Z",
          "iopub.status.busy": "2022-04-30T10:06:04.953892Z",
          "iopub.status.idle": "2022-04-30T10:06:04.972489Z",
          "shell.execute_reply": "2022-04-30T10:06:04.971473Z",
          "shell.execute_reply.started": "2022-04-30T10:06:04.954197Z"
        },
        "trusted": true,
        "id": "ByFULu7NQX-h"
      },
      "outputs": [],
      "source": [
        "x = Dense(50, activation=\"relu\")(x)"
      ]
    },
    {
      "cell_type": "markdown",
      "metadata": {
        "id": "dVnkPuV4QX-h"
      },
      "source": [
        "We feed the output into a Dropout layer again.\n",
        "\n"
      ]
    },
    {
      "cell_type": "code",
      "execution_count": null,
      "metadata": {
        "execution": {
          "iopub.execute_input": "2022-04-30T10:06:04.974665Z",
          "iopub.status.busy": "2022-04-30T10:06:04.974229Z",
          "iopub.status.idle": "2022-04-30T10:06:04.985755Z",
          "shell.execute_reply": "2022-04-30T10:06:04.984485Z",
          "shell.execute_reply.started": "2022-04-30T10:06:04.974628Z"
        },
        "trusted": true,
        "id": "KBbmSS1ZQX-h"
      },
      "outputs": [],
      "source": [
        "x = Dropout(0.1)(x)"
      ]
    },
    {
      "cell_type": "markdown",
      "metadata": {
        "id": "DfzCWS9vQX-i"
      },
      "source": [
        "Finally, we feed the output into a Sigmoid layer. The reason why sigmoid is used is because we are trying to achieve a binary classification(1,0) for each of the 6 labels, and the sigmoid function will squash the output between the bounds of 0 and 1.\n",
        "\n"
      ]
    },
    {
      "cell_type": "code",
      "execution_count": null,
      "metadata": {
        "execution": {
          "iopub.execute_input": "2022-04-30T10:06:04.987959Z",
          "iopub.status.busy": "2022-04-30T10:06:04.987296Z",
          "iopub.status.idle": "2022-04-30T10:06:05.007516Z",
          "shell.execute_reply": "2022-04-30T10:06:05.006660Z",
          "shell.execute_reply.started": "2022-04-30T10:06:04.987912Z"
        },
        "trusted": true,
        "id": "Fj1NAVixQX-i"
      },
      "outputs": [],
      "source": [
        "x = Dense(6, activation=\"sigmoid\")(x)"
      ]
    },
    {
      "cell_type": "markdown",
      "metadata": {
        "id": "wI2AcSR6QX-i"
      },
      "source": [
        "All is left is to define the inputs, outputs and configure the learning process. We have set our model to optimize our loss function using Adam optimizer, define the loss function to be \"binary_crossentropy\" since we are tackling a binary classification.And learning rateby his default value  set at 0.001."
      ]
    },
    {
      "cell_type": "code",
      "execution_count": null,
      "metadata": {
        "execution": {
          "iopub.execute_input": "2022-04-30T10:06:05.010192Z",
          "iopub.status.busy": "2022-04-30T10:06:05.009653Z",
          "iopub.status.idle": "2022-04-30T10:06:05.034567Z",
          "shell.execute_reply": "2022-04-30T10:06:05.033449Z",
          "shell.execute_reply.started": "2022-04-30T10:06:05.010152Z"
        },
        "trusted": true,
        "id": "ZkX9CanLQX-i"
      },
      "outputs": [],
      "source": [
        "model = Model(inputs=inp, outputs=x)\n",
        "model.compile(loss='binary_crossentropy',\n",
        "                  optimizer='adam',\n",
        "                  metrics=['accuracy'])"
      ]
    },
    {
      "cell_type": "markdown",
      "metadata": {
        "id": "TUhe53dqQX-i"
      },
      "source": [
        " lists out all your layer outputs"
      ]
    },
    {
      "cell_type": "code",
      "execution_count": null,
      "metadata": {
        "id": "kMXNd1xKQX-i",
        "outputId": "103b19ac-9318-46f0-91f5-a7221e5519af"
      },
      "outputs": [
        {
          "name": "stdout",
          "output_type": "stream",
          "text": [
            "Model: \"model_1\"\n",
            "_________________________________________________________________\n",
            " Layer (type)                Output Shape              Param #   \n",
            "=================================================================\n",
            " input_2 (InputLayer)        [(None, 200)]             0         \n",
            "                                                                 \n",
            " embedding_1 (Embedding)     (None, 200, 128)          2560000   \n",
            "                                                                 \n",
            " lstm_layer (LSTM)           (None, 200, 60)           45360     \n",
            "                                                                 \n",
            " global_max_pooling1d_1 (Glo  (None, 60)               0         \n",
            " balMaxPooling1D)                                                \n",
            "                                                                 \n",
            " dropout_2 (Dropout)         (None, 60)                0         \n",
            "                                                                 \n",
            " dense_2 (Dense)             (None, 50)                3050      \n",
            "                                                                 \n",
            " dropout_3 (Dropout)         (None, 50)                0         \n",
            "                                                                 \n",
            " dense_3 (Dense)             (None, 6)                 306       \n",
            "                                                                 \n",
            "=================================================================\n",
            "Total params: 2,608,716\n",
            "Trainable params: 2,608,716\n",
            "Non-trainable params: 0\n",
            "_________________________________________________________________\n"
          ]
        }
      ],
      "source": [
        "model.summary()"
      ]
    },
    {
      "cell_type": "markdown",
      "metadata": {
        "id": "4sY0K0DeQX-i"
      },
      "source": [
        "It's finally time to put our model to the test. We'll feed in a list of 32 padded, indexed sentence for each batch and split 10% of the data as a validation set. This validation set will be used to assess whether the model has overfitted, for each batch. The model will also run for 2 epochs ( in other word it will run through the whole training set 2 times )."
      ]
    },
    {
      "cell_type": "code",
      "execution_count": null,
      "metadata": {
        "execution": {
          "iopub.execute_input": "2022-04-30T10:06:05.036413Z",
          "iopub.status.busy": "2022-04-30T10:06:05.036084Z"
        },
        "trusted": true,
        "id": "syareN0DQX-i",
        "outputId": "d6bce432-99b3-4999-ade6-2cbe74a61c3a"
      },
      "outputs": [
        {
          "name": "stdout",
          "output_type": "stream",
          "text": [
            "Epoch 1/5\n",
            "4488/4488 [==============================] - 626s 138ms/step - loss: 0.0696 - accuracy: 0.9405 - val_loss: 0.0497 - val_accuracy: 0.9939\n",
            "Epoch 2/5\n",
            "4488/4488 [==============================] - 586s 131ms/step - loss: 0.0441 - accuracy: 0.9863 - val_loss: 0.0475 - val_accuracy: 0.9932\n",
            "Epoch 3/5\n",
            "4488/4488 [==============================] - 651s 145ms/step - loss: 0.0383 - accuracy: 0.9727 - val_loss: 0.0480 - val_accuracy: 0.9930\n",
            "Epoch 4/5\n",
            "4488/4488 [==============================] - 646s 144ms/step - loss: 0.0338 - accuracy: 0.9713 - val_loss: 0.0487 - val_accuracy: 0.9926\n",
            "Epoch 5/5\n",
            "4488/4488 [==============================] - 628s 140ms/step - loss: 0.0295 - accuracy: 0.9056 - val_loss: 0.0517 - val_accuracy: 0.9930\n"
          ]
        },
        {
          "data": {
            "text/plain": [
              "<keras.callbacks.History at 0x1e296d37640>"
            ]
          },
          "execution_count": 140,
          "metadata": {},
          "output_type": "execute_result"
        }
      ],
      "source": [
        "batch_size = 32\n",
        "epochs = 5\n",
        "model.fit(X_t,y, batch_size=batch_size, epochs=epochs, validation_split=0.1)"
      ]
    },
    {
      "cell_type": "markdown",
      "metadata": {
        "id": "uHL6VkCFQX-i"
      },
      "source": [
        "Checking the model"
      ]
    },
    {
      "cell_type": "code",
      "execution_count": null,
      "metadata": {
        "id": "umXf2xTAQX-i",
        "outputId": "d9a340f4-ffdc-4f49-bb34-1d60b8dc2e37"
      },
      "outputs": [
        {
          "name": "stdout",
          "output_type": "stream",
          "text": [
            "[[9.9200773e-01 1.3491881e-01 9.7885823e-01 3.7667155e-04 3.8686493e-01\n",
            "  4.6965778e-03]]\n"
          ]
        }
      ],
      "source": [
        "comment1='what the fuck'\n",
        "tokenize_comment = tokenizer.texts_to_sequences([comment1])\n",
        "final_comment = pad_sequences(tokenize_comment, maxlen=maxlen)\n",
        "\n",
        "result = model.predict(final_comment)\n",
        "print(result)"
      ]
    },
    {
      "cell_type": "markdown",
      "metadata": {
        "id": "U9nREvLnQX-i"
      },
      "source": [
        "Predicting with our model"
      ]
    },
    {
      "cell_type": "code",
      "execution_count": null,
      "metadata": {
        "trusted": true,
        "id": "lASQYqdKQX-i",
        "outputId": "dbb16004-9be6-4663-c4dc-58f034db3264"
      },
      "outputs": [
        {
          "data": {
            "text/html": [
              "<div>\n",
              "<style scoped>\n",
              "    .dataframe tbody tr th:only-of-type {\n",
              "        vertical-align: middle;\n",
              "    }\n",
              "\n",
              "    .dataframe tbody tr th {\n",
              "        vertical-align: top;\n",
              "    }\n",
              "\n",
              "    .dataframe thead th {\n",
              "        text-align: right;\n",
              "    }\n",
              "</style>\n",
              "<table border=\"1\" class=\"dataframe\">\n",
              "  <thead>\n",
              "    <tr style=\"text-align: right;\">\n",
              "      <th></th>\n",
              "      <th>id</th>\n",
              "      <th>toxic</th>\n",
              "      <th>severe_toxic</th>\n",
              "      <th>obscene</th>\n",
              "      <th>threat</th>\n",
              "      <th>insult</th>\n",
              "      <th>identity_hate</th>\n",
              "    </tr>\n",
              "  </thead>\n",
              "  <tbody>\n",
              "    <tr>\n",
              "      <th>0</th>\n",
              "      <td>00001cee341fdb12</td>\n",
              "      <td>0.5</td>\n",
              "      <td>0.5</td>\n",
              "      <td>0.5</td>\n",
              "      <td>0.5</td>\n",
              "      <td>0.5</td>\n",
              "      <td>0.5</td>\n",
              "    </tr>\n",
              "    <tr>\n",
              "      <th>1</th>\n",
              "      <td>0000247867823ef7</td>\n",
              "      <td>0.5</td>\n",
              "      <td>0.5</td>\n",
              "      <td>0.5</td>\n",
              "      <td>0.5</td>\n",
              "      <td>0.5</td>\n",
              "      <td>0.5</td>\n",
              "    </tr>\n",
              "    <tr>\n",
              "      <th>2</th>\n",
              "      <td>00013b17ad220c46</td>\n",
              "      <td>0.5</td>\n",
              "      <td>0.5</td>\n",
              "      <td>0.5</td>\n",
              "      <td>0.5</td>\n",
              "      <td>0.5</td>\n",
              "      <td>0.5</td>\n",
              "    </tr>\n",
              "    <tr>\n",
              "      <th>3</th>\n",
              "      <td>00017563c3f7919a</td>\n",
              "      <td>0.5</td>\n",
              "      <td>0.5</td>\n",
              "      <td>0.5</td>\n",
              "      <td>0.5</td>\n",
              "      <td>0.5</td>\n",
              "      <td>0.5</td>\n",
              "    </tr>\n",
              "    <tr>\n",
              "      <th>4</th>\n",
              "      <td>00017695ad8997eb</td>\n",
              "      <td>0.5</td>\n",
              "      <td>0.5</td>\n",
              "      <td>0.5</td>\n",
              "      <td>0.5</td>\n",
              "      <td>0.5</td>\n",
              "      <td>0.5</td>\n",
              "    </tr>\n",
              "  </tbody>\n",
              "</table>\n",
              "</div>"
            ],
            "text/plain": [
              "                 id  toxic  severe_toxic  obscene  threat  insult  \\\n",
              "0  00001cee341fdb12    0.5           0.5      0.5     0.5     0.5   \n",
              "1  0000247867823ef7    0.5           0.5      0.5     0.5     0.5   \n",
              "2  00013b17ad220c46    0.5           0.5      0.5     0.5     0.5   \n",
              "3  00017563c3f7919a    0.5           0.5      0.5     0.5     0.5   \n",
              "4  00017695ad8997eb    0.5           0.5      0.5     0.5     0.5   \n",
              "\n",
              "   identity_hate  \n",
              "0            0.5  \n",
              "1            0.5  \n",
              "2            0.5  \n",
              "3            0.5  \n",
              "4            0.5  "
            ]
          },
          "execution_count": 144,
          "metadata": {},
          "output_type": "execute_result"
        }
      ],
      "source": [
        "sub=pd.read_csv('Dataset/sample_submission.csv')\n",
        "sub.head()"
      ]
    },
    {
      "cell_type": "code",
      "execution_count": null,
      "metadata": {
        "trusted": true,
        "id": "MX1dSFzeQX-i"
      },
      "outputs": [],
      "source": [
        "from sklearn.metrics import roc_curve, roc_auc_score\n",
        "preds = model.predict(X_te, batch_size=1024)\n",
        "sub[list_classes] = preds"
      ]
    },
    {
      "cell_type": "code",
      "execution_count": null,
      "metadata": {
        "trusted": true,
        "id": "6D1vmeEIQX-i",
        "outputId": "12621f60-e073-4b4a-e84f-3c3ed11643e8"
      },
      "outputs": [
        {
          "data": {
            "text/html": [
              "<div>\n",
              "<style scoped>\n",
              "    .dataframe tbody tr th:only-of-type {\n",
              "        vertical-align: middle;\n",
              "    }\n",
              "\n",
              "    .dataframe tbody tr th {\n",
              "        vertical-align: top;\n",
              "    }\n",
              "\n",
              "    .dataframe thead th {\n",
              "        text-align: right;\n",
              "    }\n",
              "</style>\n",
              "<table border=\"1\" class=\"dataframe\">\n",
              "  <thead>\n",
              "    <tr style=\"text-align: right;\">\n",
              "      <th></th>\n",
              "      <th>id</th>\n",
              "      <th>toxic</th>\n",
              "      <th>severe_toxic</th>\n",
              "      <th>obscene</th>\n",
              "      <th>threat</th>\n",
              "      <th>insult</th>\n",
              "      <th>identity_hate</th>\n",
              "    </tr>\n",
              "  </thead>\n",
              "  <tbody>\n",
              "    <tr>\n",
              "      <th>0</th>\n",
              "      <td>00001cee341fdb12</td>\n",
              "      <td>0.998387</td>\n",
              "      <td>2.842159e-01</td>\n",
              "      <td>9.794293e-01</td>\n",
              "      <td>9.879449e-02</td>\n",
              "      <td>9.505817e-01</td>\n",
              "      <td>3.178706e-01</td>\n",
              "    </tr>\n",
              "    <tr>\n",
              "      <th>1</th>\n",
              "      <td>0000247867823ef7</td>\n",
              "      <td>0.000010</td>\n",
              "      <td>5.019755e-10</td>\n",
              "      <td>3.584091e-07</td>\n",
              "      <td>1.677146e-08</td>\n",
              "      <td>3.156398e-07</td>\n",
              "      <td>1.421973e-07</td>\n",
              "    </tr>\n",
              "    <tr>\n",
              "      <th>2</th>\n",
              "      <td>00013b17ad220c46</td>\n",
              "      <td>0.000075</td>\n",
              "      <td>1.971975e-07</td>\n",
              "      <td>1.167660e-05</td>\n",
              "      <td>1.261492e-06</td>\n",
              "      <td>1.110833e-05</td>\n",
              "      <td>8.022992e-06</td>\n",
              "    </tr>\n",
              "    <tr>\n",
              "      <th>3</th>\n",
              "      <td>00017563c3f7919a</td>\n",
              "      <td>0.003263</td>\n",
              "      <td>8.235146e-07</td>\n",
              "      <td>2.366602e-04</td>\n",
              "      <td>8.538566e-06</td>\n",
              "      <td>2.180934e-04</td>\n",
              "      <td>1.736500e-05</td>\n",
              "    </tr>\n",
              "    <tr>\n",
              "      <th>4</th>\n",
              "      <td>00017695ad8997eb</td>\n",
              "      <td>0.000063</td>\n",
              "      <td>5.996201e-08</td>\n",
              "      <td>4.356068e-06</td>\n",
              "      <td>1.353179e-06</td>\n",
              "      <td>4.008251e-06</td>\n",
              "      <td>8.678208e-06</td>\n",
              "    </tr>\n",
              "  </tbody>\n",
              "</table>\n",
              "</div>"
            ],
            "text/plain": [
              "                 id     toxic  severe_toxic       obscene        threat  \\\n",
              "0  00001cee341fdb12  0.998387  2.842159e-01  9.794293e-01  9.879449e-02   \n",
              "1  0000247867823ef7  0.000010  5.019755e-10  3.584091e-07  1.677146e-08   \n",
              "2  00013b17ad220c46  0.000075  1.971975e-07  1.167660e-05  1.261492e-06   \n",
              "3  00017563c3f7919a  0.003263  8.235146e-07  2.366602e-04  8.538566e-06   \n",
              "4  00017695ad8997eb  0.000063  5.996201e-08  4.356068e-06  1.353179e-06   \n",
              "\n",
              "         insult  identity_hate  \n",
              "0  9.505817e-01   3.178706e-01  \n",
              "1  3.156398e-07   1.421973e-07  \n",
              "2  1.110833e-05   8.022992e-06  \n",
              "3  2.180934e-04   1.736500e-05  \n",
              "4  4.008251e-06   8.678208e-06  "
            ]
          },
          "execution_count": 146,
          "metadata": {},
          "output_type": "execute_result"
        }
      ],
      "source": [
        "sub.head()"
      ]
    },
    {
      "cell_type": "code",
      "execution_count": null,
      "metadata": {
        "trusted": true,
        "id": "Uo0g4USWQX-j"
      },
      "outputs": [],
      "source": [
        "sub.to_csv('dl_approach_submission.csv',index=False)"
      ]
    },
    {
      "cell_type": "markdown",
      "metadata": {
        "id": "XPFSoTMkQX-j"
      },
      "source": [
        "### Pickling the tokenizer and LSTM model for flask application"
      ]
    },
    {
      "cell_type": "code",
      "execution_count": null,
      "metadata": {
        "id": "wqq9VXRgQX-j"
      },
      "outputs": [],
      "source": [
        "import pickle"
      ]
    },
    {
      "cell_type": "code",
      "execution_count": null,
      "metadata": {
        "id": "Drq7BvaWQX-j"
      },
      "outputs": [],
      "source": [
        "with open(r\"{}.pkl\".format('tokenizer'), \"wb\") as f:\n",
        "        pickle.dump(tokenizer, f)"
      ]
    },
    {
      "cell_type": "code",
      "execution_count": null,
      "metadata": {
        "id": "ui9ufkVCQX-j"
      },
      "outputs": [],
      "source": [
        "# using keras save method to save all the weights learn by the model in a h5 format\n",
        "model.save('lstm_model'+'.h5')"
      ]
    },
    {
      "cell_type": "code",
      "execution_count": null,
      "metadata": {
        "id": "4O9G_8sxQX-j"
      },
      "outputs": [],
      "source": []
    }
  ],
  "metadata": {
    "kernelspec": {
      "display_name": "Python 3",
      "language": "python",
      "name": "python3"
    },
    "language_info": {
      "codemirror_mode": {
        "name": "ipython",
        "version": 3
      },
      "file_extension": ".py",
      "mimetype": "text/x-python",
      "name": "python",
      "nbconvert_exporter": "python",
      "pygments_lexer": "ipython3",
      "version": "3.8.6"
    },
    "colab": {
      "provenance": []
    }
  },
  "nbformat": 4,
  "nbformat_minor": 0
}
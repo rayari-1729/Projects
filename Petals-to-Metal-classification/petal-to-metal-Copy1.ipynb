{
 "cells": [
  {
   "cell_type": "code",
   "execution_count": null,
   "metadata": {
    "_cell_guid": "b1076dfc-b9ad-4769-8c92-a6c4dae69d19",
    "_uuid": "8f2839f25d086af736a60e9eeb907d3b93b6e0e5",
    "execution": {
     "iopub.execute_input": "2023-11-11T17:23:12.162452Z",
     "iopub.status.busy": "2023-11-11T17:23:12.162062Z",
     "iopub.status.idle": "2023-11-11T17:23:12.716978Z",
     "shell.execute_reply": "2023-11-11T17:23:12.716070Z",
     "shell.execute_reply.started": "2023-11-11T17:23:12.162423Z"
    }
   },
   "outputs": [],
   "source": [
    "# This Python 3 environment comes with many helpful analytics libraries installed\n",
    "# It is defined by the kaggle/python Docker image: https://github.com/kaggle/docker-python\n",
    "# For example, here's several helpful packages to load\n",
    "\n",
    "import numpy as np # linear algebra\n",
    "import pandas as pd # data processing, CSV file I/O (e.g. pd.read_csv)\n",
    "\n",
    "# Input data files are available in the read-only \"../input/\" directory\n",
    "# For example, running this (by clicking run or pressing Shift+Enter) will list all files under the input directory\n",
    "\n",
    "import os\n",
    "for dirname, _, filenames in os.walk('/kaggle/input'):\n",
    "    for filename in filenames:\n",
    "        print(os.path.join(dirname, filename))\n",
    "\n",
    "# You can write up to 20GB to the current directory (/kaggle/working/) that gets preserved as output when you create a version using \"Save & Run All\" \n",
    "# You can also write temporary files to /kaggle/temp/, but they won't be saved outside of the current session"
   ]
  },
  {
   "cell_type": "markdown",
   "metadata": {},
   "source": [
    "## Imports "
   ]
  },
  {
   "cell_type": "code",
   "execution_count": null,
   "metadata": {
    "execution": {
     "iopub.execute_input": "2023-11-11T17:23:12.718903Z",
     "iopub.status.busy": "2023-11-11T17:23:12.718508Z",
     "iopub.status.idle": "2023-11-11T17:23:26.087190Z",
     "shell.execute_reply": "2023-11-11T17:23:26.086209Z",
     "shell.execute_reply.started": "2023-11-11T17:23:12.718878Z"
    }
   },
   "outputs": [],
   "source": [
    "# These are some basic packages\n",
    "import random, re, math, os\n",
    "import numpy as np\n",
    "import pandas as pd\n",
    "import tensorflow as tf\n",
    "import matplotlib.pyplot as plt\n",
    "\n",
    "\n",
    "# These are for data processing\n",
    "import tensorflow_addons as tfa\n",
    "from kaggle_datasets import KaggleDatasets\n",
    "\n",
    "\n",
    "# These are for model training\n",
    "# from tensorflow.keras.mixed_precision import experimental as mixed_precision\n",
    "from tensorflow.keras.applications import DenseNet201\n",
    "from tensorflow.keras.layers import Input, Conv2D,MaxPooling2D, Flatten, Dense, Dropout, BatchNormalization,GlobalAveragePooling2D,  Activation, concatenate, Add\n",
    "from tensorflow.keras.models import Model\n",
    "import tensorflow.keras.backend as K\n",
    " \n",
    "\n",
    "# These are for class weights\n",
    "import datetime\n",
    "import tqdm\n",
    "import json\n",
    "from collections import Counter\n",
    "import gc\n",
    "# These are performance metrics\n",
    "from sklearn.metrics import f1_score, precision_score, recall_score, confusion_matrix\n",
    "\n",
    "\n",
    "print(\"Tensorflow version \" + tf.__version__)"
   ]
  },
  {
   "cell_type": "markdown",
   "metadata": {},
   "source": [
    "# Load the Dataset"
   ]
  },
  {
   "cell_type": "code",
   "execution_count": null,
   "metadata": {
    "execution": {
     "iopub.execute_input": "2023-11-11T17:23:26.090351Z",
     "iopub.status.busy": "2023-11-11T17:23:26.089332Z",
     "iopub.status.idle": "2023-11-11T17:23:30.069330Z",
     "shell.execute_reply": "2023-11-11T17:23:30.068398Z",
     "shell.execute_reply.started": "2023-11-11T17:23:26.090312Z"
    }
   },
   "outputs": [],
   "source": [
    "\n",
    "# Check if GPUs are available\n",
    "gpus = tf.config.experimental.list_physical_devices('GPU')\n",
    "\n",
    "if gpus:\n",
    "    try:\n",
    "        # Set GPU memory growth to True to allocate GPU memory dynamically\n",
    "        for gpu in gpus:\n",
    "            tf.config.experimental.set_memory_growth(gpu, True)\n",
    "        strategy = tf.distribute.MirroredStrategy()  # Use MirroredStrategy for multi-GPU training\n",
    "        print(\"Running on \", len(gpus), \" GPU(s)\")\n",
    "    except RuntimeError as e:\n",
    "        print(e)\n",
    "        strategy = tf.distribute.get_strategy()  # Default strategy if GPUs are not available\n",
    "else:\n",
    "    strategy = tf.distribute.get_strategy()  # Default strategy if GPUs are not available\n",
    "\n",
    "print(\"REPLICAS: \", strategy.num_replicas_in_sync)\n"
   ]
  },
  {
   "cell_type": "markdown",
   "metadata": {},
   "source": [
    "# Configuration "
   ]
  },
  {
   "cell_type": "code",
   "execution_count": null,
   "metadata": {
    "execution": {
     "iopub.execute_input": "2023-11-11T17:23:30.070857Z",
     "iopub.status.busy": "2023-11-11T17:23:30.070519Z",
     "iopub.status.idle": "2023-11-11T17:23:30.076159Z",
     "shell.execute_reply": "2023-11-11T17:23:30.075140Z",
     "shell.execute_reply.started": "2023-11-11T17:23:30.070830Z"
    }
   },
   "outputs": [],
   "source": [
    "IMAGE_SIZE = [224, 224]\n",
    "EPOCHS = 10\n",
    "SEED = 100\n",
    "BATCH_SIZE = 64\n",
    "AUTO = tf.data.experimental.AUTOTUNE"
   ]
  },
  {
   "cell_type": "code",
   "execution_count": null,
   "metadata": {
    "execution": {
     "iopub.execute_input": "2023-11-11T17:23:30.079053Z",
     "iopub.status.busy": "2023-11-11T17:23:30.078723Z",
     "iopub.status.idle": "2023-11-11T17:23:30.886757Z",
     "shell.execute_reply": "2023-11-11T17:23:30.885758Z",
     "shell.execute_reply.started": "2023-11-11T17:23:30.079021Z"
    }
   },
   "outputs": [],
   "source": [
    "GCS_DS_PATH = KaggleDatasets().get_gcs_path('tpu-getting-started')\n",
    "GCS_PATH = GCS_DS_PATH + '/tfrecords-jpeg-224x224'\n",
    "\n",
    "TRAINING_FILENAMES = tf.io.gfile.glob(GCS_PATH + '/train/*.tfrec')\n",
    "VALIDATION_FILENAMES = tf.io.gfile.glob(GCS_PATH + '/val/*.tfrec')\n",
    "TEST_FILENAMES = tf.io.gfile.glob(GCS_PATH + '/test/*.tfrec')"
   ]
  },
  {
   "cell_type": "markdown",
   "metadata": {},
   "source": [
    "# Dataset"
   ]
  },
  {
   "cell_type": "markdown",
   "metadata": {},
   "source": [
    "# Add more mixed precision and/or XLA (refer to Chris Deotte's notebook) [Rotation Augmentation GPU/TPU - [0.96+]](https://www.kaggle.com/code/cdeotte/rotation-augmentation-gpu-tpu-0-96/notebook) "
   ]
  },
  {
   "cell_type": "code",
   "execution_count": null,
   "metadata": {
    "execution": {
     "iopub.execute_input": "2023-11-11T17:23:30.889365Z",
     "iopub.status.busy": "2023-11-11T17:23:30.888627Z",
     "iopub.status.idle": "2023-11-11T17:23:30.895402Z",
     "shell.execute_reply": "2023-11-11T17:23:30.894403Z",
     "shell.execute_reply.started": "2023-11-11T17:23:30.889331Z"
    }
   },
   "outputs": [],
   "source": [
    "# and can speed up the training process\n",
    "MIXED_PRECISION = False\n",
    "XLA_ACCELERATE = False\n",
    "\n",
    "if MIXED_PRECISION:\n",
    "    if tpu: policy = tf.keras.mixed_precision.experimental.Policy('mixed_bfloat16')\n",
    "    else: policy = tf.keras.mixed_precision.experimental.Policy('mixed_float16')\n",
    "    mixed_precision.set_policy(policy)\n",
    "    print('Mixed precision enabled')\n",
    "\n",
    "if XLA_ACCELERATE:\n",
    "    tf.config.optimizer.set_jit(True)\n",
    "    print('Accelerated Linear Algebra enabled')\n",
    "    "
   ]
  },
  {
   "cell_type": "markdown",
   "metadata": {},
   "source": [
    "# All 104 classes "
   ]
  },
  {
   "cell_type": "code",
   "execution_count": null,
   "metadata": {
    "_kg_hide-input": true,
    "execution": {
     "iopub.execute_input": "2023-11-11T17:23:30.897030Z",
     "iopub.status.busy": "2023-11-11T17:23:30.896766Z",
     "iopub.status.idle": "2023-11-11T17:23:30.908056Z",
     "shell.execute_reply": "2023-11-11T17:23:30.907234Z",
     "shell.execute_reply.started": "2023-11-11T17:23:30.897008Z"
    }
   },
   "outputs": [],
   "source": [
    "CLASSES = ['pink primrose',    'hard-leaved pocket orchid', 'canterbury bells', 'sweet pea',     'wild geranium',     'tiger lily',           'moon orchid',              'bird of paradise', 'monkshood',        'globe thistle',         # 00 - 09\n",
    "           'snapdragon',       \"colt's foot\",               'king protea',      'spear thistle', 'yellow iris',       'globe-flower',         'purple coneflower',        'peruvian lily',    'balloon flower',   'giant white arum lily', # 10 - 19\n",
    "           'fire lily',        'pincushion flower',         'fritillary',       'red ginger',    'grape hyacinth',    'corn poppy',           'prince of wales feathers', 'stemless gentian', 'artichoke',        'sweet william',         # 20 - 29\n",
    "           'carnation',        'garden phlox',              'love in the mist', 'cosmos',        'alpine sea holly',  'ruby-lipped cattleya', 'cape flower',              'great masterwort', 'siam tulip',       'lenten rose',           # 30 - 39\n",
    "           'barberton daisy',  'daffodil',                  'sword lily',       'poinsettia',    'bolero deep blue',  'wallflower',           'marigold',                 'buttercup',        'daisy',            'common dandelion',      # 40 - 49\n",
    "           'petunia',          'wild pansy',                'primula',          'sunflower',     'lilac hibiscus',    'bishop of llandaff',   'gaura',                    'geranium',         'orange dahlia',    'pink-yellow dahlia',    # 50 - 59\n",
    "           'cautleya spicata', 'japanese anemone',          'black-eyed susan', 'silverbush',    'californian poppy', 'osteospermum',         'spring crocus',            'iris',             'windflower',       'tree poppy',            # 60 - 69\n",
    "           'gazania',          'azalea',                    'water lily',       'rose',          'thorn apple',       'morning glory',        'passion flower',           'lotus',            'toad lily',        'anthurium',             # 70 - 79\n",
    "           'frangipani',       'clematis',                  'hibiscus',         'columbine',     'desert-rose',       'tree mallow',          'magnolia',                 'cyclamen ',        'watercress',       'canna lily',            # 80 - 89\n",
    "           'hippeastrum ',     'bee balm',                  'pink quill',       'foxglove',      'bougainvillea',     'camellia',             'mallow',                   'mexican petunia',  'bromelia',         'blanket flower',        # 90 - 99\n",
    "           'trumpet creeper',  'blackberry lily',           'common tulip',     'wild rose'] # 100 - 103"
   ]
  },
  {
   "cell_type": "markdown",
   "metadata": {},
   "source": [
    "# Visualization"
   ]
  },
  {
   "cell_type": "markdown",
   "metadata": {},
   "source": [
    "# Showing the beautiful flowers . referance : Flower with TPUs - [Advanced augmentations](https://www.kaggle.com/dimitreoliveira/flower-with-tpus-advanced-augmentations)"
   ]
  },
  {
   "cell_type": "code",
   "execution_count": null,
   "metadata": {
    "execution": {
     "iopub.execute_input": "2023-11-11T17:23:30.909556Z",
     "iopub.status.busy": "2023-11-11T17:23:30.909291Z",
     "iopub.status.idle": "2023-11-11T17:23:30.931119Z",
     "shell.execute_reply": "2023-11-11T17:23:30.930370Z",
     "shell.execute_reply.started": "2023-11-11T17:23:30.909534Z"
    }
   },
   "outputs": [],
   "source": [
    "def batch_to_numpy_images_and_labels(data):\n",
    "    images, labels = data\n",
    "    numpy_images = images.numpy()\n",
    "    numpy_labels = labels.numpy()\n",
    "    if numpy_labels.dtype == object:\n",
    "        numpy_labels = [None for _ in enumerate(numpy_images)]\n",
    "    # If no labels, only image IDs, return None for labels (for test data)\n",
    "    return numpy_images, numpy_labels\n",
    "\n",
    "def title_from_label_and_target_(label, correct_label):\n",
    "    if correct_label is None:\n",
    "        return CLASSES[label], True\n",
    "    correct = (label == correct_label)\n",
    "    return \"{} [{}{}{}]\".format(CLASSES[label], 'OK' if correct else 'NO', u\"\\u2192\" if not correct else '',\n",
    "                                CLASSES[correct_label] if not correct else ''), correct\n",
    "\n",
    "def display_one_flower(image, title, subplot, red = False, titlesize = 16):\n",
    "    plt.subplot(*subplot)\n",
    "    plt.axis('off')\n",
    "    plt.imshow(image)\n",
    "    if len(title) > 0:\n",
    "        plt.title(title, fontsize = int(titlesize) if not red else int(titlesize / 1.2), color = 'red' if red else 'black', fontdict={'verticalalignment':'center'}, pad=int(titlesize/1.5))\n",
    "    return (subplot[0], subplot[1], subplot[2] + 1)\n",
    "\n",
    "def display_batch_of_images(databatch, predictions = None):\n",
    "    images, labels = batch_to_numpy_images_and_labels(databatch)\n",
    "    if labels is None:\n",
    "        labels = [None for _ in enumerate(images)]\n",
    "    rows = int(math.sqrt(len(images)))\n",
    "    cols = len(images) // rows\n",
    "    FIGSIZE = 13.0\n",
    "    SPACING = 0.1\n",
    "    subplot = (rows,cols,1)\n",
    "    if rows < cols:\n",
    "        plt.figure(figsize = (FIGSIZE, FIGSIZE / cols*rows))\n",
    "    else:\n",
    "        plt.figure(figsize = (FIGSIZE / rows * cols,FIGSIZE))\n",
    "        \n",
    "    # Display\n",
    "    for i, (image, label) in enumerate(zip(images[:rows*cols], labels[:rows*cols])):\n",
    "        title = '' if label is None else CLASSES[label]\n",
    "        correct = True\n",
    "        if predictions is not None:\n",
    "            title, correct = title_from_label_and_target_(predictions[i], label)\n",
    "        dynamic_titlesize = FIGSIZE * SPACING / max(rows,cols) * 40 + 3\n",
    "        subplot = display_one_flower(image, title, subplot, not correct, titlesize = dynamic_titlesize)\n",
    "    \n",
    "    # Layout\n",
    "    plt.tight_layout()\n",
    "    if label is None and predictions is None:\n",
    "        plt.subplots_adjust(wspace = 0, hspace = 0)\n",
    "    else:\n",
    "        plt.subplots_adjust(wspace = SPACING, hspace = SPACING)\n",
    "    plt.show()\n",
    "    \n",
    "# Visualize model predictions (on training and validation sets)\n",
    "def dataset_to_numpy_util(dataset, N):\n",
    "    dataset = dataset.unbatch().batch(N)\n",
    "    for images, labels in dataset:\n",
    "        numpy_images = images.numpy()\n",
    "        numpy_labels = labels.numpy()\n",
    "        break;  \n",
    "    return numpy_images, numpy_labels\n",
    "\n",
    "def title_from_label_and_target(label, correct_label):\n",
    "    label = np.argmax(label, axis = -1)\n",
    "    correct = (label == correct_label)\n",
    "    return \"{} [{}{}{}]\".format(CLASSES[label], str(correct), ', should be ' if not correct else '',\n",
    "                                CLASSES[correct_label] if not correct else ''), correct\n",
    "\n",
    "\n",
    "def display_one_flower_eval(image, title, subplot, red = False):\n",
    "    plt.subplot(subplot)\n",
    "    plt.axis('off')\n",
    "    plt.imshow(image)\n",
    "    plt.title(title, fontsize = 14, color = 'red' if red else 'black')\n",
    "    return subplot + 1\n",
    "def display_9_images_with_predictions(images, predictions, labels):\n",
    "    subplot = 331\n",
    "    plt.figure(figsize = (13,13))\n",
    "    for i, image in enumerate(images):\n",
    "        title, correct = title_from_label_and_target(predictions[i], labels[i])\n",
    "        subplot = display_one_flower_eval(image, title, subplot, not correct)\n",
    "        if i >= 8:\n",
    "            break;\n",
    "    plt.tight_layout()\n",
    "    plt.subplots_adjust(wspace = 0.1, hspace = 0.1)\n",
    "    plt.show()"
   ]
  },
  {
   "cell_type": "markdown",
   "metadata": {},
   "source": [
    "# getting train, validation and test dataset "
   ]
  },
  {
   "cell_type": "markdown",
   "metadata": {},
   "source": [
    "Convert pixels to floata (0,1)"
   ]
  },
  {
   "cell_type": "code",
   "execution_count": null,
   "metadata": {
    "execution": {
     "iopub.execute_input": "2023-11-11T17:23:30.932353Z",
     "iopub.status.busy": "2023-11-11T17:23:30.932081Z",
     "iopub.status.idle": "2023-11-11T17:23:30.946740Z",
     "shell.execute_reply": "2023-11-11T17:23:30.945997Z",
     "shell.execute_reply.started": "2023-11-11T17:23:30.932331Z"
    }
   },
   "outputs": [],
   "source": [
    "def decode_image(image_data):\n",
    "    \n",
    "    image = tf.image.decode_jpeg(image_data, channels = 3)\n",
    "    image = tf.cast(image, tf.float32) / 255.0\n",
    "    # Reshape the images to fit the size required by TPU\n",
    "    image = tf.reshape(image, [*IMAGE_SIZE, 3])\n",
    "    \n",
    "    return image"
   ]
  },
  {
   "cell_type": "code",
   "execution_count": null,
   "metadata": {
    "execution": {
     "iopub.execute_input": "2023-11-11T17:23:30.948147Z",
     "iopub.status.busy": "2023-11-11T17:23:30.947831Z",
     "iopub.status.idle": "2023-11-11T17:23:30.958883Z",
     "shell.execute_reply": "2023-11-11T17:23:30.957990Z",
     "shell.execute_reply.started": "2023-11-11T17:23:30.948118Z"
    }
   },
   "outputs": [],
   "source": [
    "def read_labeled_tfrecord(example):\n",
    "    \n",
    "    LABELED_TFREC_FORMAT = {\n",
    "        \"image\": tf.io.FixedLenFeature([], tf.string),\n",
    "        \"class\": tf.io.FixedLenFeature([], tf.int64),\n",
    "    }\n",
    "    example = tf.io.parse_single_example(example, LABELED_TFREC_FORMAT)\n",
    "    image = decode_image(example['image'])\n",
    "    label = tf.cast(example['class'], tf.int32)\n",
    "    \n",
    "    return image, label\n",
    "\n",
    "# This is for data visualization\n",
    "def read_labeled_id_tfrecord(example):\n",
    "    \n",
    "    LABELED_ID_TFREC_FORMAT = {\n",
    "        \"image\": tf.io.FixedLenFeature([], tf.string),\n",
    "        \"class\": tf.io.FixedLenFeature([], tf.int64),\n",
    "        \"id\": tf.io.FixedLenFeature([], tf.string),\n",
    "    }\n",
    "    example = tf.io.parse_single_example(example, LABELED_ID_TFREC_FORMAT)\n",
    "    image = decode_image(example['image'])\n",
    "    label = tf.cast(example['class'], tf.int32)\n",
    "    idnum =  example['id']\n",
    "    \n",
    "    return image, label, idnum"
   ]
  },
  {
   "cell_type": "markdown",
   "metadata": {},
   "source": [
    "read unlabeled tfrec files (i.e. test set)"
   ]
  },
  {
   "cell_type": "code",
   "execution_count": null,
   "metadata": {
    "execution": {
     "iopub.execute_input": "2023-11-11T17:23:30.962167Z",
     "iopub.status.busy": "2023-11-11T17:23:30.961898Z",
     "iopub.status.idle": "2023-11-11T17:23:30.973303Z",
     "shell.execute_reply": "2023-11-11T17:23:30.972443Z",
     "shell.execute_reply.started": "2023-11-11T17:23:30.962145Z"
    }
   },
   "outputs": [],
   "source": [
    "def read_unlabeled_tfrecord(example):\n",
    "    \n",
    "    UNLABELED_TFREC_FORMAT = {\n",
    "        \"image\": tf.io.FixedLenFeature([], tf.string),\n",
    "        \"id\": tf.io.FixedLenFeature([], tf.string),\n",
    "    }\n",
    "    example = tf.io.parse_single_example(example, UNLABELED_TFREC_FORMAT)\n",
    "    image = decode_image(example['image'])\n",
    "    idnum = example['id']\n",
    "    \n",
    "    return image, idnum"
   ]
  },
  {
   "cell_type": "markdown",
   "metadata": {},
   "source": [
    "# Loading the image data "
   ]
  },
  {
   "cell_type": "code",
   "execution_count": null,
   "metadata": {
    "execution": {
     "iopub.execute_input": "2023-11-11T17:23:30.975051Z",
     "iopub.status.busy": "2023-11-11T17:23:30.974526Z",
     "iopub.status.idle": "2023-11-11T17:23:30.983859Z",
     "shell.execute_reply": "2023-11-11T17:23:30.983165Z",
     "shell.execute_reply.started": "2023-11-11T17:23:30.975004Z"
    }
   },
   "outputs": [],
   "source": [
    "def load_dataset(filenames, labeled = True, ordered = False):\n",
    "    \n",
    "    ignore_order = tf.data.Options()\n",
    "    if not ordered:\n",
    "        ignore_order.experimental_deterministic = False  # Disable order to increase running speed\n",
    "    # Automatically interleaves reading\n",
    "    dataset = tf.data.TFRecordDataset(filenames, num_parallel_reads = AUTO)\n",
    "    # Use data in the shuffled order\n",
    "    dataset = dataset.with_options(ignore_order)\n",
    "    # Returns a dataset of (image, label) pairs if labeled = True (i.e. training & validation set)\n",
    "    # or (image, id) pair if labeld = False (i.e. test set)\n",
    "    dataset = dataset.map(read_labeled_id_tfrecord if labeled else read_unlabeled_tfrecord, num_parallel_calls=AUTO)\n",
    "    \n",
    "    return dataset"
   ]
  },
  {
   "cell_type": "markdown",
   "metadata": {},
   "source": [
    "# Data Augmentation "
   ]
  },
  {
   "cell_type": "code",
   "execution_count": null,
   "metadata": {
    "execution": {
     "iopub.execute_input": "2023-11-11T17:30:27.792388Z",
     "iopub.status.busy": "2023-11-11T17:30:27.791499Z",
     "iopub.status.idle": "2023-11-11T17:30:27.801492Z",
     "shell.execute_reply": "2023-11-11T17:30:27.800662Z",
     "shell.execute_reply.started": "2023-11-11T17:30:27.792353Z"
    }
   },
   "outputs": [],
   "source": [
    "def data_augment(image, label):\n",
    "    # Set seed for data augmentation\n",
    "    seed = 100\n",
    "    # Define wrapper functions for each transformation\n",
    "    def resize_and_crop(image):\n",
    "        resized_image = tf.image.resize(image, [331, 331])\n",
    "        return tf.image.random_crop(resized_image, [224, 224, 3], seed=seed)\n",
    "\n",
    "    def adjust_brightness(image):\n",
    "        return tf.image.random_brightness(image, 0.6, seed=seed)\n",
    "\n",
    "    def adjust_saturation(image):\n",
    "        return tf.image.random_saturation(image, 3, 5, seed=seed)\n",
    "\n",
    "    def adjust_contrast(image):\n",
    "        return tf.image.random_contrast(image, 0.3, 0.5, seed=seed)\n",
    "\n",
    "    def blur_image(image):\n",
    "        return tfa.image.mean_filter2d(image, filter_shape=10)\n",
    "\n",
    "    def flip_image(image):\n",
    "        flipped_image = tf.image.random_flip_left_right(image, seed=seed)\n",
    "        return tf.image.random_flip_up_down(flipped_image, seed=seed)\n",
    "\n",
    "    # Apply transformations\n",
    "    image = resize_and_crop(image)\n",
    "    image = adjust_brightness(image)\n",
    "    image = adjust_saturation(image)\n",
    "    image = adjust_contrast(image)\n",
    "    image = blur_image(image)\n",
    "    image = flip_image(image)\n",
    "\n",
    "    return image, label"
   ]
  },
  {
   "cell_type": "markdown",
   "metadata": {},
   "source": [
    "# get the training set "
   ]
  },
  {
   "cell_type": "code",
   "execution_count": null,
   "metadata": {
    "execution": {
     "iopub.execute_input": "2023-11-11T17:30:33.009864Z",
     "iopub.status.busy": "2023-11-11T17:30:33.008939Z",
     "iopub.status.idle": "2023-11-11T17:30:33.016258Z",
     "shell.execute_reply": "2023-11-11T17:30:33.015302Z",
     "shell.execute_reply.started": "2023-11-11T17:30:33.009831Z"
    }
   },
   "outputs": [],
   "source": [
    "def get_training_dataset():\n",
    "   \n",
    "    train = load_dataset(TRAINING_FILENAMES, labeled = True)\n",
    "    train = train.map(lambda image, label, idnum: [image, label])\n",
    "    train = train.repeat()\n",
    "    train = train.shuffle(2048)\n",
    "    train = train.batch(BATCH_SIZE)\n",
    "    train = train.prefetch(AUTO)\n",
    "    \n",
    "    return train\n",
    "\n",
    "# This function is for data visualization\n",
    "def get_training_dataset_preview(ordered = True):\n",
    "    \n",
    "    train = load_dataset(TRAINING_FILENAMES, labeled = True, ordered = ordered)\n",
    "    train = train.batch(BATCH_SIZE)\n",
    "    train = train.cache()\n",
    "    train = train.prefetch(AUTO)\n",
    "    \n",
    "    return train\n"
   ]
  },
  {
   "cell_type": "markdown",
   "metadata": {},
   "source": [
    "# Get the Validation set "
   ]
  },
  {
   "cell_type": "code",
   "execution_count": null,
   "metadata": {
    "execution": {
     "iopub.execute_input": "2023-11-11T17:30:33.878852Z",
     "iopub.status.busy": "2023-11-11T17:30:33.877997Z",
     "iopub.status.idle": "2023-11-11T17:30:33.884194Z",
     "shell.execute_reply": "2023-11-11T17:30:33.883238Z",
     "shell.execute_reply.started": "2023-11-11T17:30:33.878812Z"
    }
   },
   "outputs": [],
   "source": [
    "def get_validation_dataset(ordered = False):\n",
    "\n",
    "    validation = load_dataset(VALIDATION_FILENAMES, labeled = True, ordered = ordered)\n",
    "    validation = validation.map(lambda image, label, idnum: [image, label])\n",
    "    validation = validation.batch(BATCH_SIZE)\n",
    "    validation = validation.cache()\n",
    "    # Prefetch next batch while training (autotune prefetch buffer size)\n",
    "    validation = validation.prefetch(AUTO)\n",
    "    \n",
    "    return validation"
   ]
  },
  {
   "cell_type": "markdown",
   "metadata": {},
   "source": [
    "# Get the testing set "
   ]
  },
  {
   "cell_type": "code",
   "execution_count": null,
   "metadata": {
    "execution": {
     "iopub.execute_input": "2023-11-11T17:23:31.023632Z",
     "iopub.status.busy": "2023-11-11T17:23:31.023377Z",
     "iopub.status.idle": "2023-11-11T17:23:31.037731Z",
     "shell.execute_reply": "2023-11-11T17:23:31.036859Z",
     "shell.execute_reply.started": "2023-11-11T17:23:31.023610Z"
    }
   },
   "outputs": [],
   "source": [
    "def get_test_dataset(ordered = False):\n",
    "    \n",
    "    test = load_dataset(TEST_FILENAMES, labeled = False, ordered = ordered)\n",
    "    test = test.batch(BATCH_SIZE)\n",
    "    test = test.prefetch(AUTO)\n",
    "    \n",
    "    return test"
   ]
  },
  {
   "cell_type": "markdown",
   "metadata": {},
   "source": [
    "# Total Number of images \n"
   ]
  },
  {
   "cell_type": "code",
   "execution_count": null,
   "metadata": {
    "execution": {
     "iopub.execute_input": "2023-11-11T17:23:31.039089Z",
     "iopub.status.busy": "2023-11-11T17:23:31.038815Z",
     "iopub.status.idle": "2023-11-11T17:23:31.051714Z",
     "shell.execute_reply": "2023-11-11T17:23:31.050931Z",
     "shell.execute_reply.started": "2023-11-11T17:23:31.039067Z"
    }
   },
   "outputs": [],
   "source": [
    "def count_data_items(filenames):\n",
    "    n = [int(re.compile(r\"-([0-9]*)\\.\").search(filename).group(1)) for filename in filenames]\n",
    "    return np.sum(n)\n",
    "\n",
    "\n",
    "NUM_TRAINING_IMAGES = count_data_items(TRAINING_FILENAMES)  # Number of images in training set\n",
    "NUM_VALIDATION_IMAGES = count_data_items(VALIDATION_FILENAMES)  # Number of images in validation set\n",
    "NUM_TEST_IMAGES = count_data_items(TEST_FILENAMES)  # Number of images in test set\n",
    "STEPS_PER_EPOCH = NUM_TRAINING_IMAGES // BATCH_SIZE  # Steps of each epoch\n",
    "print('Dataset: {} training images, {} validation images, {} unlabeled test images'.format(NUM_TRAINING_IMAGES, NUM_VALIDATION_IMAGES, NUM_TEST_IMAGES))"
   ]
  },
  {
   "cell_type": "markdown",
   "metadata": {},
   "source": [
    "Let see some flowers in traning dataset before augmentation."
   ]
  },
  {
   "cell_type": "code",
   "execution_count": null,
   "metadata": {
    "execution": {
     "iopub.execute_input": "2023-11-11T17:23:31.052911Z",
     "iopub.status.busy": "2023-11-11T17:23:31.052630Z",
     "iopub.status.idle": "2023-11-11T17:23:44.940021Z",
     "shell.execute_reply": "2023-11-11T17:23:44.938624Z",
     "shell.execute_reply.started": "2023-11-11T17:23:31.052889Z"
    }
   },
   "outputs": [],
   "source": [
    "train_dataset_aug = get_training_dataset()\n",
    "display_batch_of_images(next(iter(train_dataset_aug.unbatch().batch(10))))\n",
    "display_batch_of_images(next(iter(train_dataset_aug.unbatch().batch(10))))\n",
    "display_batch_of_images(next(iter(train_dataset_aug.unbatch().batch(10))))"
   ]
  },
  {
   "cell_type": "markdown",
   "metadata": {},
   "source": [
    "# Let see flowers in val dataset begore augmentation "
   ]
  },
  {
   "cell_type": "code",
   "execution_count": null,
   "metadata": {
    "execution": {
     "iopub.execute_input": "2023-11-11T17:23:44.942178Z",
     "iopub.status.busy": "2023-11-11T17:23:44.941534Z",
     "iopub.status.idle": "2023-11-11T17:23:53.483188Z",
     "shell.execute_reply": "2023-11-11T17:23:53.482338Z",
     "shell.execute_reply.started": "2023-11-11T17:23:44.942142Z"
    }
   },
   "outputs": [],
   "source": [
    "validation_dataset_aug = get_validation_dataset()\n",
    "display_batch_of_images(next(iter(validation_dataset_aug.unbatch().batch(10))))\n",
    "display_batch_of_images(next(iter(validation_dataset_aug.unbatch().batch(10))))\n",
    "display_batch_of_images(next(iter(validation_dataset_aug.unbatch().batch(10))))"
   ]
  },
  {
   "cell_type": "markdown",
   "metadata": {},
   "source": [
    "# Similarly in test data "
   ]
  },
  {
   "cell_type": "code",
   "execution_count": null,
   "metadata": {
    "execution": {
     "iopub.execute_input": "2023-11-11T17:23:53.484657Z",
     "iopub.status.busy": "2023-11-11T17:23:53.484358Z",
     "iopub.status.idle": "2023-11-11T17:24:01.144564Z",
     "shell.execute_reply": "2023-11-11T17:24:01.143341Z",
     "shell.execute_reply.started": "2023-11-11T17:23:53.484631Z"
    }
   },
   "outputs": [],
   "source": [
    "    test_dataset_aug = get_test_dataset()\n",
    "display_batch_of_images(next(iter(test_dataset_aug.unbatch().batch(10))))\n",
    "display_batch_of_images(next(iter(test_dataset_aug.unbatch().batch(10))))\n",
    "display_batch_of_images(next(iter(test_dataset_aug.unbatch().batch(10))))"
   ]
  },
  {
   "cell_type": "markdown",
   "metadata": {},
   "source": [
    "# Let see example of augmentation "
   ]
  },
  {
   "cell_type": "code",
   "execution_count": null,
   "metadata": {
    "execution": {
     "iopub.execute_input": "2023-11-11T17:33:06.304519Z",
     "iopub.status.busy": "2023-11-11T17:33:06.303652Z",
     "iopub.status.idle": "2023-11-11T17:33:10.002347Z",
     "shell.execute_reply": "2023-11-11T17:33:10.001374Z",
     "shell.execute_reply.started": "2023-11-11T17:33:06.304484Z"
    }
   },
   "outputs": [],
   "source": [
    "row = 2\n",
    "col = 4\n",
    "all_elements = get_training_dataset().unbatch()\n",
    "one_element = tf.data.Dataset.from_tensors(next(iter(all_elements)))\n",
    "# Map the images to the data augmentation function for image processing\n",
    "augmented_element = one_element.repeat().map(data_augment).batch(row * col)\n",
    "\n",
    "for (img, label) in augmented_element:\n",
    "    plt.figure(figsize = (15, int(15 * row / col)))\n",
    "    for j in range(row * col):\n",
    "        plt.subplot(row, col, j + 1)\n",
    "        plt.axis('off')\n",
    "        plt.imshow(img[j, ])\n",
    "    plt.show()\n",
    "    break"
   ]
  },
  {
   "cell_type": "markdown",
   "metadata": {},
   "source": [
    "# Model Building "
   ]
  },
  {
   "cell_type": "markdown",
   "metadata": {},
   "source": [
    "Customize the learning rate "
   ]
  },
  {
   "cell_type": "code",
   "execution_count": null,
   "metadata": {
    "execution": {
     "iopub.execute_input": "2023-11-11T17:33:10.240172Z",
     "iopub.status.busy": "2023-11-11T17:33:10.239840Z",
     "iopub.status.idle": "2023-11-11T17:33:10.247045Z",
     "shell.execute_reply": "2023-11-11T17:33:10.246064Z",
     "shell.execute_reply.started": "2023-11-11T17:33:10.240146Z"
    }
   },
   "outputs": [],
   "source": [
    "def lrfn(epoch):\n",
    "    \n",
    "    LR_START = 0.00001\n",
    "    LR_MAX = 0.00005 * strategy.num_replicas_in_sync\n",
    "    LR_MIN = 0.00001\n",
    "    LR_RAMPUP_EPOCHS = 5\n",
    "    LR_SUSTAIN_EPOCHS = 0\n",
    "    LR_EXP_DECAY = .8\n",
    "    \n",
    "    if epoch < LR_RAMPUP_EPOCHS:\n",
    "        lr = (LR_MAX - LR_START) / LR_RAMPUP_EPOCHS * epoch + LR_START\n",
    "    elif epoch < LR_RAMPUP_EPOCHS + LR_SUSTAIN_EPOCHS:\n",
    "        lr = LR_MAX\n",
    "    else:\n",
    "        lr = (LR_MAX - LR_MIN) * LR_EXP_DECAY ** (epoch - LR_RAMPUP_EPOCHS - LR_SUSTAIN_EPOCHS) + LR_MIN\n",
    "    return lr\n",
    "\n",
    "lr_callback = tf.keras.callbacks.LearningRateScheduler(lrfn, verbose = True)"
   ]
  },
  {
   "cell_type": "markdown",
   "metadata": {},
   "source": [
    "Lets visualize it ."
   ]
  },
  {
   "cell_type": "code",
   "execution_count": null,
   "metadata": {
    "execution": {
     "iopub.execute_input": "2023-11-11T17:33:24.231983Z",
     "iopub.status.busy": "2023-11-11T17:33:24.231603Z",
     "iopub.status.idle": "2023-11-11T17:33:24.432830Z",
     "shell.execute_reply": "2023-11-11T17:33:24.431989Z",
     "shell.execute_reply.started": "2023-11-11T17:33:24.231952Z"
    }
   },
   "outputs": [],
   "source": [
    "epoch_range = range(min(EPOCHS, 25))\n",
    "learning_rates = [lrfn(epoch) for epoch in epoch_range]\n",
    "\n",
    "# Plot the learning rates\n",
    "plt.figure(figsize=(6, 4))\n",
    "plt.plot(epoch_range, learning_rates)\n",
    "plt.title(\"Learning Rate Schedule\")\n",
    "plt.xlabel(\"Epoch\")\n",
    "plt.ylabel(\"Learning Rate\")\n",
    "plt.grid(True)\n",
    "plt.show()\n",
    "\n",
    "# Print the initial, maximum, and final learning rates\n",
    "print(f\"Learning rate schedule: {learning_rates[0]:.3g} to {max(learning_rates):.3g} to {learning_rates[-1]:.3g}\")\n"
   ]
  },
  {
   "cell_type": "markdown",
   "metadata": {},
   "source": [
    "# Most important part : Build the model "
   ]
  },
  {
   "cell_type": "code",
   "execution_count": null,
   "metadata": {
    "execution": {
     "iopub.execute_input": "2023-11-11T17:33:26.205266Z",
     "iopub.status.busy": "2023-11-11T17:33:26.204882Z",
     "iopub.status.idle": "2023-11-11T17:33:44.483537Z",
     "shell.execute_reply": "2023-11-11T17:33:44.482748Z",
     "shell.execute_reply.started": "2023-11-11T17:33:26.205238Z"
    }
   },
   "outputs": [],
   "source": [
    "with strategy.scope():\n",
    "    # Create DenseNet(201) model\n",
    "    rnet = DenseNet201(\n",
    "        input_shape = (224, 224, 3),\n",
    "        weights = 'imagenet',  # Use the preset parameters of ImageNet\n",
    "        include_top = False  # Drop the fully connected network on the top\n",
    "    )\n",
    "    \n",
    "    rnet.trainable = True\n",
    "    model = tf.keras.Sequential([\n",
    "        rnet,\n",
    "        tf.keras.layers.GlobalAveragePooling2D(),\n",
    "        tf.keras.layers.Dense(len(CLASSES), activation = 'softmax')\n",
    "    ])\n",
    "\n",
    "    model.compile(\n",
    "        optimizer=tf.keras.optimizers.Adam(), \n",
    "        loss = 'sparse_categorical_crossentropy', \n",
    "        metrics = ['sparse_categorical_accuracy']\n",
    "    )\n",
    "\n",
    "    model.summary()\n",
    "    # Save the model\n",
    "    model.save('DenseNet.h5')"
   ]
  },
  {
   "cell_type": "markdown",
   "metadata": {},
   "source": [
    "Since classes may not be uniformly distributed  add weights"
   ]
  },
  {
   "cell_type": "code",
   "execution_count": null,
   "metadata": {
    "execution": {
     "iopub.execute_input": "2023-11-11T17:37:04.584276Z",
     "iopub.status.busy": "2023-11-11T17:37:04.583865Z",
     "iopub.status.idle": "2023-11-11T17:37:12.136339Z",
     "shell.execute_reply": "2023-11-11T17:37:12.135426Z",
     "shell.execute_reply.started": "2023-11-11T17:37:04.584245Z"
    }
   },
   "outputs": [],
   "source": [
    "gc.enable()\n",
    "\n",
    "def get_training_dataset_raw():\n",
    "    dataset = load_dataset(TRAINING_FILENAMES, labeled = True, ordered = False)\n",
    "    return dataset\n",
    "\n",
    "raw_training_dataset = get_training_dataset_raw()\n",
    "\n",
    "label_counter = Counter()\n",
    "for images, labels, id in raw_training_dataset:\n",
    "    label_counter.update([labels.numpy()])\n",
    "    \n",
    "del raw_training_dataset    \n",
    "\n",
    "TARGET_NUM_PER_CLASS = 122\n",
    "\n",
    "def get_weight_for_class(class_id):\n",
    "    counting = label_counter[class_id]\n",
    "    weight = TARGET_NUM_PER_CLASS / counting\n",
    "    return weight\n",
    "\n",
    "weight_per_class = {class_id: get_weight_for_class(class_id) for class_id in range(104)}"
   ]
  },
  {
   "cell_type": "code",
   "execution_count": null,
   "metadata": {
    "execution": {
     "iopub.execute_input": "2023-11-11T17:40:53.080027Z",
     "iopub.status.busy": "2023-11-11T17:40:53.079571Z"
    }
   },
   "outputs": [],
   "source": [
    "history = model.fit(\n",
    "    get_training_dataset(),\n",
    "    steps_per_epoch = STEPS_PER_EPOCH,\n",
    "    epochs = 30,\n",
    "    callbacks = [lr_callback],\n",
    "    validation_data = get_validation_dataset(),\n",
    "    class_weight = weight_per_class\n",
    ")"
   ]
  },
  {
   "cell_type": "code",
   "execution_count": null,
   "metadata": {
    "execution": {
     "iopub.execute_input": "2023-11-11T17:37:18.094886Z",
     "iopub.status.busy": "2023-11-11T17:37:18.094063Z",
     "iopub.status.idle": "2023-11-11T17:37:51.554371Z",
     "shell.execute_reply": "2023-11-11T17:37:51.553564Z",
     "shell.execute_reply.started": "2023-11-11T17:37:18.094853Z"
    }
   },
   "outputs": [],
   "source": [
    "# Performance \n",
    "performance_model = model.evaluate(get_validation_dataset())"
   ]
  },
  {
   "cell_type": "markdown",
   "metadata": {},
   "source": [
    "# Plotting the result "
   ]
  },
  {
   "cell_type": "code",
   "execution_count": null,
   "metadata": {
    "execution": {
     "iopub.execute_input": "2023-11-11T16:02:48.828866Z",
     "iopub.status.busy": "2023-11-11T16:02:48.828469Z",
     "iopub.status.idle": "2023-11-11T16:02:49.207301Z",
     "shell.execute_reply": "2023-11-11T16:02:49.205857Z",
     "shell.execute_reply.started": "2023-11-11T16:02:48.828825Z"
    }
   },
   "outputs": [],
   "source": [
    "# Plotting\n",
    "plt.figure(figsize=(12, 4))\n",
    "\n",
    "# Plot training & validation accuracy values\n",
    "plt.subplot(1, 2, 1)\n",
    "plt.plot(history.history['sparse_categorical_accuracy'])\n",
    "plt.plot(history.history['val_sparse_categorical_accuracy'])\n",
    "plt.title('Model Accuracy')\n",
    "plt.ylabel('Accuracy')\n",
    "plt.xlabel('Epoch')\n",
    "plt.legend(['Train', 'Validation'], loc='upper left')\n",
    "\n",
    "# Plot training & validation loss values\n",
    "plt.subplot(1, 2, 2)\n",
    "plt.plot(history.history['loss'])\n",
    "plt.plot(history.history['val_loss'])\n",
    "plt.title('Model Loss')\n",
    "plt.ylabel('Loss')\n",
    "plt.xlabel('Epoch')\n",
    "plt.legend(['Train', 'Validation'], loc='upper left')\n",
    "\n",
    "plt.show()"
   ]
  },
  {
   "cell_type": "markdown",
   "metadata": {},
   "source": [
    "# Checking the model performance on the validation dataset "
   ]
  },
  {
   "cell_type": "code",
   "execution_count": null,
   "metadata": {
    "execution": {
     "iopub.execute_input": "2023-11-11T08:29:23.371511Z",
     "iopub.status.busy": "2023-11-11T08:29:23.370338Z",
     "iopub.status.idle": "2023-11-11T08:29:45.317677Z",
     "shell.execute_reply": "2023-11-11T08:29:45.316617Z",
     "shell.execute_reply.started": "2023-11-11T08:29:23.371463Z"
    }
   },
   "outputs": [],
   "source": [
    "cmdataset = get_validation_dataset(ordered = True)\n",
    "images_ds = cmdataset.map(lambda image, label: image)\n",
    "labels_ds = cmdataset.map(lambda image, label: label).unbatch() \n",
    "cm_correct_labels = next(iter(labels_ds.batch(NUM_VALIDATION_IMAGES))).numpy()  # Get everything as one batch\n",
    "cm_probabilities = model.predict(images_ds)  # The probability that each image is of each class\n",
    "cm_predictions = np.argmax(cm_probabilities, axis = -1)  # The class of the largest probability is what we need\n",
    "print(\"Correct labels: \", cm_correct_labels.shape, cm_correct_labels)\n",
    "print(\"Predicted labels: \", cm_predictions.shape, cm_predictions)"
   ]
  },
  {
   "cell_type": "code",
   "execution_count": null,
   "metadata": {
    "execution": {
     "iopub.execute_input": "2023-11-11T08:30:32.385528Z",
     "iopub.status.busy": "2023-11-11T08:30:32.384723Z",
     "iopub.status.idle": "2023-11-11T08:30:32.412762Z",
     "shell.execute_reply": "2023-11-11T08:30:32.411779Z",
     "shell.execute_reply.started": "2023-11-11T08:30:32.385492Z"
    }
   },
   "outputs": [],
   "source": [
    "cmat = confusion_matrix(cm_correct_labels, cm_predictions, labels = range(len(CLASSES)))\n",
    "score = f1_score(cm_correct_labels, cm_predictions, labels = range(len(CLASSES)), average = 'macro')\n",
    "precision = precision_score(cm_correct_labels, cm_predictions, labels = range(len(CLASSES)), average = 'macro')\n",
    "recall = recall_score(cm_correct_labels, cm_predictions, labels = range(len(CLASSES)), average = 'macro')\n",
    "print('f1 score: {:.3f}, precision: {:.3f}, recall: {:.3f}'.format(score, precision, recall))"
   ]
  },
  {
   "cell_type": "markdown",
   "metadata": {},
   "source": [
    "# Prediction "
   ]
  },
  {
   "cell_type": "code",
   "execution_count": null,
   "metadata": {
    "execution": {
     "iopub.execute_input": "2023-11-11T08:31:16.470961Z",
     "iopub.status.busy": "2023-11-11T08:31:16.470308Z",
     "iopub.status.idle": "2023-11-11T08:31:48.130779Z",
     "shell.execute_reply": "2023-11-11T08:31:48.129848Z",
     "shell.execute_reply.started": "2023-11-11T08:31:16.470927Z"
    }
   },
   "outputs": [],
   "source": [
    "test_ds = get_test_dataset(ordered = True)\n",
    "\n",
    "test_images_ds = test_ds.map(lambda image, idnum: image)\n",
    "probabilities = model.predict(test_images_ds)  # Compute the probability that each image is of each class\n",
    "predictions = np.argmax(probabilities, axis = -1)  # Use the one with largest probability as the predicted class\n",
    "print(predictions)\n",
    "\n",
    "# Generate submission file, remember to name it by \"submission.csv\"\n",
    "test_ids_ds = test_ds.map(lambda image, idnum: idnum).unbatch()\n",
    "test_ids = next(iter(test_ids_ds.batch(NUM_TEST_IMAGES))).numpy().astype('U')\n",
    "test = pd.DataFrame({\"id\": test_ids, \"label\": predictions})\n",
    "print(test.head)\n",
    "test.to_csv(\"submission.csv\",index = False)"
   ]
  },
  {
   "cell_type": "markdown",
   "metadata": {},
   "source": [
    "# Experiment with different model \n"
   ]
  },
  {
   "cell_type": "markdown",
   "metadata": {},
   "source": [
    "Model with 6 layers "
   ]
  },
  {
   "cell_type": "code",
   "execution_count": null,
   "metadata": {
    "execution": {
     "iopub.execute_input": "2023-11-11T08:56:59.288716Z",
     "iopub.status.busy": "2023-11-11T08:56:59.288336Z",
     "iopub.status.idle": "2023-11-11T08:57:00.227110Z",
     "shell.execute_reply": "2023-11-11T08:57:00.226142Z",
     "shell.execute_reply.started": "2023-11-11T08:56:59.288689Z"
    }
   },
   "outputs": [],
   "source": [
    "with strategy.scope():\n",
    "    model6 = tf.keras.Sequential([\n",
    "        tf.keras.layers.Flatten(input_shape = (224, 224, 3)),\n",
    "        tf.keras.layers.Dense(512, activation='relu'),\n",
    "        tf.keras.layers.LayerNormalization(),\n",
    "        tf.keras.layers.Dropout(0.5),\n",
    "        tf.keras.layers.Dense(256, activation='relu'),\n",
    "        tf.keras.layers.LayerNormalization(),\n",
    "        tf.keras.layers.Dense(128, activation='relu'),\n",
    "        tf.keras.layers.Dropout(0.5),\n",
    "        tf.keras.layers.Dense(64, activation='relu'),\n",
    "        tf.keras.layers.LayerNormalization(),\n",
    "        tf.keras.layers.Dense(32, activation='relu'),\n",
    "        tf.keras.layers.Dense(len(CLASSES), activation='softmax')\n",
    "    ])\n",
    "\n",
    "    model6.compile(optimizer='adam',\n",
    "                  loss='sparse_categorical_crossentropy',\n",
    "                  metrics=['accuracy'])\n",
    "    model6.summary()\n",
    "    # Save the model\n",
    "    model6.save('model6.h5')\n"
   ]
  },
  {
   "cell_type": "code",
   "execution_count": null,
   "metadata": {
    "execution": {
     "iopub.execute_input": "2023-11-11T08:57:34.951179Z",
     "iopub.status.busy": "2023-11-11T08:57:34.950231Z",
     "iopub.status.idle": "2023-11-11T09:01:45.761798Z",
     "shell.execute_reply": "2023-11-11T09:01:45.760906Z",
     "shell.execute_reply.started": "2023-11-11T08:57:34.951112Z"
    }
   },
   "outputs": [],
   "source": [
    "history6 = model6.fit(\n",
    "    get_training_dataset(),\n",
    "    steps_per_epoch = STEPS_PER_EPOCH,\n",
    "    epochs = EPOCHS,\n",
    "    callbacks = [lr_callback],\n",
    "    validation_data = get_validation_dataset(),\n",
    "    class_weight = weight_per_class\n",
    ")"
   ]
  },
  {
   "cell_type": "code",
   "execution_count": null,
   "metadata": {
    "execution": {
     "iopub.execute_input": "2023-11-11T10:50:45.743729Z",
     "iopub.status.busy": "2023-11-11T10:50:45.743371Z",
     "iopub.status.idle": "2023-11-11T10:50:46.086314Z",
     "shell.execute_reply": "2023-11-11T10:50:46.085413Z",
     "shell.execute_reply.started": "2023-11-11T10:50:45.743703Z"
    }
   },
   "outputs": [],
   "source": [
    "with strategy.scope():\n",
    "    model2 = tf.keras.Sequential([\n",
    "        tf.keras.layers.Flatten(input_shape = (224, 224, 3)),\n",
    "        tf.keras.layers.Dense(128, activation='relu'),\n",
    "        tf.keras.layers.Dropout(0.5),\n",
    "        tf.keras.layers.Dense(64, activation='relu'),\n",
    "        tf.keras.layers.LayerNormalization(),\n",
    "        tf.keras.layers.Dense(32, activation='relu'),\n",
    "        tf.keras.layers.Dense(len(CLASSES), activation='softmax')\n",
    "    ])\n",
    "\n",
    "    model2.compile(optimizer='adam',\n",
    "                  loss='sparse_categorical_crossentropy',\n",
    "                  metrics=['sparse_categorical_accuracy'])\n",
    "    model2.summary()\n",
    "    # Save the model\n",
    "    model2.save('model2.h5')\n"
   ]
  },
  {
   "cell_type": "code",
   "execution_count": null,
   "metadata": {
    "execution": {
     "iopub.execute_input": "2023-11-11T10:45:31.199965Z",
     "iopub.status.busy": "2023-11-11T10:45:31.198848Z",
     "iopub.status.idle": "2023-11-11T10:49:13.126441Z",
     "shell.execute_reply": "2023-11-11T10:49:13.125389Z",
     "shell.execute_reply.started": "2023-11-11T10:45:31.199903Z"
    }
   },
   "outputs": [],
   "source": [
    "history2 = model2.fit(\n",
    "    get_training_dataset(),\n",
    "    steps_per_epoch = STEPS_PER_EPOCH,\n",
    "    epochs = 20,\n",
    "    callbacks = [lr_callback],\n",
    "    validation_data = get_validation_dataset(),\n",
    "    class_weight = weight_per_class\n",
    ")"
   ]
  },
  {
   "cell_type": "markdown",
   "metadata": {},
   "source": [
    "# Performance "
   ]
  },
  {
   "cell_type": "code",
   "execution_count": null,
   "metadata": {
    "execution": {
     "iopub.execute_input": "2023-11-11T10:51:31.918818Z",
     "iopub.status.busy": "2023-11-11T10:51:31.918404Z",
     "iopub.status.idle": "2023-11-11T10:51:35.139029Z",
     "shell.execute_reply": "2023-11-11T10:51:35.137794Z",
     "shell.execute_reply.started": "2023-11-11T10:51:31.918783Z"
    }
   },
   "outputs": [],
   "source": [
    "performance_model2 =  model2.evaluate(get_validation_dataset())"
   ]
  },
  {
   "cell_type": "markdown",
   "metadata": {},
   "source": [
    "# Pretrained VGG16 model and add some layers "
   ]
  },
  {
   "cell_type": "code",
   "execution_count": null,
   "metadata": {
    "execution": {
     "iopub.execute_input": "2023-11-11T12:09:59.821631Z",
     "iopub.status.busy": "2023-11-11T12:09:59.821257Z",
     "iopub.status.idle": "2023-11-11T12:10:00.690313Z",
     "shell.execute_reply": "2023-11-11T12:10:00.689427Z",
     "shell.execute_reply.started": "2023-11-11T12:09:59.821599Z"
    }
   },
   "outputs": [],
   "source": [
    "from tensorflow.keras.applications import VGG16\n",
    "\n",
    "with strategy.scope():\n",
    "  ## Model Load \n",
    "    base_model_vgg16 = VGG16(weights='imagenet', include_top=False, input_shape=(224, 224, 3))\n",
    "    base_model_vgg16.trainable = True\n",
    "\n",
    "    x = Flatten()(base_model_vgg16.output)  \n",
    "    x = Dense(1024, activation='relu')(x))\n",
    "    x = Dense(512, activation='relu')(x)\n",
    "    output = Dense(len(CLASSES), activation='softmax')(x)\n",
    "\n",
    "    model_vgg16 = Model(base_model_vgg16.input, output)\n",
    "\n",
    "    model_vgg16.compile(optimizer='adam', loss='sparse_categorical_crossentropy', metrics=['sparse_categorical_accuracy'])\n",
    "    model_vgg16.summary()"
   ]
  },
  {
   "cell_type": "code",
   "execution_count": null,
   "metadata": {
    "execution": {
     "iopub.execute_input": "2023-11-11T12:10:00.692134Z",
     "iopub.status.busy": "2023-11-11T12:10:00.691858Z",
     "iopub.status.idle": "2023-11-11T12:28:11.931552Z",
     "shell.execute_reply": "2023-11-11T12:28:11.930641Z",
     "shell.execute_reply.started": "2023-11-11T12:10:00.692109Z"
    }
   },
   "outputs": [],
   "source": [
    "history_mvgg16 = model_vgg16.fit(\n",
    "    get_training_dataset(),\n",
    "    steps_per_epoch = STEPS_PER_EPOCH,\n",
    "    epochs = EPOCHS,\n",
    "    callbacks = [lr_callback],\n",
    "    validation_data = get_validation_dataset(),\n",
    "    class_weight = weight_per_class\n",
    ")"
   ]
  },
  {
   "cell_type": "markdown",
   "metadata": {},
   "source": [
    "# Performance "
   ]
  },
  {
   "cell_type": "code",
   "execution_count": null,
   "metadata": {
    "execution": {
     "iopub.execute_input": "2023-11-11T12:41:40.482559Z",
     "iopub.status.busy": "2023-11-11T12:41:40.481829Z",
     "iopub.status.idle": "2023-11-11T12:41:54.465913Z",
     "shell.execute_reply": "2023-11-11T12:41:54.464696Z",
     "shell.execute_reply.started": "2023-11-11T12:41:40.482523Z"
    }
   },
   "outputs": [],
   "source": [
    "performance_vgg16 = model_vgg16.evaluate(get_validation_dataset())"
   ]
  },
  {
   "cell_type": "markdown",
   "metadata": {},
   "source": [
    "# Visualization "
   ]
  },
  {
   "cell_type": "code",
   "execution_count": null,
   "metadata": {
    "execution": {
     "iopub.execute_input": "2023-11-11T12:42:48.134790Z",
     "iopub.status.busy": "2023-11-11T12:42:48.134356Z",
     "iopub.status.idle": "2023-11-11T12:42:48.540210Z",
     "shell.execute_reply": "2023-11-11T12:42:48.539196Z",
     "shell.execute_reply.started": "2023-11-11T12:42:48.134736Z"
    }
   },
   "outputs": [],
   "source": [
    "# Plotting\n",
    "plt.figure(figsize=(12, 4))\n",
    "\n",
    "# Plot training & validation accuracy values\n",
    "plt.subplot(1, 2, 1)\n",
    "plt.plot(history_mvgg16.history['sparse_categorical_accuracy'])\n",
    "plt.plot(history_mvgg16.history['val_sparse_categorical_accuracy'])\n",
    "plt.title('Model Accuracy')\n",
    "plt.ylabel('Accuracy')\n",
    "plt.xlabel('Epoch')\n",
    "plt.legend(['Train', 'Validation'], loc='upper left')\n",
    "\n",
    "# Plot training & validation loss values\n",
    "plt.subplot(1, 2, 2)\n",
    "plt.plot(history_mvgg16.history['loss'])\n",
    "plt.plot(history_mvgg16.history['val_loss'])\n",
    "plt.title('Model Loss')\n",
    "plt.ylabel('Loss')\n",
    "plt.xlabel('Epoch')\n",
    "plt.legend(['Train', 'Validation'], loc='upper left')\n",
    "\n",
    "plt.show()"
   ]
  },
  {
   "cell_type": "markdown",
   "metadata": {},
   "source": [
    "# Pretrained Mobilenetv2 with some layers "
   ]
  },
  {
   "cell_type": "code",
   "execution_count": null,
   "metadata": {
    "execution": {
     "iopub.execute_input": "2023-11-11T11:21:56.909217Z",
     "iopub.status.busy": "2023-11-11T11:21:56.908858Z",
     "iopub.status.idle": "2023-11-11T11:22:00.120019Z",
     "shell.execute_reply": "2023-11-11T11:22:00.119247Z",
     "shell.execute_reply.started": "2023-11-11T11:21:56.909189Z"
    }
   },
   "outputs": [],
   "source": [
    "from tensorflow.keras.applications import MobileNetV2\n",
    "with strategy.scope():\n",
    "# Model Loading \n",
    "    base_model_mobilenetv2 = MobileNetV2(weights='imagenet', include_top=False, input_shape=(224, 224, 3))\n",
    "\n",
    "\n",
    "    base_model_mobilenetv2.trainable = True\n",
    "\n",
    "    x = Flatten()(base_model_mobilenetv2.output)\n",
    "    x = Dense(512, activation='relu')(x)\n",
    "    x = Dropout(0.5)(x)\n",
    "    output = Dense(len(CLASSES), activation='softmax')(x)\n",
    "\n",
    "    model_mobilenetv2 = Model(base_model_mobilenetv2.input, output)\n",
    "\n",
    "    model_mobilenetv2.compile(optimizer='adam', loss='sparse_categorical_crossentropy', metrics=['sparse_categorical_accuracy'])\n",
    "    model_mobilenetv2.summary()"
   ]
  },
  {
   "cell_type": "code",
   "execution_count": null,
   "metadata": {
    "execution": {
     "iopub.execute_input": "2023-11-11T11:25:39.394214Z",
     "iopub.status.busy": "2023-11-11T11:25:39.393291Z",
     "iopub.status.idle": "2023-11-11T11:36:59.503008Z",
     "shell.execute_reply": "2023-11-11T11:36:59.501979Z",
     "shell.execute_reply.started": "2023-11-11T11:25:39.394176Z"
    }
   },
   "outputs": [],
   "source": [
    "history_mmbv = model_mobilenetv2.fit(\n",
    "    get_training_dataset(),\n",
    "    steps_per_epoch = STEPS_PER_EPOCH,\n",
    "    epochs = 20,\n",
    "    callbacks = [lr_callback],\n",
    "    validation_data = get_validation_dataset(),\n",
    "    class_weight = weight_per_class\n",
    ")"
   ]
  },
  {
   "cell_type": "markdown",
   "metadata": {},
   "source": [
    "# Performance "
   ]
  },
  {
   "cell_type": "code",
   "execution_count": null,
   "metadata": {
    "execution": {
     "iopub.execute_input": "2023-11-11T11:57:40.651375Z",
     "iopub.status.busy": "2023-11-11T11:57:40.650409Z",
     "iopub.status.idle": "2023-11-11T11:57:45.346641Z",
     "shell.execute_reply": "2023-11-11T11:57:45.345517Z",
     "shell.execute_reply.started": "2023-11-11T11:57:40.651339Z"
    }
   },
   "outputs": [],
   "source": [
    "performance_mmbv = model_mobilenetv2.evaluate(get_validation_dataset())"
   ]
  },
  {
   "cell_type": "markdown",
   "metadata": {},
   "source": [
    "# Plotting "
   ]
  },
  {
   "cell_type": "code",
   "execution_count": null,
   "metadata": {
    "execution": {
     "iopub.execute_input": "2023-11-11T11:57:48.019326Z",
     "iopub.status.busy": "2023-11-11T11:57:48.018496Z",
     "iopub.status.idle": "2023-11-11T11:57:48.560524Z",
     "shell.execute_reply": "2023-11-11T11:57:48.559491Z",
     "shell.execute_reply.started": "2023-11-11T11:57:48.019286Z"
    }
   },
   "outputs": [],
   "source": [
    "# Plotting\n",
    "plt.figure(figsize=(12, 4))\n",
    "\n",
    "# Plot training & validation accuracy values\n",
    "plt.subplot(1, 2, 1)\n",
    "plt.plot(history_mmbv.history['sparse_categorical_accuracy'])\n",
    "plt.plot(history_mmbv.history['val_sparse_categorical_accuracy'])\n",
    "plt.title('Model Accuracy')\n",
    "plt.ylabel('Accuracy')\n",
    "plt.xlabel('Epoch')\n",
    "plt.legend(['Train', 'Validation'], loc='upper left')\n",
    "\n",
    "# Plot training & validation loss values\n",
    "plt.subplot(1, 2, 2)\n",
    "plt.plot(history_mmbv.history['loss'])\n",
    "plt.plot(history_mmbv.history['val_loss'])\n",
    "plt.title('Model Loss')\n",
    "plt.ylabel('Loss')\n",
    "plt.xlabel('Epoch')\n",
    "plt.legend(['Train', 'Validation'], loc='upper left')\n",
    "\n",
    "plt.show()"
   ]
  },
  {
   "cell_type": "markdown",
   "metadata": {},
   "source": [
    "# Bar Plotting "
   ]
  },
  {
   "cell_type": "code",
   "execution_count": null,
   "metadata": {},
   "outputs": [],
   "source": [
    "accuracy_1 = performance_1[1]\n",
    "accuracy_2 = performance_model2[1]\n",
    "accuracy_3 = performance_vgg16[1]\n",
    "accuracy_4 = performance_mmbv[1]\n",
    "\n",
    "# Creating a bar chart\n",
    "labels = ['Model 1', 'Model 2', 'Model 3', 'Model 4']\n",
    "accuracies = [accuracy_1, accuracy_2, accuracy_3, accuracy_4]\n",
    "\n",
    "plt.bar(labels, accuracies, color=['blue', 'green', 'red', 'purple'])\n",
    "plt.xlabel('Model')\n",
    "plt.ylabel('Accuracy')\n",
    "plt.title('Model Performance Comparison')\n",
    "plt.ylim([0, 1])  # Assuming accuracy metric, set y-axis range from 0 to 1\n",
    "plt.show()"
   ]
  }
 ],
 "metadata": {
  "kernelspec": {
   "display_name": "Python 3 (ipykernel)",
   "language": "python",
   "name": "python3"
  },
  "language_info": {
   "codemirror_mode": {
    "name": "ipython",
    "version": 3
   },
   "file_extension": ".py",
   "mimetype": "text/x-python",
   "name": "python",
   "nbconvert_exporter": "python",
   "pygments_lexer": "ipython3",
   "version": "3.11.4"
  }
 },
 "nbformat": 4,
 "nbformat_minor": 4
}

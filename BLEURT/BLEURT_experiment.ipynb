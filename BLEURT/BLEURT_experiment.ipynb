{
  "nbformat": 4,
  "nbformat_minor": 0,
  "metadata": {
    "colab": {
      "provenance": [],
      "gpuType": "T4"
    },
    "kernelspec": {
      "name": "python3",
      "display_name": "Python 3"
    },
    "language_info": {
      "name": "python"
    },
    "accelerator": "GPU"
  },
  "cells": [
    {
      "cell_type": "markdown",
      "source": [
        "# Task 1 :      \n",
        "Check the code from this github link https://github.com/google-research/bleurtLinks to an external site. Run the code on the data given in this repository."
      ],
      "metadata": {
        "id": "t1euwAz_Ojrn"
      }
    },
    {
      "cell_type": "code",
      "execution_count": null,
      "metadata": {
        "colab": {
          "base_uri": "https://localhost:8080/"
        },
        "id": "CSKHFK7jAs3z",
        "outputId": "cbaac9d7-c761-4c6a-952e-0c66dfa18970"
      },
      "outputs": [
        {
          "output_type": "stream",
          "name": "stdout",
          "text": [
            "User Current Version:- 3.10.12 (main, Jun 11 2023, 05:26:28) [GCC 11.4.0]\n"
          ]
        }
      ],
      "source": [
        "import sys\n",
        "print(\"User Current Version:-\", sys.version)"
      ]
    },
    {
      "cell_type": "markdown",
      "source": [
        "## Clone the github ."
      ],
      "metadata": {
        "id": "bQXRouAsOr52"
      }
    },
    {
      "cell_type": "code",
      "source": [
        "! git clone https://github.com/google-research/bleurt.git"
      ],
      "metadata": {
        "colab": {
          "base_uri": "https://localhost:8080/"
        },
        "id": "5_eqCtE3C_Sm",
        "outputId": "338e75c5-39f4-42dc-d517-c69e77d7c48c"
      },
      "execution_count": null,
      "outputs": [
        {
          "output_type": "stream",
          "name": "stdout",
          "text": [
            "Cloning into 'bleurt'...\n",
            "remote: Enumerating objects: 134, done.\u001b[K\n",
            "remote: Counting objects: 100% (18/18), done.\u001b[K\n",
            "remote: Compressing objects: 100% (18/18), done.\u001b[K\n",
            "remote: Total 134 (delta 0), reused 17 (delta 0), pack-reused 116\u001b[K\n",
            "Receiving objects: 100% (134/134), 31.28 MiB | 32.71 MiB/s, done.\n",
            "Resolving deltas: 100% (49/49), done.\n"
          ]
        }
      ]
    },
    {
      "cell_type": "code",
      "source": [
        "cd /content/bleurt"
      ],
      "metadata": {
        "colab": {
          "base_uri": "https://localhost:8080/"
        },
        "id": "UveNdNoTDUs4",
        "outputId": "9d5d75cb-7764-4375-e07a-a59be17e8e16"
      },
      "execution_count": null,
      "outputs": [
        {
          "output_type": "stream",
          "name": "stdout",
          "text": [
            "/content/bleurt\n"
          ]
        }
      ]
    },
    {
      "cell_type": "markdown",
      "source": [
        "## Install the BLEURT library"
      ],
      "metadata": {
        "id": "kAf9uHIWOvca"
      }
    },
    {
      "cell_type": "code",
      "source": [
        "pip install ."
      ],
      "metadata": {
        "id": "yMzi8BfODZpo"
      },
      "execution_count": null,
      "outputs": []
    },
    {
      "cell_type": "code",
      "source": [
        "pip list"
      ],
      "metadata": {
        "id": "B54eTB_VDs-z"
      },
      "execution_count": null,
      "outputs": []
    },
    {
      "cell_type": "markdown",
      "source": [
        "## Running Unit Tests"
      ],
      "metadata": {
        "id": "WvLLqarrEu7i"
      }
    },
    {
      "cell_type": "code",
      "source": [
        "\n",
        "import unittest\n",
        "import bleurt"
      ],
      "metadata": {
        "id": "FngxcNuMEuut"
      },
      "execution_count": null,
      "outputs": []
    },
    {
      "cell_type": "code",
      "source": [
        "!python -m unittest bleurt.score_test"
      ],
      "metadata": {
        "colab": {
          "base_uri": "https://localhost:8080/"
        },
        "id": "V9z9gokdE02j",
        "outputId": "805194c4-a8e8-4e15-f3f0-bee9f420164c"
      },
      "execution_count": null,
      "outputs": [
        {
          "output_type": "stream",
          "name": "stdout",
          "text": [
            "2023-11-18 15:35:56.236741: E tensorflow/compiler/xla/stream_executor/cuda/cuda_dnn.cc:9342] Unable to register cuDNN factory: Attempting to register factory for plugin cuDNN when one has already been registered\n",
            "2023-11-18 15:35:56.236817: E tensorflow/compiler/xla/stream_executor/cuda/cuda_fft.cc:609] Unable to register cuFFT factory: Attempting to register factory for plugin cuFFT when one has already been registered\n",
            "2023-11-18 15:35:56.236877: E tensorflow/compiler/xla/stream_executor/cuda/cuda_blas.cc:1518] Unable to register cuBLAS factory: Attempting to register factory for plugin cuBLAS when one has already been registered\n",
            "2023-11-18 15:35:57.380501: W tensorflow/compiler/tf2tensorrt/utils/py_utils.cc:38] TF-TRT Warning: Could not find TensorRT\n",
            "2023-11-18 15:36:00.083415: W tensorflow/core/common_runtime/gpu/gpu_bfc_allocator.cc:47] Overriding orig_value setting because the TF_FORCE_GPU_ALLOW_GROWTH environment variable is set. Original config value was 0.\n",
            ".....s..\n",
            "----------------------------------------------------------------------\n",
            "Ran 8 tests in 9.253s\n",
            "\n",
            "OK (skipped=1)\n"
          ]
        }
      ]
    },
    {
      "cell_type": "code",
      "source": [
        "!python -m unittest bleurt.score_not_eager_test"
      ],
      "metadata": {
        "colab": {
          "base_uri": "https://localhost:8080/"
        },
        "id": "KGymtdpOE3k9",
        "outputId": "69ad1e26-48af-42f2-99ac-b62a619362bb"
      },
      "execution_count": null,
      "outputs": [
        {
          "output_type": "stream",
          "name": "stdout",
          "text": [
            "2023-11-18 15:36:17.000108: E tensorflow/compiler/xla/stream_executor/cuda/cuda_dnn.cc:9342] Unable to register cuDNN factory: Attempting to register factory for plugin cuDNN when one has already been registered\n",
            "2023-11-18 15:36:17.000167: E tensorflow/compiler/xla/stream_executor/cuda/cuda_fft.cc:609] Unable to register cuFFT factory: Attempting to register factory for plugin cuFFT when one has already been registered\n",
            "2023-11-18 15:36:17.000201: E tensorflow/compiler/xla/stream_executor/cuda/cuda_blas.cc:1518] Unable to register cuBLAS factory: Attempting to register factory for plugin cuBLAS when one has already been registered\n",
            "2023-11-18 15:36:18.269395: W tensorflow/compiler/tf2tensorrt/utils/py_utils.cc:38] TF-TRT Warning: Could not find TensorRT\n",
            "WARNING:tensorflow:Using Tensorflow Sessions---please call `.close()` when you are are done using the BleurtScorer.\n",
            "2023-11-18 15:36:21.985427: W tensorflow/core/common_runtime/gpu/gpu_bfc_allocator.cc:47] Overriding orig_value setting because the TF_FORCE_GPU_ALLOW_GROWTH environment variable is set. Original config value was 0.\n",
            ".s.\n",
            "----------------------------------------------------------------------\n",
            "Ran 3 tests in 6.442s\n",
            "\n",
            "OK (skipped=1)\n"
          ]
        }
      ]
    },
    {
      "cell_type": "code",
      "source": [
        "!python -m unittest bleurt.score_files_test"
      ],
      "metadata": {
        "colab": {
          "base_uri": "https://localhost:8080/"
        },
        "id": "3aOla3o9E3fp",
        "outputId": "987e644a-52f7-4ce6-8831-5b47a435c49a"
      },
      "execution_count": null,
      "outputs": [
        {
          "output_type": "stream",
          "name": "stdout",
          "text": [
            "2023-11-18 15:37:58.542496: E tensorflow/compiler/xla/stream_executor/cuda/cuda_dnn.cc:9342] Unable to register cuDNN factory: Attempting to register factory for plugin cuDNN when one has already been registered\n",
            "2023-11-18 15:37:58.542545: E tensorflow/compiler/xla/stream_executor/cuda/cuda_fft.cc:609] Unable to register cuFFT factory: Attempting to register factory for plugin cuFFT when one has already been registered\n",
            "2023-11-18 15:37:58.542588: E tensorflow/compiler/xla/stream_executor/cuda/cuda_blas.cc:1518] Unable to register cuBLAS factory: Attempting to register factory for plugin cuBLAS when one has already been registered\n",
            "2023-11-18 15:37:59.670344: W tensorflow/compiler/tf2tensorrt/utils/py_utils.cc:38] TF-TRT Warning: Could not find TensorRT\n",
            "2023-11-18 15:38:02.258967: W tensorflow/core/common_runtime/gpu/gpu_bfc_allocator.cc:47] Overriding orig_value setting because the TF_FORCE_GPU_ALLOW_GROWTH environment variable is set. Original config value was 0.\n",
            "........s..\n",
            "----------------------------------------------------------------------\n",
            "Ran 11 tests in 10.536s\n",
            "\n",
            "OK (skipped=1)\n"
          ]
        }
      ]
    },
    {
      "cell_type": "markdown",
      "source": [
        "## Using BLEURT for Scoring\n",
        "\n",
        "Once the tests pass, we can use BLEURT for scoring. Import the BLEURT scorer and load the pre-trained model."
      ],
      "metadata": {
        "id": "VFv-ERF_FDQv"
      }
    },
    {
      "cell_type": "markdown",
      "source": [
        "## Download BLEURT Base Checkpoint"
      ],
      "metadata": {
        "id": "ed8Zu0M9JrRM"
      }
    },
    {
      "cell_type": "code",
      "source": [
        "!wget https://storage.googleapis.com/bleurt-oss-21/BLEURT-20.zip\n",
        "!unzip BLEURT-20.zip\n"
      ],
      "metadata": {
        "colab": {
          "base_uri": "https://localhost:8080/"
        },
        "id": "3B0jP5n1Jt6p",
        "outputId": "bb13f10d-711f-4db4-9e86-dc25ac9eb88e"
      },
      "execution_count": null,
      "outputs": [
        {
          "output_type": "stream",
          "name": "stdout",
          "text": [
            "--2023-11-18 15:57:27--  https://storage.googleapis.com/bleurt-oss-21/BLEURT-20.zip\n",
            "Resolving storage.googleapis.com (storage.googleapis.com)... 209.85.146.207, 209.85.147.207, 142.250.125.207, ...\n",
            "Connecting to storage.googleapis.com (storage.googleapis.com)|209.85.146.207|:443... connected.\n",
            "HTTP request sent, awaiting response... 200 OK\n",
            "Length: 2140294207 (2.0G) [application/octet-stream]\n",
            "Saving to: ‘BLEURT-20.zip’\n",
            "\n",
            "BLEURT-20.zip       100%[===================>]   1.99G   192MB/s    in 13s     \n",
            "\n",
            "2023-11-18 15:57:40 (159 MB/s) - ‘BLEURT-20.zip’ saved [2140294207/2140294207]\n",
            "\n",
            "Archive:  BLEURT-20.zip\n",
            "   creating: BLEURT-20/\n",
            "  inflating: BLEURT-20/bert_config.json  \n",
            "  inflating: BLEURT-20/saved_model.pb  \n",
            "   creating: BLEURT-20/variables/\n",
            "  inflating: BLEURT-20/variables/variables.index  \n",
            "  inflating: BLEURT-20/variables/variables.data-00000-of-00001  \n",
            "  inflating: BLEURT-20/sent_piece.vocab  \n",
            "  inflating: BLEURT-20/bleurt_config.json  \n",
            "  inflating: BLEURT-20/sent_piece.model  \n"
          ]
        }
      ]
    },
    {
      "cell_type": "markdown",
      "source": [
        "## Run BLEURT Scoring\n",
        "\n",
        "  We can run BLEURT scoring on a sample set of sentences.\n",
        "\n",
        "    -candidate_file: Specifies the file containing candidate sentences.\n",
        "    -reference_file: Specifies the file containing reference sentences.\n",
        "    -bleurt_checkpoint: Specifies the BLEURT checkpoint or model to use (BLEURT-20 in this case)."
      ],
      "metadata": {
        "id": "9budYU2FJ2lb"
      }
    },
    {
      "cell_type": "markdown",
      "source": [
        "\n",
        "* Candidates :      \n",
        "\n",
        "\n",
        "\n",
        "        1.  Bud Powell was a legendary pianist.\n",
        "        2.  Bud Powell was a historical piano player.\n",
        "        3.  Bud Powell was a new yorker.\n",
        "        4.  Bud a day keeps the doctor away.\n",
        "\n",
        "\n",
        "* References :       \n",
        "\n",
        "      1. Bud Powell was a legendary painist.\n",
        "      2. Bud Powell was a legendary painist.\n",
        "      3.Bud Powell was a legendary painist.\n",
        "      4.Bud Powell was a legendary painist.\n",
        "\n",
        "\n",
        "\n",
        "\n",
        "\n"
      ],
      "metadata": {
        "id": "cjVFRWcrMSK1"
      }
    },
    {
      "cell_type": "code",
      "source": [
        "!python -m bleurt.score_files \\\n",
        "  -candidate_file=bleurt/test_data/candidates \\\n",
        "  -reference_file=bleurt/test_data/references \\\n",
        "  -bleurt_checkpoint=BLEURT-20\n"
      ],
      "metadata": {
        "id": "EYTvRCkeJ4tm"
      },
      "execution_count": null,
      "outputs": []
    },
    {
      "cell_type": "markdown",
      "source": [
        "# So  BLEURT scoring process has been completed successfully!\n",
        "\n",
        "Output ▶\n",
        "\n",
        "\n",
        "\n",
        "*   Scores ▶\n",
        "        \n",
        "\n",
        "          *   0.9777958393096924\n",
        "          *   0.7689998149871826\n",
        "          *   0.4400966763496399\n",
        "          *   0.16677340865135193\n",
        "\n",
        "These numerical values represent the BLEURT scores for the corresponding candidate-reference pairs. The higher the score, the better the alignment or quality of the candidate sentence with the reference sentences.\n",
        "\n",
        "\n",
        "\n",
        "\n",
        "\n",
        "\n",
        "\n",
        "\n",
        "\n"
      ],
      "metadata": {
        "id": "cIbcta4ILk8h"
      }
    },
    {
      "cell_type": "markdown",
      "source": [
        "## Python API"
      ],
      "metadata": {
        "id": "agpPVaI6OYRh"
      }
    },
    {
      "cell_type": "code",
      "source": [
        "from bleurt import score"
      ],
      "metadata": {
        "id": "x1Ib8oDYDyOm"
      },
      "execution_count": null,
      "outputs": []
    },
    {
      "cell_type": "code",
      "source": [
        "checkpoint = \"bleurt/test_checkpoint\"\n",
        "references = [\"This is a test.\"]\n",
        "candidates = [\"This is the test.\"]\n",
        "\n",
        "scorer = score.BleurtScorer(checkpoint)\n",
        "scores = scorer.score(references=references, candidates=candidates)\n",
        "assert isinstance(scores, list) and len(scores) == 1\n",
        "print(scores)"
      ],
      "metadata": {
        "colab": {
          "base_uri": "https://localhost:8080/"
        },
        "id": "4O46OSEjD6dm",
        "outputId": "5dd01099-6444-4748-ccc0-4194e56494fe"
      },
      "execution_count": null,
      "outputs": [
        {
          "output_type": "stream",
          "name": "stdout",
          "text": [
            "[0.7463243007659912]\n"
          ]
        }
      ]
    },
    {
      "cell_type": "markdown",
      "source": [
        "## Tensorflow API"
      ],
      "metadata": {
        "id": "6WGO80GBEO9i"
      }
    },
    {
      "cell_type": "code",
      "source": [
        "import tensorflow as tf\n",
        "from bleurt import score"
      ],
      "metadata": {
        "id": "e5bHWT-WEHjn"
      },
      "execution_count": null,
      "outputs": []
    },
    {
      "cell_type": "code",
      "source": [
        "references = tf.constant([\"This is a test.\"])\n",
        "candidates = tf.constant([\"This is the test.\"])\n",
        "\n",
        "bleurt_ops = score.create_bleurt_ops()\n",
        "bleurt_out = bleurt_ops(references=references, candidates=candidates)\n",
        "\n",
        "\n"
      ],
      "metadata": {
        "id": "xdCjqUjeERUu"
      },
      "execution_count": null,
      "outputs": []
    },
    {
      "cell_type": "code",
      "source": [
        "assert bleurt_out[\"predictions\"].shape == (1,)\n",
        "\n",
        "print(bleurt_out[\"predictions\"])"
      ],
      "metadata": {
        "colab": {
          "base_uri": "https://localhost:8080/"
        },
        "id": "JKSxtnjqEUhI",
        "outputId": "7a3173bd-22b2-466b-f78b-4c1de7b33f26"
      },
      "execution_count": null,
      "outputs": [
        {
          "output_type": "stream",
          "name": "stdout",
          "text": [
            "tf.Tensor([0.7463243], shape=(1,), dtype=float32)\n"
          ]
        }
      ]
    },
    {
      "cell_type": "markdown",
      "source": [
        "This output is a single BLEURT score . The exact value of the score will depend on the BLEURT model and its assessment of how well the candidate sentence (\"This is the test.\") aligns with the reference sentence (\"This is a test.\")."
      ],
      "metadata": {
        "id": "vJKUp4r_PhRs"
      }
    },
    {
      "cell_type": "code",
      "source": [
        "# numpy version\n",
        "print('Score is :',bleurt_out[\"predictions\"].numpy())"
      ],
      "metadata": {
        "colab": {
          "base_uri": "https://localhost:8080/"
        },
        "id": "vJ7SLMefEY9Q",
        "outputId": "0a4e3132-545e-4c42-bb81-c1c88c3443ed"
      },
      "execution_count": null,
      "outputs": [
        {
          "output_type": "stream",
          "name": "stdout",
          "text": [
            "Score is : [0.7463243]\n"
          ]
        }
      ]
    },
    {
      "cell_type": "markdown",
      "source": [
        "## Speeding Up BLEURT\n",
        "\n",
        "     Download the Distilled Model"
      ],
      "metadata": {
        "id": "eLaRjb6MQncl"
      }
    },
    {
      "cell_type": "code",
      "source": [
        "!wget https://storage.googleapis.com/bleurt-oss-21/BLEURT-20-D12.zip\n",
        "!unzip BLEURT-20-D12.zip\n"
      ],
      "metadata": {
        "colab": {
          "base_uri": "https://localhost:8080/"
        },
        "id": "c2RijgCDPyhX",
        "outputId": "b715c819-dae5-4d7b-fda8-ecde68f79eb6"
      },
      "execution_count": null,
      "outputs": [
        {
          "output_type": "stream",
          "name": "stdout",
          "text": [
            "--2023-11-18 16:27:53--  https://storage.googleapis.com/bleurt-oss-21/BLEURT-20-D12.zip\n",
            "Resolving storage.googleapis.com (storage.googleapis.com)... 74.125.124.207, 172.217.212.207, 172.217.214.207, ...\n",
            "Connecting to storage.googleapis.com (storage.googleapis.com)|74.125.124.207|:443... connected.\n",
            "HTTP request sent, awaiting response... 200 OK\n",
            "Length: 625304855 (596M) [application/octet-stream]\n",
            "Saving to: ‘BLEURT-20-D12.zip’\n",
            "\n",
            "BLEURT-20-D12.zip   100%[===================>] 596.34M  80.4MB/s    in 10s     \n",
            "\n",
            "2023-11-18 16:28:03 (58.5 MB/s) - ‘BLEURT-20-D12.zip’ saved [625304855/625304855]\n",
            "\n",
            "Archive:  BLEURT-20-D12.zip\n",
            "   creating: BLEURT-20-D12/\n",
            "  inflating: BLEURT-20-D12/bert_config.json  \n",
            "  inflating: BLEURT-20-D12/saved_model.pb  \n",
            "   creating: BLEURT-20-D12/variables/\n",
            "  inflating: BLEURT-20-D12/variables/variables.index  \n",
            "  inflating: BLEURT-20-D12/variables/variables.data-00000-of-00001  \n",
            "  inflating: BLEURT-20-D12/sent_piece.vocab  \n",
            "  inflating: BLEURT-20-D12/bleurt_config.json  \n",
            "  inflating: BLEURT-20-D12/sent_piece.model  \n"
          ]
        }
      ]
    },
    {
      "cell_type": "markdown",
      "source": [
        "## Run BLEURT with Optimizations"
      ],
      "metadata": {
        "id": "qv3LdQO9RGZ9"
      }
    },
    {
      "cell_type": "code",
      "source": [
        "%%time\n",
        "!python -m bleurt.score_files \\\n",
        "  -candidate_file=/content/bleurt/bleurt/test_data/candidates \\\n",
        "  -reference_file=/content/bleurt/bleurt/test_data/references \\\n",
        "  -bleurt_batch_size=100 \\\n",
        "  -batch_same_length=True \\\n",
        "  -bleurt_checkpoint=BLEURT-20-D12\n"
      ],
      "metadata": {
        "colab": {
          "base_uri": "https://localhost:8080/"
        },
        "id": "Kd1I3KmjQuKW",
        "outputId": "b0bc2563-615c-44e5-aab0-94f3bd1a9d3e"
      },
      "execution_count": null,
      "outputs": [
        {
          "output_type": "stream",
          "name": "stdout",
          "text": [
            "2023-11-18 16:31:32.146052: E tensorflow/compiler/xla/stream_executor/cuda/cuda_dnn.cc:9342] Unable to register cuDNN factory: Attempting to register factory for plugin cuDNN when one has already been registered\n",
            "2023-11-18 16:31:32.146109: E tensorflow/compiler/xla/stream_executor/cuda/cuda_fft.cc:609] Unable to register cuFFT factory: Attempting to register factory for plugin cuFFT when one has already been registered\n",
            "2023-11-18 16:31:32.146141: E tensorflow/compiler/xla/stream_executor/cuda/cuda_blas.cc:1518] Unable to register cuBLAS factory: Attempting to register factory for plugin cuBLAS when one has already been registered\n",
            "2023-11-18 16:31:33.212173: W tensorflow/compiler/tf2tensorrt/utils/py_utils.cc:38] TF-TRT Warning: Could not find TensorRT\n",
            "INFO:tensorflow:Running BLEURT scoring.\n",
            "I1118 16:31:34.733731 137748863459328 score_files.py:168] Running BLEURT scoring.\n",
            "WARNING:tensorflow:Enabling same length batching. BEWARE: this is an experimental feature.\n",
            "W1118 16:31:34.733995 137748863459328 score_files.py:118] Enabling same length batching. BEWARE: this is an experimental feature.\n",
            "INFO:tensorflow:Reading checkpoint BLEURT-20-D12.\n",
            "I1118 16:31:34.734095 137748863459328 score.py:160] Reading checkpoint BLEURT-20-D12.\n",
            "INFO:tensorflow:Config file found, reading.\n",
            "I1118 16:31:34.734247 137748863459328 checkpoint.py:91] Config file found, reading.\n",
            "INFO:tensorflow:Will load checkpoint BLEURT-20-D12\n",
            "I1118 16:31:34.734472 137748863459328 checkpoint.py:95] Will load checkpoint BLEURT-20-D12\n",
            "INFO:tensorflow:Loads full paths and checks that files exists.\n",
            "I1118 16:31:34.734569 137748863459328 checkpoint.py:97] Loads full paths and checks that files exists.\n",
            "INFO:tensorflow:... name:BLEURT-20-D12\n",
            "I1118 16:31:34.734639 137748863459328 checkpoint.py:101] ... name:BLEURT-20-D12\n",
            "INFO:tensorflow:... bert_config_file:bert_config.json\n",
            "I1118 16:31:34.734703 137748863459328 checkpoint.py:101] ... bert_config_file:bert_config.json\n",
            "INFO:tensorflow:... max_seq_length:512\n",
            "I1118 16:31:34.734791 137748863459328 checkpoint.py:101] ... max_seq_length:512\n",
            "INFO:tensorflow:... vocab_file:None\n",
            "I1118 16:31:34.734890 137748863459328 checkpoint.py:101] ... vocab_file:None\n",
            "INFO:tensorflow:... do_lower_case:None\n",
            "I1118 16:31:34.734956 137748863459328 checkpoint.py:101] ... do_lower_case:None\n",
            "INFO:tensorflow:... sp_model:sent_piece\n",
            "I1118 16:31:34.735019 137748863459328 checkpoint.py:101] ... sp_model:sent_piece\n",
            "INFO:tensorflow:... dynamic_seq_length:True\n",
            "I1118 16:31:34.735121 137748863459328 checkpoint.py:101] ... dynamic_seq_length:True\n",
            "INFO:tensorflow:Creating BLEURT scorer.\n",
            "I1118 16:31:34.735207 137748863459328 score.py:167] Creating BLEURT scorer.\n",
            "INFO:tensorflow:Creating SentencePiece tokenizer.\n",
            "I1118 16:31:34.735275 137748863459328 tokenizers.py:79] Creating SentencePiece tokenizer.\n",
            "INFO:tensorflow:Creating SentencePiece tokenizer.\n",
            "I1118 16:31:34.735362 137748863459328 tokenizers.py:58] Creating SentencePiece tokenizer.\n",
            "INFO:tensorflow:Will load model: BLEURT-20-D12/sent_piece.model.\n",
            "I1118 16:31:34.735429 137748863459328 tokenizers.py:60] Will load model: BLEURT-20-D12/sent_piece.model.\n",
            "INFO:tensorflow:SentencePiece tokenizer created.\n",
            "I1118 16:31:34.962648 137748863459328 tokenizers.py:64] SentencePiece tokenizer created.\n",
            "INFO:tensorflow:Creating Eager Mode predictor.\n",
            "I1118 16:31:34.962917 137748863459328 score.py:56] Creating Eager Mode predictor.\n",
            "INFO:tensorflow:Loading model.\n",
            "I1118 16:31:34.963027 137748863459328 score.py:61] Loading model.\n",
            "2023-11-18 16:31:36.209967: W tensorflow/core/common_runtime/gpu/gpu_bfc_allocator.cc:47] Overriding orig_value setting because the TF_FORCE_GPU_ALLOW_GROWTH environment variable is set. Original config value was 0.\n",
            "I1118 16:31:38.672811 137748863459328 load.py:1071] Fingerprint not found. Saved model loading will continue.\n",
            "INFO:tensorflow:BLEURT initialized.\n",
            "I1118 16:31:38.701144 137748863459328 score.py:173] BLEURT initialized.\n",
            "INFO:tensorflow:Computing BLEURT scores...\n",
            "I1118 16:31:38.701426 137748863459328 score_files.py:132] Computing BLEURT scores...\n",
            "INFO:tensorflow:Average batch sequence length: 21.0\n",
            "I1118 16:31:42.298992 137748863459328 score.py:316] Average batch sequence length: 21.0\n",
            "INFO:tensorflow:BLEURT scores computed.\n",
            "I1118 16:31:42.299221 137748863459328 score_files.py:140] BLEURT scores computed.\n",
            "0.9525628685951233\n",
            "0.7156853079795837\n",
            "0.4253561496734619\n",
            "0.23305043578147888\n",
            "INFO:tensorflow:Done.\n",
            "I1118 16:31:42.299367 137748863459328 score_files.py:150] Done.\n",
            "CPU times: user 86.8 ms, sys: 15.5 ms, total: 102 ms\n",
            "Wall time: 11.7 s\n"
          ]
        }
      ]
    },
    {
      "cell_type": "markdown",
      "source": [
        "BLEURT scores are :\n",
        "\n",
        "    0.9525628685951233\n",
        "    0.7156853079795837\n",
        "    0.4253561496734619\n",
        "    0.23305043578147888  \n",
        "\n",
        "It took CPU times: user 86.8 ms, sys: 15.5 ms, total: 102 ms , Wall time: 11.7 s"
      ],
      "metadata": {
        "id": "CpLIhCDKRvJz"
      }
    },
    {
      "cell_type": "markdown",
      "source": [
        "# Task 2 :\n",
        "**Point out at least three categories that this metric fails to capture, and give examples for each category. Then propose concrete solutions on addressing the challenges.**  "
      ],
      "metadata": {
        "id": "BQY4MhiBSnJT"
      }
    },
    {
      "cell_type": "markdown",
      "source": [
        "## Category 1 :    \n",
        "### Detection of Sarcasm or Irony"
      ],
      "metadata": {
        "id": "MreqCLvFUB66"
      }
    },
    {
      "cell_type": "code",
      "source": [
        "from bleurt import score"
      ],
      "metadata": {
        "id": "SRpIICELUOud"
      },
      "execution_count": null,
      "outputs": []
    },
    {
      "cell_type": "code",
      "source": [
        "# We will use python API\n",
        "checkpoint = \"bleurt/test_checkpoint\"\n",
        "references = [\"The movie was captivating and kept me on the edge of my seat.\"]\n",
        "candidates = [\"The movie was so good that I slept through the whole thing.\"]\n",
        "\n",
        "scorer = score.BleurtScorer(checkpoint)\n",
        "scores = scorer.score(references=references, candidates=candidates)\n",
        "assert isinstance(scores, list) and len(scores) == 1\n",
        "print(scores)"
      ],
      "metadata": {
        "colab": {
          "base_uri": "https://localhost:8080/"
        },
        "id": "2oYwxDygRIWa",
        "outputId": "e6236ab3-454a-44bf-8949-b34811cb30c4"
      },
      "execution_count": null,
      "outputs": [
        {
          "output_type": "stream",
          "name": "stdout",
          "text": [
            "[-1.0145339965820312]\n"
          ]
        }
      ]
    },
    {
      "cell_type": "markdown",
      "source": [
        "We see that score is : -1.0145339965820312  . That means both sentence are totally uncorellated where both meaning are same .\n",
        "\n",
        "***\n",
        "**BLEURT  metrics struggle with sarcasm or irony**."
      ],
      "metadata": {
        "id": "6vrSsBwGVAmi"
      }
    },
    {
      "cell_type": "markdown",
      "source": [
        "## Category 2 :    \n",
        "### Cultural and Idiomatic Expressions"
      ],
      "metadata": {
        "id": "GKVFeWKBVabg"
      }
    },
    {
      "cell_type": "code",
      "source": [
        "# We will use python API\n",
        "# Example\n",
        "checkpoint = \"bleurt/test_checkpoint\"\n",
        "references = [\"He spilled the beans about the surprise party.\"]\n",
        "candidates = [\"He revealed the secret about the surprise party.\"]\n",
        "\n",
        "scorer = score.BleurtScorer(checkpoint)\n",
        "scores = scorer.score(references=references, candidates=candidates)\n",
        "assert isinstance(scores, list) and len(scores) == 1\n",
        "print(scores)"
      ],
      "metadata": {
        "colab": {
          "base_uri": "https://localhost:8080/"
        },
        "id": "FizNsfTQS5aC",
        "outputId": "838ffe53-eda8-43a3-fb83-4197708d6382"
      },
      "execution_count": null,
      "outputs": [
        {
          "output_type": "stream",
          "name": "stdout",
          "text": [
            "[-0.5376939177513123]\n"
          ]
        }
      ]
    },
    {
      "cell_type": "markdown",
      "source": [
        "We can see the BLEURT score is -0.5376939177513123 , which mean uncorrelated .\n",
        "***\n",
        "But the idiom \"spilled the beans\" means to reveal a secret. While the candidate sentence conveys the same meaning, BLEURT might not recognize the equivalence due to the idiomatic expression.\n",
        "***\n",
        "\n",
        "**BLEURT might struggle with sentences that contain culturally specific references or idiomatic expressions.**"
      ],
      "metadata": {
        "id": "A_YROMmOVv5g"
      }
    },
    {
      "cell_type": "markdown",
      "source": [
        "## Category 3 :    \n",
        "### Subtlety in Politeness or Formality"
      ],
      "metadata": {
        "id": "mxWjQQY_WJFE"
      }
    },
    {
      "cell_type": "code",
      "source": [
        "# We will use python API\n",
        "# Example\n",
        "checkpoint = \"bleurt/test_checkpoint\"\n",
        "references = [\"Could you possibly open the window?\"]\n",
        "candidates = [\"Open the window, will you?\"]\n",
        "\n",
        "scorer = score.BleurtScorer(checkpoint)\n",
        "scores = scorer.score(references=references, candidates=candidates)\n",
        "assert isinstance(scores, list) and len(scores) == 1\n",
        "print(scores)"
      ],
      "metadata": {
        "colab": {
          "base_uri": "https://localhost:8080/"
        },
        "id": "549lON54TXzT",
        "outputId": "40a1c9d8-0015-410e-cbfc-9fc72d0a1bf7"
      },
      "execution_count": null,
      "outputs": [
        {
          "output_type": "stream",
          "name": "stdout",
          "text": [
            "[-0.15784744918346405]\n"
          ]
        }
      ]
    },
    {
      "cell_type": "markdown",
      "source": [
        "We can see the BLEURT score is -0.15784744918346405 , which mean uncorrelated .\n",
        "***\n",
        "Although both sentences are requests to open the window, the tone and politeness level differ significantly. BLEURT might not capture this difference effectively, as it's more about social context than linguistic content.\n",
        "\n",
        "***\n",
        "**BLEURT may not effectively capture these subtleties, especially in languages where formality is grammatically encoded.**"
      ],
      "metadata": {
        "id": "IK4p9nQtWsV5"
      }
    },
    {
      "cell_type": "markdown",
      "source": [
        "## Probable solutions to handle these problems ."
      ],
      "metadata": {
        "id": "Rj9OhOqcatLh"
      }
    },
    {
      "cell_type": "markdown",
      "source": [
        "**Answer** :\n",
        "\n",
        "*  Enhanced Training Data:\n",
        "     \n",
        "     Objective :  To improve the model's ability to understand and evaluate a wide range of linguistic expressions, especially those that are culturally or contextually specific.\n",
        "\n",
        "     Implementation : We have to gather the data from variety sources from different styles, regions, and cultural backgrounds.we have to includes those datasets with high instances of sarcasm, idioms, and figurative language.\n",
        "\n",
        "* Contextual Understanding :    \n",
        "\n",
        "    To develop models that can take into account the broader context in which language is used, not just the literal content of sentences.\n",
        "\n",
        "   we have to develop algorithms that can consider the wider context of the conversation or text. This might include understanding the preceding dialogue, the overall tone, or the specific situation in which the language is used.\n",
        "\n",
        "   Also we have to employ advance deep learning techniques .\n",
        "\n",
        "*  Human-in-the-Loop :      \n",
        "   \n",
        "   This is the most important idea like To leverage human judgment in conjunction with automated metrics for a more accurate and nuanced evaluation of language.\n",
        "\n",
        "   Generally there are 2 type of implementations are there :    \n",
        "\n",
        "\n",
        "\n",
        "            1.   Hybrid Evaluation Systems\n",
        "            2.   Feedback Mechanism\n",
        "   Both are basically those type of implementation where  automated evaluations  and human feedback will be used to continually .\n",
        "\n",
        "   ***\n",
        "\n",
        "   By implementing these strategies, evaluation metrics like BLEURT can be significantly improved to handle the intricacies of human language..\n",
        "\n",
        "\n",
        "\n",
        "   \n"
      ],
      "metadata": {
        "id": "hvnYI3rdbF2n"
      }
    },
    {
      "cell_type": "code",
      "source": [],
      "metadata": {
        "id": "rJ0L49XsdjQe"
      },
      "execution_count": null,
      "outputs": []
    }
  ]
}